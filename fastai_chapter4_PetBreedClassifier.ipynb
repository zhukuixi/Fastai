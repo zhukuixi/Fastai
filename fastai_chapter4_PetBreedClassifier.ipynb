{
  "nbformat": 4,
  "nbformat_minor": 0,
  "metadata": {
    "colab": {
      "name": "fastai_chapter4_PetBreedClassifier.ipynb",
      "provenance": [],
      "collapsed_sections": [],
      "authorship_tag": "ABX9TyNbY2T25A7/6ZY/FQcPz2v+",
      "include_colab_link": true
    },
    "kernelspec": {
      "name": "python3",
      "display_name": "Python 3"
    },
    "language_info": {
      "name": "python"
    }
  },
  "cells": [
    {
      "cell_type": "markdown",
      "metadata": {
        "id": "view-in-github",
        "colab_type": "text"
      },
      "source": [
        "<a href=\"https://colab.research.google.com/github/zhukuixi/Fastai/blob/main/fastai_chapter4_PetBreedClassifier.ipynb\" target=\"_parent\"><img src=\"https://colab.research.google.com/assets/colab-badge.svg\" alt=\"Open In Colab\"/></a>"
      ]
    },
    {
      "cell_type": "code",
      "execution_count": 1,
      "metadata": {
        "colab": {
          "base_uri": "https://localhost:8080/",
          "height": 37
        },
        "id": "f75eH9iKS0At",
        "outputId": "054ff644-9b42-4e53-d60f-f51fdee1a48c"
      },
      "outputs": [
        {
          "output_type": "display_data",
          "data": {
            "text/plain": [
              "<IPython.core.display.HTML object>"
            ],
            "text/html": [
              "\n",
              "<style>\n",
              "    /* Turns off some styling */\n",
              "    progress {\n",
              "        /* gets rid of default border in Firefox and Opera. */\n",
              "        border: none;\n",
              "        /* Needs to be in here for Safari polyfill so background images work as expected. */\n",
              "        background-size: auto;\n",
              "    }\n",
              "    progress:not([value]), progress:not([value])::-webkit-progress-bar {\n",
              "        background: repeating-linear-gradient(45deg, #7e7e7e, #7e7e7e 10px, #5c5c5c 10px, #5c5c5c 20px);\n",
              "    }\n",
              "    .progress-bar-interrupted, .progress-bar-interrupted::-webkit-progress-bar {\n",
              "        background: #F44336;\n",
              "    }\n",
              "</style>\n"
            ]
          },
          "metadata": {}
        },
        {
          "output_type": "display_data",
          "data": {
            "text/plain": [
              "<IPython.core.display.HTML object>"
            ],
            "text/html": [
              "\n",
              "    <div>\n",
              "      <progress value='811712512' class='' max='811706944' style='width:300px; height:20px; vertical-align: middle;'></progress>\n",
              "      100.00% [811712512/811706944 00:10&lt;00:00]\n",
              "    </div>\n",
              "    "
            ]
          },
          "metadata": {}
        }
      ],
      "source": [
        "from fastai.vision.all import *\n",
        "import re\n",
        "import pandas as pd\n",
        "path = untar_data(URLs.PETS)"
      ]
    },
    {
      "cell_type": "markdown",
      "source": [
        "### 探索data文件，并在DataBlock中用正则表达式实现样本的labeling"
      ],
      "metadata": {
        "id": "hU24zk_H3sl1"
      }
    },
    {
      "cell_type": "code",
      "source": [
        "path.ls()"
      ],
      "metadata": {
        "colab": {
          "base_uri": "https://localhost:8080/"
        },
        "id": "uX-g1gIZS2qz",
        "outputId": "1933abbb-db2f-4282-d3ea-8da51eaa0308"
      },
      "execution_count": 2,
      "outputs": [
        {
          "output_type": "execute_result",
          "data": {
            "text/plain": [
              "(#2) [Path('/root/.fastai/data/oxford-iiit-pet/images'),Path('/root/.fastai/data/oxford-iiit-pet/annotations')]"
            ]
          },
          "metadata": {},
          "execution_count": 2
        }
      ]
    },
    {
      "cell_type": "code",
      "source": [
        "imageFiles = (path/'images').ls()\n",
        "imageFiles"
      ],
      "metadata": {
        "colab": {
          "base_uri": "https://localhost:8080/"
        },
        "id": "7mMemc5qS4Ez",
        "outputId": "87c7095c-d195-4efc-aaee-fcc4c7ac7f59"
      },
      "execution_count": 20,
      "outputs": [
        {
          "output_type": "execute_result",
          "data": {
            "text/plain": [
              "(#7393) [Path('/root/.fastai/data/oxford-iiit-pet/images/boxer_102.jpg'),Path('/root/.fastai/data/oxford-iiit-pet/images/Maine_Coon_206.jpg'),Path('/root/.fastai/data/oxford-iiit-pet/images/great_pyrenees_132.jpg'),Path('/root/.fastai/data/oxford-iiit-pet/images/saint_bernard_104.jpg'),Path('/root/.fastai/data/oxford-iiit-pet/images/Ragdoll_20.jpg'),Path('/root/.fastai/data/oxford-iiit-pet/images/Ragdoll_132.jpg'),Path('/root/.fastai/data/oxford-iiit-pet/images/japanese_chin_197.jpg'),Path('/root/.fastai/data/oxford-iiit-pet/images/Bengal_174.jpg'),Path('/root/.fastai/data/oxford-iiit-pet/images/Sphynx_248.jpg'),Path('/root/.fastai/data/oxford-iiit-pet/images/boxer_184.jpg')...]"
            ]
          },
          "metadata": {},
          "execution_count": 20
        }
      ]
    },
    {
      "cell_type": "code",
      "source": [
        "pattern = r\"(\\w+)_\\d+.jpg$\"\n",
        "breed = [re.findall(pattern,str(f)) for f in imageFiles]\n",
        "breed_df = pd.DataFrame(breed,columns=['breed'])\n",
        "breed_df.value_counts('breed')"
      ],
      "metadata": {
        "colab": {
          "base_uri": "https://localhost:8080/"
        },
        "id": "7fIRgVKITCiL",
        "outputId": "fb988b1d-3d1f-48f9-9125-3943de36882b"
      },
      "execution_count": 50,
      "outputs": [
        {
          "output_type": "execute_result",
          "data": {
            "text/plain": [
              "breed\n",
              "Abyssinian                    200\n",
              "miniature_pinscher            200\n",
              "german_shorthaired            200\n",
              "great_pyrenees                200\n",
              "havanese                      200\n",
              "japanese_chin                 200\n",
              "keeshond                      200\n",
              "leonberger                    200\n",
              "newfoundland                  200\n",
              "Bengal                        200\n",
              "pomeranian                    200\n",
              "pug                           200\n",
              "saint_bernard                 200\n",
              "samoyed                       200\n",
              "shiba_inu                     200\n",
              "wheaten_terrier               200\n",
              "english_setter                200\n",
              "english_cocker_spaniel        200\n",
              "chihuahua                     200\n",
              "boxer                         200\n",
              "Birman                        200\n",
              "Bombay                        200\n",
              "British_Shorthair             200\n",
              "Egyptian_Mau                  200\n",
              "Maine_Coon                    200\n",
              "Persian                       200\n",
              "Ragdoll                       200\n",
              "Russian_Blue                  200\n",
              "Siamese                       200\n",
              "Sphynx                        200\n",
              "american_bulldog              200\n",
              "american_pit_bull_terrier     200\n",
              "basset_hound                  200\n",
              "beagle                        200\n",
              "yorkshire_terrier             200\n",
              "scottish_terrier              199\n",
              "staffordshire_bull_terrier    191\n",
              "dtype: int64"
            ]
          },
          "metadata": {},
          "execution_count": 50
        }
      ]
    },
    {
      "cell_type": "code",
      "source": [
        "pets = DataBlock(\n",
        "    blocks = (ImageBlock,CategoryBlock),\n",
        "    get_items = get_image_files,\n",
        "    get_y = using_attr(RegexLabeller(r\"(\\w+)_\\d+.jpg$\"),'name'),\n",
        "    splitter =RandomSplitter(seed=42),\n",
        "    item_tfms = Resize(460),\n",
        "    batch_tfms = aug_transforms(size=224,min_scale=0.75))\n",
        "dls = pets.dataloaders(path/'images')\n"
      ],
      "metadata": {
        "id": "icn00X453_YG"
      },
      "execution_count": 53,
      "outputs": []
    },
    {
      "cell_type": "code",
      "source": [
        ""
      ],
      "metadata": {
        "id": "-HzPTecaU7W5"
      },
      "execution_count": null,
      "outputs": []
    }
  ]
}