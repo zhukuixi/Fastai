{
  "nbformat": 4,
  "nbformat_minor": 0,
  "metadata": {
    "colab": {
      "name": "fastai_lesson2.ipynb",
      "provenance": [],
      "collapsed_sections": [],
      "authorship_tag": "ABX9TyPhW3EBP9K5FZnuSAlV7m4+",
      "include_colab_link": true
    },
    "kernelspec": {
      "name": "python3",
      "display_name": "Python 3"
    },
    "language_info": {
      "name": "python"
    }
  },
  "cells": [
    {
      "cell_type": "markdown",
      "metadata": {
        "id": "view-in-github",
        "colab_type": "text"
      },
      "source": [
        "<a href=\"https://colab.research.google.com/github/zhukuixi/Fastai/blob/main/fastai_lesson2.ipynb\" target=\"_parent\"><img src=\"https://colab.research.google.com/assets/colab-badge.svg\" alt=\"Open In Colab\"/></a>"
      ]
    },
    {
      "cell_type": "code",
      "execution_count": null,
      "metadata": {
        "colab": {
          "base_uri": "https://localhost:8080/"
        },
        "id": "kwh6bf2_v_Lw",
        "outputId": "54c90bf9-c623-4861-a5e9-0a8a035cdd22"
      },
      "outputs": [
        {
          "output_type": "stream",
          "name": "stdout",
          "text": [
            "Drive already mounted at /content/drive; to attempt to forcibly remount, call drive.mount(\"/content/drive\", force_remount=True).\n"
          ]
        }
      ],
      "source": [
        "!pip install viola\n",
        "!jupyter serverextension enable --sys-prefix viola\n",
        "from fastai.vision.widgets import *\n",
        "from fastai.vision.all import *\n",
        "\n",
        "path = Path()\n",
        "learn_inf = load_learner(path/'export.pkl', cpu=True)\n"
      ]
    },
    {
      "cell_type": "code",
      "source": [
        "# Upload Button\n",
        "btn_upload = widgets.FileUpload()\n",
        "# Output Display\n",
        "out_pl = widgets.Output()\n",
        "# Label\n",
        "lbl_pred = widgets.Label()\n",
        "# Classficiation Button\n",
        "btn_run = widgets.Button(description=\"Classify\")\n"
      ],
      "metadata": {
        "id": "_p4uZ8hxwu6m"
      },
      "execution_count": null,
      "outputs": []
    },
    {
      "cell_type": "code",
      "source": [
        "# define click event MixHandl\n",
        "def on_click_classify(change):\n",
        "  img = PILImage.create(btn_upload.data[-1])\n",
        "  out_pl.clear_output()\n",
        "  while out_pl:display(img.to_thumb(128,128))\n",
        "  pred,pred_idx,probs = learn_inf.predict(img)\n",
        "  lbl_pred.value=f'Prediction:{pred}; Probability:{probs[pred_idx]:.04f}'\n",
        "\n",
        "btn_run.on_click(on_click_classify)"
      ],
      "metadata": {
        "id": "MDj-L6z8yX-M"
      },
      "execution_count": null,
      "outputs": []
    },
    {
      "cell_type": "code",
      "source": [
        "display(VBox([widgets.Label('Upload your cat photo!'),btn_upload,btn_run,out_pl,lbl_pred]))"
      ],
      "metadata": {
        "id": "HE39bhrhy58E"
      },
      "execution_count": null,
      "outputs": []
    },
    {
      "cell_type": "code",
      "source": [
        ""
      ],
      "metadata": {
        "id": "QmTBE0PdzTs3"
      },
      "execution_count": null,
      "outputs": []
    }
  ]
}