{
  "nbformat": 4,
  "nbformat_minor": 0,
  "metadata": {
    "colab": {
      "name": "fastai_lesson4_Transformer.ipynb",
      "provenance": [],
      "collapsed_sections": [
        "Ew5wUaE6z3mG"
      ],
      "toc_visible": true,
      "authorship_tag": "ABX9TyO7xTgH718ls7Waa0eVszOw",
      "include_colab_link": true
    },
    "kernelspec": {
      "name": "python3",
      "display_name": "Python 3"
    },
    "language_info": {
      "name": "python"
    },
    "accelerator": "GPU",
    "gpuClass": "standard",
    "widgets": {
      "application/vnd.jupyter.widget-state+json": {
        "ffbb8dc2645a40ab919d1d9a61712a03": {
          "model_module": "@jupyter-widgets/controls",
          "model_name": "HBoxModel",
          "model_module_version": "1.5.0",
          "state": {
            "_dom_classes": [],
            "_model_module": "@jupyter-widgets/controls",
            "_model_module_version": "1.5.0",
            "_model_name": "HBoxModel",
            "_view_count": null,
            "_view_module": "@jupyter-widgets/controls",
            "_view_module_version": "1.5.0",
            "_view_name": "HBoxView",
            "box_style": "",
            "children": [
              "IPY_MODEL_3798a18d631a4f339fb4779e07b79280",
              "IPY_MODEL_44e7c0aa6e424b07bbe61568dad5f2c6",
              "IPY_MODEL_1098c1821835468697a99c5a93b834b9"
            ],
            "layout": "IPY_MODEL_3e394a0613e544d4adfef98b8f867dc6"
          }
        },
        "3798a18d631a4f339fb4779e07b79280": {
          "model_module": "@jupyter-widgets/controls",
          "model_name": "HTMLModel",
          "model_module_version": "1.5.0",
          "state": {
            "_dom_classes": [],
            "_model_module": "@jupyter-widgets/controls",
            "_model_module_version": "1.5.0",
            "_model_name": "HTMLModel",
            "_view_count": null,
            "_view_module": "@jupyter-widgets/controls",
            "_view_module_version": "1.5.0",
            "_view_name": "HTMLView",
            "description": "",
            "description_tooltip": null,
            "layout": "IPY_MODEL_6240bdfcf16a4fb29abea445c4725772",
            "placeholder": "​",
            "style": "IPY_MODEL_da3f3aabba08491e9f9cefd6374ae4a6",
            "value": "Downloading tokenizer_config.json: 100%"
          }
        },
        "44e7c0aa6e424b07bbe61568dad5f2c6": {
          "model_module": "@jupyter-widgets/controls",
          "model_name": "FloatProgressModel",
          "model_module_version": "1.5.0",
          "state": {
            "_dom_classes": [],
            "_model_module": "@jupyter-widgets/controls",
            "_model_module_version": "1.5.0",
            "_model_name": "FloatProgressModel",
            "_view_count": null,
            "_view_module": "@jupyter-widgets/controls",
            "_view_module_version": "1.5.0",
            "_view_name": "ProgressView",
            "bar_style": "success",
            "description": "",
            "description_tooltip": null,
            "layout": "IPY_MODEL_4e3cf5d054b44fbfb7b0d4ca66134c46",
            "max": 52,
            "min": 0,
            "orientation": "horizontal",
            "style": "IPY_MODEL_32d9878dc1d04615b3358c21e771ed0e",
            "value": 52
          }
        },
        "1098c1821835468697a99c5a93b834b9": {
          "model_module": "@jupyter-widgets/controls",
          "model_name": "HTMLModel",
          "model_module_version": "1.5.0",
          "state": {
            "_dom_classes": [],
            "_model_module": "@jupyter-widgets/controls",
            "_model_module_version": "1.5.0",
            "_model_name": "HTMLModel",
            "_view_count": null,
            "_view_module": "@jupyter-widgets/controls",
            "_view_module_version": "1.5.0",
            "_view_name": "HTMLView",
            "description": "",
            "description_tooltip": null,
            "layout": "IPY_MODEL_64f1dac3ebdc45ca97cb090ee3c97f73",
            "placeholder": "​",
            "style": "IPY_MODEL_cec3e097c29445f8a9dc54db21ee940a",
            "value": " 52.0/52.0 [00:00&lt;00:00, 1.59kB/s]"
          }
        },
        "3e394a0613e544d4adfef98b8f867dc6": {
          "model_module": "@jupyter-widgets/base",
          "model_name": "LayoutModel",
          "model_module_version": "1.2.0",
          "state": {
            "_model_module": "@jupyter-widgets/base",
            "_model_module_version": "1.2.0",
            "_model_name": "LayoutModel",
            "_view_count": null,
            "_view_module": "@jupyter-widgets/base",
            "_view_module_version": "1.2.0",
            "_view_name": "LayoutView",
            "align_content": null,
            "align_items": null,
            "align_self": null,
            "border": null,
            "bottom": null,
            "display": null,
            "flex": null,
            "flex_flow": null,
            "grid_area": null,
            "grid_auto_columns": null,
            "grid_auto_flow": null,
            "grid_auto_rows": null,
            "grid_column": null,
            "grid_gap": null,
            "grid_row": null,
            "grid_template_areas": null,
            "grid_template_columns": null,
            "grid_template_rows": null,
            "height": null,
            "justify_content": null,
            "justify_items": null,
            "left": null,
            "margin": null,
            "max_height": null,
            "max_width": null,
            "min_height": null,
            "min_width": null,
            "object_fit": null,
            "object_position": null,
            "order": null,
            "overflow": null,
            "overflow_x": null,
            "overflow_y": null,
            "padding": null,
            "right": null,
            "top": null,
            "visibility": null,
            "width": null
          }
        },
        "6240bdfcf16a4fb29abea445c4725772": {
          "model_module": "@jupyter-widgets/base",
          "model_name": "LayoutModel",
          "model_module_version": "1.2.0",
          "state": {
            "_model_module": "@jupyter-widgets/base",
            "_model_module_version": "1.2.0",
            "_model_name": "LayoutModel",
            "_view_count": null,
            "_view_module": "@jupyter-widgets/base",
            "_view_module_version": "1.2.0",
            "_view_name": "LayoutView",
            "align_content": null,
            "align_items": null,
            "align_self": null,
            "border": null,
            "bottom": null,
            "display": null,
            "flex": null,
            "flex_flow": null,
            "grid_area": null,
            "grid_auto_columns": null,
            "grid_auto_flow": null,
            "grid_auto_rows": null,
            "grid_column": null,
            "grid_gap": null,
            "grid_row": null,
            "grid_template_areas": null,
            "grid_template_columns": null,
            "grid_template_rows": null,
            "height": null,
            "justify_content": null,
            "justify_items": null,
            "left": null,
            "margin": null,
            "max_height": null,
            "max_width": null,
            "min_height": null,
            "min_width": null,
            "object_fit": null,
            "object_position": null,
            "order": null,
            "overflow": null,
            "overflow_x": null,
            "overflow_y": null,
            "padding": null,
            "right": null,
            "top": null,
            "visibility": null,
            "width": null
          }
        },
        "da3f3aabba08491e9f9cefd6374ae4a6": {
          "model_module": "@jupyter-widgets/controls",
          "model_name": "DescriptionStyleModel",
          "model_module_version": "1.5.0",
          "state": {
            "_model_module": "@jupyter-widgets/controls",
            "_model_module_version": "1.5.0",
            "_model_name": "DescriptionStyleModel",
            "_view_count": null,
            "_view_module": "@jupyter-widgets/base",
            "_view_module_version": "1.2.0",
            "_view_name": "StyleView",
            "description_width": ""
          }
        },
        "4e3cf5d054b44fbfb7b0d4ca66134c46": {
          "model_module": "@jupyter-widgets/base",
          "model_name": "LayoutModel",
          "model_module_version": "1.2.0",
          "state": {
            "_model_module": "@jupyter-widgets/base",
            "_model_module_version": "1.2.0",
            "_model_name": "LayoutModel",
            "_view_count": null,
            "_view_module": "@jupyter-widgets/base",
            "_view_module_version": "1.2.0",
            "_view_name": "LayoutView",
            "align_content": null,
            "align_items": null,
            "align_self": null,
            "border": null,
            "bottom": null,
            "display": null,
            "flex": null,
            "flex_flow": null,
            "grid_area": null,
            "grid_auto_columns": null,
            "grid_auto_flow": null,
            "grid_auto_rows": null,
            "grid_column": null,
            "grid_gap": null,
            "grid_row": null,
            "grid_template_areas": null,
            "grid_template_columns": null,
            "grid_template_rows": null,
            "height": null,
            "justify_content": null,
            "justify_items": null,
            "left": null,
            "margin": null,
            "max_height": null,
            "max_width": null,
            "min_height": null,
            "min_width": null,
            "object_fit": null,
            "object_position": null,
            "order": null,
            "overflow": null,
            "overflow_x": null,
            "overflow_y": null,
            "padding": null,
            "right": null,
            "top": null,
            "visibility": null,
            "width": null
          }
        },
        "32d9878dc1d04615b3358c21e771ed0e": {
          "model_module": "@jupyter-widgets/controls",
          "model_name": "ProgressStyleModel",
          "model_module_version": "1.5.0",
          "state": {
            "_model_module": "@jupyter-widgets/controls",
            "_model_module_version": "1.5.0",
            "_model_name": "ProgressStyleModel",
            "_view_count": null,
            "_view_module": "@jupyter-widgets/base",
            "_view_module_version": "1.2.0",
            "_view_name": "StyleView",
            "bar_color": null,
            "description_width": ""
          }
        },
        "64f1dac3ebdc45ca97cb090ee3c97f73": {
          "model_module": "@jupyter-widgets/base",
          "model_name": "LayoutModel",
          "model_module_version": "1.2.0",
          "state": {
            "_model_module": "@jupyter-widgets/base",
            "_model_module_version": "1.2.0",
            "_model_name": "LayoutModel",
            "_view_count": null,
            "_view_module": "@jupyter-widgets/base",
            "_view_module_version": "1.2.0",
            "_view_name": "LayoutView",
            "align_content": null,
            "align_items": null,
            "align_self": null,
            "border": null,
            "bottom": null,
            "display": null,
            "flex": null,
            "flex_flow": null,
            "grid_area": null,
            "grid_auto_columns": null,
            "grid_auto_flow": null,
            "grid_auto_rows": null,
            "grid_column": null,
            "grid_gap": null,
            "grid_row": null,
            "grid_template_areas": null,
            "grid_template_columns": null,
            "grid_template_rows": null,
            "height": null,
            "justify_content": null,
            "justify_items": null,
            "left": null,
            "margin": null,
            "max_height": null,
            "max_width": null,
            "min_height": null,
            "min_width": null,
            "object_fit": null,
            "object_position": null,
            "order": null,
            "overflow": null,
            "overflow_x": null,
            "overflow_y": null,
            "padding": null,
            "right": null,
            "top": null,
            "visibility": null,
            "width": null
          }
        },
        "cec3e097c29445f8a9dc54db21ee940a": {
          "model_module": "@jupyter-widgets/controls",
          "model_name": "DescriptionStyleModel",
          "model_module_version": "1.5.0",
          "state": {
            "_model_module": "@jupyter-widgets/controls",
            "_model_module_version": "1.5.0",
            "_model_name": "DescriptionStyleModel",
            "_view_count": null,
            "_view_module": "@jupyter-widgets/base",
            "_view_module_version": "1.2.0",
            "_view_name": "StyleView",
            "description_width": ""
          }
        },
        "10f2f41bd471494385ebf9e3c169f0f7": {
          "model_module": "@jupyter-widgets/controls",
          "model_name": "HBoxModel",
          "model_module_version": "1.5.0",
          "state": {
            "_dom_classes": [],
            "_model_module": "@jupyter-widgets/controls",
            "_model_module_version": "1.5.0",
            "_model_name": "HBoxModel",
            "_view_count": null,
            "_view_module": "@jupyter-widgets/controls",
            "_view_module_version": "1.5.0",
            "_view_name": "HBoxView",
            "box_style": "",
            "children": [
              "IPY_MODEL_e43a9bce174245ef8623c873bd486030",
              "IPY_MODEL_9de366b1cbfd47b89b5349c0f2fd3459",
              "IPY_MODEL_77d82838c95841bd95a249f15fb8ba77"
            ],
            "layout": "IPY_MODEL_14c1f6815b994881a4d4f3b0f89c4c1a"
          }
        },
        "e43a9bce174245ef8623c873bd486030": {
          "model_module": "@jupyter-widgets/controls",
          "model_name": "HTMLModel",
          "model_module_version": "1.5.0",
          "state": {
            "_dom_classes": [],
            "_model_module": "@jupyter-widgets/controls",
            "_model_module_version": "1.5.0",
            "_model_name": "HTMLModel",
            "_view_count": null,
            "_view_module": "@jupyter-widgets/controls",
            "_view_module_version": "1.5.0",
            "_view_name": "HTMLView",
            "description": "",
            "description_tooltip": null,
            "layout": "IPY_MODEL_ce4cb6d96ca94a5399738da72875801e",
            "placeholder": "​",
            "style": "IPY_MODEL_8a2cde09034440f4a5d2749f6b821825",
            "value": "Downloading config.json: 100%"
          }
        },
        "9de366b1cbfd47b89b5349c0f2fd3459": {
          "model_module": "@jupyter-widgets/controls",
          "model_name": "FloatProgressModel",
          "model_module_version": "1.5.0",
          "state": {
            "_dom_classes": [],
            "_model_module": "@jupyter-widgets/controls",
            "_model_module_version": "1.5.0",
            "_model_name": "FloatProgressModel",
            "_view_count": null,
            "_view_module": "@jupyter-widgets/controls",
            "_view_module_version": "1.5.0",
            "_view_name": "ProgressView",
            "bar_style": "success",
            "description": "",
            "description_tooltip": null,
            "layout": "IPY_MODEL_794251cd86d640fb8df9cc02ffd99856",
            "max": 578,
            "min": 0,
            "orientation": "horizontal",
            "style": "IPY_MODEL_b7acb16f102443c693bbad25ccc71d66",
            "value": 578
          }
        },
        "77d82838c95841bd95a249f15fb8ba77": {
          "model_module": "@jupyter-widgets/controls",
          "model_name": "HTMLModel",
          "model_module_version": "1.5.0",
          "state": {
            "_dom_classes": [],
            "_model_module": "@jupyter-widgets/controls",
            "_model_module_version": "1.5.0",
            "_model_name": "HTMLModel",
            "_view_count": null,
            "_view_module": "@jupyter-widgets/controls",
            "_view_module_version": "1.5.0",
            "_view_name": "HTMLView",
            "description": "",
            "description_tooltip": null,
            "layout": "IPY_MODEL_143df027eff64d6c9b029015b219ca84",
            "placeholder": "​",
            "style": "IPY_MODEL_ae90167253304afc8b29c6224a35fbd2",
            "value": " 578/578 [00:00&lt;00:00, 20.1kB/s]"
          }
        },
        "14c1f6815b994881a4d4f3b0f89c4c1a": {
          "model_module": "@jupyter-widgets/base",
          "model_name": "LayoutModel",
          "model_module_version": "1.2.0",
          "state": {
            "_model_module": "@jupyter-widgets/base",
            "_model_module_version": "1.2.0",
            "_model_name": "LayoutModel",
            "_view_count": null,
            "_view_module": "@jupyter-widgets/base",
            "_view_module_version": "1.2.0",
            "_view_name": "LayoutView",
            "align_content": null,
            "align_items": null,
            "align_self": null,
            "border": null,
            "bottom": null,
            "display": null,
            "flex": null,
            "flex_flow": null,
            "grid_area": null,
            "grid_auto_columns": null,
            "grid_auto_flow": null,
            "grid_auto_rows": null,
            "grid_column": null,
            "grid_gap": null,
            "grid_row": null,
            "grid_template_areas": null,
            "grid_template_columns": null,
            "grid_template_rows": null,
            "height": null,
            "justify_content": null,
            "justify_items": null,
            "left": null,
            "margin": null,
            "max_height": null,
            "max_width": null,
            "min_height": null,
            "min_width": null,
            "object_fit": null,
            "object_position": null,
            "order": null,
            "overflow": null,
            "overflow_x": null,
            "overflow_y": null,
            "padding": null,
            "right": null,
            "top": null,
            "visibility": null,
            "width": null
          }
        },
        "ce4cb6d96ca94a5399738da72875801e": {
          "model_module": "@jupyter-widgets/base",
          "model_name": "LayoutModel",
          "model_module_version": "1.2.0",
          "state": {
            "_model_module": "@jupyter-widgets/base",
            "_model_module_version": "1.2.0",
            "_model_name": "LayoutModel",
            "_view_count": null,
            "_view_module": "@jupyter-widgets/base",
            "_view_module_version": "1.2.0",
            "_view_name": "LayoutView",
            "align_content": null,
            "align_items": null,
            "align_self": null,
            "border": null,
            "bottom": null,
            "display": null,
            "flex": null,
            "flex_flow": null,
            "grid_area": null,
            "grid_auto_columns": null,
            "grid_auto_flow": null,
            "grid_auto_rows": null,
            "grid_column": null,
            "grid_gap": null,
            "grid_row": null,
            "grid_template_areas": null,
            "grid_template_columns": null,
            "grid_template_rows": null,
            "height": null,
            "justify_content": null,
            "justify_items": null,
            "left": null,
            "margin": null,
            "max_height": null,
            "max_width": null,
            "min_height": null,
            "min_width": null,
            "object_fit": null,
            "object_position": null,
            "order": null,
            "overflow": null,
            "overflow_x": null,
            "overflow_y": null,
            "padding": null,
            "right": null,
            "top": null,
            "visibility": null,
            "width": null
          }
        },
        "8a2cde09034440f4a5d2749f6b821825": {
          "model_module": "@jupyter-widgets/controls",
          "model_name": "DescriptionStyleModel",
          "model_module_version": "1.5.0",
          "state": {
            "_model_module": "@jupyter-widgets/controls",
            "_model_module_version": "1.5.0",
            "_model_name": "DescriptionStyleModel",
            "_view_count": null,
            "_view_module": "@jupyter-widgets/base",
            "_view_module_version": "1.2.0",
            "_view_name": "StyleView",
            "description_width": ""
          }
        },
        "794251cd86d640fb8df9cc02ffd99856": {
          "model_module": "@jupyter-widgets/base",
          "model_name": "LayoutModel",
          "model_module_version": "1.2.0",
          "state": {
            "_model_module": "@jupyter-widgets/base",
            "_model_module_version": "1.2.0",
            "_model_name": "LayoutModel",
            "_view_count": null,
            "_view_module": "@jupyter-widgets/base",
            "_view_module_version": "1.2.0",
            "_view_name": "LayoutView",
            "align_content": null,
            "align_items": null,
            "align_self": null,
            "border": null,
            "bottom": null,
            "display": null,
            "flex": null,
            "flex_flow": null,
            "grid_area": null,
            "grid_auto_columns": null,
            "grid_auto_flow": null,
            "grid_auto_rows": null,
            "grid_column": null,
            "grid_gap": null,
            "grid_row": null,
            "grid_template_areas": null,
            "grid_template_columns": null,
            "grid_template_rows": null,
            "height": null,
            "justify_content": null,
            "justify_items": null,
            "left": null,
            "margin": null,
            "max_height": null,
            "max_width": null,
            "min_height": null,
            "min_width": null,
            "object_fit": null,
            "object_position": null,
            "order": null,
            "overflow": null,
            "overflow_x": null,
            "overflow_y": null,
            "padding": null,
            "right": null,
            "top": null,
            "visibility": null,
            "width": null
          }
        },
        "b7acb16f102443c693bbad25ccc71d66": {
          "model_module": "@jupyter-widgets/controls",
          "model_name": "ProgressStyleModel",
          "model_module_version": "1.5.0",
          "state": {
            "_model_module": "@jupyter-widgets/controls",
            "_model_module_version": "1.5.0",
            "_model_name": "ProgressStyleModel",
            "_view_count": null,
            "_view_module": "@jupyter-widgets/base",
            "_view_module_version": "1.2.0",
            "_view_name": "StyleView",
            "bar_color": null,
            "description_width": ""
          }
        },
        "143df027eff64d6c9b029015b219ca84": {
          "model_module": "@jupyter-widgets/base",
          "model_name": "LayoutModel",
          "model_module_version": "1.2.0",
          "state": {
            "_model_module": "@jupyter-widgets/base",
            "_model_module_version": "1.2.0",
            "_model_name": "LayoutModel",
            "_view_count": null,
            "_view_module": "@jupyter-widgets/base",
            "_view_module_version": "1.2.0",
            "_view_name": "LayoutView",
            "align_content": null,
            "align_items": null,
            "align_self": null,
            "border": null,
            "bottom": null,
            "display": null,
            "flex": null,
            "flex_flow": null,
            "grid_area": null,
            "grid_auto_columns": null,
            "grid_auto_flow": null,
            "grid_auto_rows": null,
            "grid_column": null,
            "grid_gap": null,
            "grid_row": null,
            "grid_template_areas": null,
            "grid_template_columns": null,
            "grid_template_rows": null,
            "height": null,
            "justify_content": null,
            "justify_items": null,
            "left": null,
            "margin": null,
            "max_height": null,
            "max_width": null,
            "min_height": null,
            "min_width": null,
            "object_fit": null,
            "object_position": null,
            "order": null,
            "overflow": null,
            "overflow_x": null,
            "overflow_y": null,
            "padding": null,
            "right": null,
            "top": null,
            "visibility": null,
            "width": null
          }
        },
        "ae90167253304afc8b29c6224a35fbd2": {
          "model_module": "@jupyter-widgets/controls",
          "model_name": "DescriptionStyleModel",
          "model_module_version": "1.5.0",
          "state": {
            "_model_module": "@jupyter-widgets/controls",
            "_model_module_version": "1.5.0",
            "_model_name": "DescriptionStyleModel",
            "_view_count": null,
            "_view_module": "@jupyter-widgets/base",
            "_view_module_version": "1.2.0",
            "_view_name": "StyleView",
            "description_width": ""
          }
        },
        "c8d84052b6b94aacb2a7e303b954f7cb": {
          "model_module": "@jupyter-widgets/controls",
          "model_name": "HBoxModel",
          "model_module_version": "1.5.0",
          "state": {
            "_dom_classes": [],
            "_model_module": "@jupyter-widgets/controls",
            "_model_module_version": "1.5.0",
            "_model_name": "HBoxModel",
            "_view_count": null,
            "_view_module": "@jupyter-widgets/controls",
            "_view_module_version": "1.5.0",
            "_view_name": "HBoxView",
            "box_style": "",
            "children": [
              "IPY_MODEL_d7f25859d8a84ccdb4713b269e4dbff5",
              "IPY_MODEL_0a37fbd3f10345c4a8300dd090a7d6ff",
              "IPY_MODEL_ed682f207efe4c40bc5b20ead2ecda68"
            ],
            "layout": "IPY_MODEL_5477f91de12f4133ad8917c9b16ce687"
          }
        },
        "d7f25859d8a84ccdb4713b269e4dbff5": {
          "model_module": "@jupyter-widgets/controls",
          "model_name": "HTMLModel",
          "model_module_version": "1.5.0",
          "state": {
            "_dom_classes": [],
            "_model_module": "@jupyter-widgets/controls",
            "_model_module_version": "1.5.0",
            "_model_name": "HTMLModel",
            "_view_count": null,
            "_view_module": "@jupyter-widgets/controls",
            "_view_module_version": "1.5.0",
            "_view_name": "HTMLView",
            "description": "",
            "description_tooltip": null,
            "layout": "IPY_MODEL_4ac64c1a6d8047829897d9dc4d7abcd2",
            "placeholder": "​",
            "style": "IPY_MODEL_7567a4e0a40f42d3ac2958b38367171c",
            "value": "Downloading spm.model: 100%"
          }
        },
        "0a37fbd3f10345c4a8300dd090a7d6ff": {
          "model_module": "@jupyter-widgets/controls",
          "model_name": "FloatProgressModel",
          "model_module_version": "1.5.0",
          "state": {
            "_dom_classes": [],
            "_model_module": "@jupyter-widgets/controls",
            "_model_module_version": "1.5.0",
            "_model_name": "FloatProgressModel",
            "_view_count": null,
            "_view_module": "@jupyter-widgets/controls",
            "_view_module_version": "1.5.0",
            "_view_name": "ProgressView",
            "bar_style": "success",
            "description": "",
            "description_tooltip": null,
            "layout": "IPY_MODEL_775cb133bf6b41859be9af4f81d9495c",
            "max": 2464616,
            "min": 0,
            "orientation": "horizontal",
            "style": "IPY_MODEL_2c997ede32c34494939060535c1c2de7",
            "value": 2464616
          }
        },
        "ed682f207efe4c40bc5b20ead2ecda68": {
          "model_module": "@jupyter-widgets/controls",
          "model_name": "HTMLModel",
          "model_module_version": "1.5.0",
          "state": {
            "_dom_classes": [],
            "_model_module": "@jupyter-widgets/controls",
            "_model_module_version": "1.5.0",
            "_model_name": "HTMLModel",
            "_view_count": null,
            "_view_module": "@jupyter-widgets/controls",
            "_view_module_version": "1.5.0",
            "_view_name": "HTMLView",
            "description": "",
            "description_tooltip": null,
            "layout": "IPY_MODEL_4ff13e73b3c14f848481135636750949",
            "placeholder": "​",
            "style": "IPY_MODEL_f329aa9a9ddb4c44968a8eb2d3d76c22",
            "value": " 2.35M/2.35M [00:00&lt;00:00, 9.10MB/s]"
          }
        },
        "5477f91de12f4133ad8917c9b16ce687": {
          "model_module": "@jupyter-widgets/base",
          "model_name": "LayoutModel",
          "model_module_version": "1.2.0",
          "state": {
            "_model_module": "@jupyter-widgets/base",
            "_model_module_version": "1.2.0",
            "_model_name": "LayoutModel",
            "_view_count": null,
            "_view_module": "@jupyter-widgets/base",
            "_view_module_version": "1.2.0",
            "_view_name": "LayoutView",
            "align_content": null,
            "align_items": null,
            "align_self": null,
            "border": null,
            "bottom": null,
            "display": null,
            "flex": null,
            "flex_flow": null,
            "grid_area": null,
            "grid_auto_columns": null,
            "grid_auto_flow": null,
            "grid_auto_rows": null,
            "grid_column": null,
            "grid_gap": null,
            "grid_row": null,
            "grid_template_areas": null,
            "grid_template_columns": null,
            "grid_template_rows": null,
            "height": null,
            "justify_content": null,
            "justify_items": null,
            "left": null,
            "margin": null,
            "max_height": null,
            "max_width": null,
            "min_height": null,
            "min_width": null,
            "object_fit": null,
            "object_position": null,
            "order": null,
            "overflow": null,
            "overflow_x": null,
            "overflow_y": null,
            "padding": null,
            "right": null,
            "top": null,
            "visibility": null,
            "width": null
          }
        },
        "4ac64c1a6d8047829897d9dc4d7abcd2": {
          "model_module": "@jupyter-widgets/base",
          "model_name": "LayoutModel",
          "model_module_version": "1.2.0",
          "state": {
            "_model_module": "@jupyter-widgets/base",
            "_model_module_version": "1.2.0",
            "_model_name": "LayoutModel",
            "_view_count": null,
            "_view_module": "@jupyter-widgets/base",
            "_view_module_version": "1.2.0",
            "_view_name": "LayoutView",
            "align_content": null,
            "align_items": null,
            "align_self": null,
            "border": null,
            "bottom": null,
            "display": null,
            "flex": null,
            "flex_flow": null,
            "grid_area": null,
            "grid_auto_columns": null,
            "grid_auto_flow": null,
            "grid_auto_rows": null,
            "grid_column": null,
            "grid_gap": null,
            "grid_row": null,
            "grid_template_areas": null,
            "grid_template_columns": null,
            "grid_template_rows": null,
            "height": null,
            "justify_content": null,
            "justify_items": null,
            "left": null,
            "margin": null,
            "max_height": null,
            "max_width": null,
            "min_height": null,
            "min_width": null,
            "object_fit": null,
            "object_position": null,
            "order": null,
            "overflow": null,
            "overflow_x": null,
            "overflow_y": null,
            "padding": null,
            "right": null,
            "top": null,
            "visibility": null,
            "width": null
          }
        },
        "7567a4e0a40f42d3ac2958b38367171c": {
          "model_module": "@jupyter-widgets/controls",
          "model_name": "DescriptionStyleModel",
          "model_module_version": "1.5.0",
          "state": {
            "_model_module": "@jupyter-widgets/controls",
            "_model_module_version": "1.5.0",
            "_model_name": "DescriptionStyleModel",
            "_view_count": null,
            "_view_module": "@jupyter-widgets/base",
            "_view_module_version": "1.2.0",
            "_view_name": "StyleView",
            "description_width": ""
          }
        },
        "775cb133bf6b41859be9af4f81d9495c": {
          "model_module": "@jupyter-widgets/base",
          "model_name": "LayoutModel",
          "model_module_version": "1.2.0",
          "state": {
            "_model_module": "@jupyter-widgets/base",
            "_model_module_version": "1.2.0",
            "_model_name": "LayoutModel",
            "_view_count": null,
            "_view_module": "@jupyter-widgets/base",
            "_view_module_version": "1.2.0",
            "_view_name": "LayoutView",
            "align_content": null,
            "align_items": null,
            "align_self": null,
            "border": null,
            "bottom": null,
            "display": null,
            "flex": null,
            "flex_flow": null,
            "grid_area": null,
            "grid_auto_columns": null,
            "grid_auto_flow": null,
            "grid_auto_rows": null,
            "grid_column": null,
            "grid_gap": null,
            "grid_row": null,
            "grid_template_areas": null,
            "grid_template_columns": null,
            "grid_template_rows": null,
            "height": null,
            "justify_content": null,
            "justify_items": null,
            "left": null,
            "margin": null,
            "max_height": null,
            "max_width": null,
            "min_height": null,
            "min_width": null,
            "object_fit": null,
            "object_position": null,
            "order": null,
            "overflow": null,
            "overflow_x": null,
            "overflow_y": null,
            "padding": null,
            "right": null,
            "top": null,
            "visibility": null,
            "width": null
          }
        },
        "2c997ede32c34494939060535c1c2de7": {
          "model_module": "@jupyter-widgets/controls",
          "model_name": "ProgressStyleModel",
          "model_module_version": "1.5.0",
          "state": {
            "_model_module": "@jupyter-widgets/controls",
            "_model_module_version": "1.5.0",
            "_model_name": "ProgressStyleModel",
            "_view_count": null,
            "_view_module": "@jupyter-widgets/base",
            "_view_module_version": "1.2.0",
            "_view_name": "StyleView",
            "bar_color": null,
            "description_width": ""
          }
        },
        "4ff13e73b3c14f848481135636750949": {
          "model_module": "@jupyter-widgets/base",
          "model_name": "LayoutModel",
          "model_module_version": "1.2.0",
          "state": {
            "_model_module": "@jupyter-widgets/base",
            "_model_module_version": "1.2.0",
            "_model_name": "LayoutModel",
            "_view_count": null,
            "_view_module": "@jupyter-widgets/base",
            "_view_module_version": "1.2.0",
            "_view_name": "LayoutView",
            "align_content": null,
            "align_items": null,
            "align_self": null,
            "border": null,
            "bottom": null,
            "display": null,
            "flex": null,
            "flex_flow": null,
            "grid_area": null,
            "grid_auto_columns": null,
            "grid_auto_flow": null,
            "grid_auto_rows": null,
            "grid_column": null,
            "grid_gap": null,
            "grid_row": null,
            "grid_template_areas": null,
            "grid_template_columns": null,
            "grid_template_rows": null,
            "height": null,
            "justify_content": null,
            "justify_items": null,
            "left": null,
            "margin": null,
            "max_height": null,
            "max_width": null,
            "min_height": null,
            "min_width": null,
            "object_fit": null,
            "object_position": null,
            "order": null,
            "overflow": null,
            "overflow_x": null,
            "overflow_y": null,
            "padding": null,
            "right": null,
            "top": null,
            "visibility": null,
            "width": null
          }
        },
        "f329aa9a9ddb4c44968a8eb2d3d76c22": {
          "model_module": "@jupyter-widgets/controls",
          "model_name": "DescriptionStyleModel",
          "model_module_version": "1.5.0",
          "state": {
            "_model_module": "@jupyter-widgets/controls",
            "_model_module_version": "1.5.0",
            "_model_name": "DescriptionStyleModel",
            "_view_count": null,
            "_view_module": "@jupyter-widgets/base",
            "_view_module_version": "1.2.0",
            "_view_name": "StyleView",
            "description_width": ""
          }
        },
        "a096c11e1d61450a9171649373ff4c9a": {
          "model_module": "@jupyter-widgets/controls",
          "model_name": "HBoxModel",
          "model_module_version": "1.5.0",
          "state": {
            "_dom_classes": [],
            "_model_module": "@jupyter-widgets/controls",
            "_model_module_version": "1.5.0",
            "_model_name": "HBoxModel",
            "_view_count": null,
            "_view_module": "@jupyter-widgets/controls",
            "_view_module_version": "1.5.0",
            "_view_name": "HBoxView",
            "box_style": "",
            "children": [
              "IPY_MODEL_20dd31d6cb2e4d25b806c0fd7d1a33d4",
              "IPY_MODEL_a4b9e1bd0b1446a0a1fe3b36857792fe",
              "IPY_MODEL_a27dc4a1646c42f0b8caaf7998357e04"
            ],
            "layout": "IPY_MODEL_9ab3a15940ff4d078025663b38402759"
          }
        },
        "20dd31d6cb2e4d25b806c0fd7d1a33d4": {
          "model_module": "@jupyter-widgets/controls",
          "model_name": "HTMLModel",
          "model_module_version": "1.5.0",
          "state": {
            "_dom_classes": [],
            "_model_module": "@jupyter-widgets/controls",
            "_model_module_version": "1.5.0",
            "_model_name": "HTMLModel",
            "_view_count": null,
            "_view_module": "@jupyter-widgets/controls",
            "_view_module_version": "1.5.0",
            "_view_name": "HTMLView",
            "description": "",
            "description_tooltip": null,
            "layout": "IPY_MODEL_c59eb1d2ed814a70891ee13dcffa35b7",
            "placeholder": "​",
            "style": "IPY_MODEL_d2a86497767a4b4fb44c7964c68980f1",
            "value": "100%"
          }
        },
        "a4b9e1bd0b1446a0a1fe3b36857792fe": {
          "model_module": "@jupyter-widgets/controls",
          "model_name": "FloatProgressModel",
          "model_module_version": "1.5.0",
          "state": {
            "_dom_classes": [],
            "_model_module": "@jupyter-widgets/controls",
            "_model_module_version": "1.5.0",
            "_model_name": "FloatProgressModel",
            "_view_count": null,
            "_view_module": "@jupyter-widgets/controls",
            "_view_module_version": "1.5.0",
            "_view_name": "ProgressView",
            "bar_style": "success",
            "description": "",
            "description_tooltip": null,
            "layout": "IPY_MODEL_b575af89bfcc42ed8ce5ca9ecb1722bc",
            "max": 37,
            "min": 0,
            "orientation": "horizontal",
            "style": "IPY_MODEL_870f075470e2462784132f72322776ac",
            "value": 37
          }
        },
        "a27dc4a1646c42f0b8caaf7998357e04": {
          "model_module": "@jupyter-widgets/controls",
          "model_name": "HTMLModel",
          "model_module_version": "1.5.0",
          "state": {
            "_dom_classes": [],
            "_model_module": "@jupyter-widgets/controls",
            "_model_module_version": "1.5.0",
            "_model_name": "HTMLModel",
            "_view_count": null,
            "_view_module": "@jupyter-widgets/controls",
            "_view_module_version": "1.5.0",
            "_view_name": "HTMLView",
            "description": "",
            "description_tooltip": null,
            "layout": "IPY_MODEL_aae563ba7fdc438daeb048cb54ac631a",
            "placeholder": "​",
            "style": "IPY_MODEL_e21db6df37ad444884c37a5efb64626f",
            "value": " 37/37 [00:02&lt;00:00, 19.28ba/s]"
          }
        },
        "9ab3a15940ff4d078025663b38402759": {
          "model_module": "@jupyter-widgets/base",
          "model_name": "LayoutModel",
          "model_module_version": "1.2.0",
          "state": {
            "_model_module": "@jupyter-widgets/base",
            "_model_module_version": "1.2.0",
            "_model_name": "LayoutModel",
            "_view_count": null,
            "_view_module": "@jupyter-widgets/base",
            "_view_module_version": "1.2.0",
            "_view_name": "LayoutView",
            "align_content": null,
            "align_items": null,
            "align_self": null,
            "border": null,
            "bottom": null,
            "display": null,
            "flex": null,
            "flex_flow": null,
            "grid_area": null,
            "grid_auto_columns": null,
            "grid_auto_flow": null,
            "grid_auto_rows": null,
            "grid_column": null,
            "grid_gap": null,
            "grid_row": null,
            "grid_template_areas": null,
            "grid_template_columns": null,
            "grid_template_rows": null,
            "height": null,
            "justify_content": null,
            "justify_items": null,
            "left": null,
            "margin": null,
            "max_height": null,
            "max_width": null,
            "min_height": null,
            "min_width": null,
            "object_fit": null,
            "object_position": null,
            "order": null,
            "overflow": null,
            "overflow_x": null,
            "overflow_y": null,
            "padding": null,
            "right": null,
            "top": null,
            "visibility": null,
            "width": null
          }
        },
        "c59eb1d2ed814a70891ee13dcffa35b7": {
          "model_module": "@jupyter-widgets/base",
          "model_name": "LayoutModel",
          "model_module_version": "1.2.0",
          "state": {
            "_model_module": "@jupyter-widgets/base",
            "_model_module_version": "1.2.0",
            "_model_name": "LayoutModel",
            "_view_count": null,
            "_view_module": "@jupyter-widgets/base",
            "_view_module_version": "1.2.0",
            "_view_name": "LayoutView",
            "align_content": null,
            "align_items": null,
            "align_self": null,
            "border": null,
            "bottom": null,
            "display": null,
            "flex": null,
            "flex_flow": null,
            "grid_area": null,
            "grid_auto_columns": null,
            "grid_auto_flow": null,
            "grid_auto_rows": null,
            "grid_column": null,
            "grid_gap": null,
            "grid_row": null,
            "grid_template_areas": null,
            "grid_template_columns": null,
            "grid_template_rows": null,
            "height": null,
            "justify_content": null,
            "justify_items": null,
            "left": null,
            "margin": null,
            "max_height": null,
            "max_width": null,
            "min_height": null,
            "min_width": null,
            "object_fit": null,
            "object_position": null,
            "order": null,
            "overflow": null,
            "overflow_x": null,
            "overflow_y": null,
            "padding": null,
            "right": null,
            "top": null,
            "visibility": null,
            "width": null
          }
        },
        "d2a86497767a4b4fb44c7964c68980f1": {
          "model_module": "@jupyter-widgets/controls",
          "model_name": "DescriptionStyleModel",
          "model_module_version": "1.5.0",
          "state": {
            "_model_module": "@jupyter-widgets/controls",
            "_model_module_version": "1.5.0",
            "_model_name": "DescriptionStyleModel",
            "_view_count": null,
            "_view_module": "@jupyter-widgets/base",
            "_view_module_version": "1.2.0",
            "_view_name": "StyleView",
            "description_width": ""
          }
        },
        "b575af89bfcc42ed8ce5ca9ecb1722bc": {
          "model_module": "@jupyter-widgets/base",
          "model_name": "LayoutModel",
          "model_module_version": "1.2.0",
          "state": {
            "_model_module": "@jupyter-widgets/base",
            "_model_module_version": "1.2.0",
            "_model_name": "LayoutModel",
            "_view_count": null,
            "_view_module": "@jupyter-widgets/base",
            "_view_module_version": "1.2.0",
            "_view_name": "LayoutView",
            "align_content": null,
            "align_items": null,
            "align_self": null,
            "border": null,
            "bottom": null,
            "display": null,
            "flex": null,
            "flex_flow": null,
            "grid_area": null,
            "grid_auto_columns": null,
            "grid_auto_flow": null,
            "grid_auto_rows": null,
            "grid_column": null,
            "grid_gap": null,
            "grid_row": null,
            "grid_template_areas": null,
            "grid_template_columns": null,
            "grid_template_rows": null,
            "height": null,
            "justify_content": null,
            "justify_items": null,
            "left": null,
            "margin": null,
            "max_height": null,
            "max_width": null,
            "min_height": null,
            "min_width": null,
            "object_fit": null,
            "object_position": null,
            "order": null,
            "overflow": null,
            "overflow_x": null,
            "overflow_y": null,
            "padding": null,
            "right": null,
            "top": null,
            "visibility": null,
            "width": null
          }
        },
        "870f075470e2462784132f72322776ac": {
          "model_module": "@jupyter-widgets/controls",
          "model_name": "ProgressStyleModel",
          "model_module_version": "1.5.0",
          "state": {
            "_model_module": "@jupyter-widgets/controls",
            "_model_module_version": "1.5.0",
            "_model_name": "ProgressStyleModel",
            "_view_count": null,
            "_view_module": "@jupyter-widgets/base",
            "_view_module_version": "1.2.0",
            "_view_name": "StyleView",
            "bar_color": null,
            "description_width": ""
          }
        },
        "aae563ba7fdc438daeb048cb54ac631a": {
          "model_module": "@jupyter-widgets/base",
          "model_name": "LayoutModel",
          "model_module_version": "1.2.0",
          "state": {
            "_model_module": "@jupyter-widgets/base",
            "_model_module_version": "1.2.0",
            "_model_name": "LayoutModel",
            "_view_count": null,
            "_view_module": "@jupyter-widgets/base",
            "_view_module_version": "1.2.0",
            "_view_name": "LayoutView",
            "align_content": null,
            "align_items": null,
            "align_self": null,
            "border": null,
            "bottom": null,
            "display": null,
            "flex": null,
            "flex_flow": null,
            "grid_area": null,
            "grid_auto_columns": null,
            "grid_auto_flow": null,
            "grid_auto_rows": null,
            "grid_column": null,
            "grid_gap": null,
            "grid_row": null,
            "grid_template_areas": null,
            "grid_template_columns": null,
            "grid_template_rows": null,
            "height": null,
            "justify_content": null,
            "justify_items": null,
            "left": null,
            "margin": null,
            "max_height": null,
            "max_width": null,
            "min_height": null,
            "min_width": null,
            "object_fit": null,
            "object_position": null,
            "order": null,
            "overflow": null,
            "overflow_x": null,
            "overflow_y": null,
            "padding": null,
            "right": null,
            "top": null,
            "visibility": null,
            "width": null
          }
        },
        "e21db6df37ad444884c37a5efb64626f": {
          "model_module": "@jupyter-widgets/controls",
          "model_name": "DescriptionStyleModel",
          "model_module_version": "1.5.0",
          "state": {
            "_model_module": "@jupyter-widgets/controls",
            "_model_module_version": "1.5.0",
            "_model_name": "DescriptionStyleModel",
            "_view_count": null,
            "_view_module": "@jupyter-widgets/base",
            "_view_module_version": "1.2.0",
            "_view_name": "StyleView",
            "description_width": ""
          }
        },
        "5040ca4509674d4ca730ffd400a066ce": {
          "model_module": "@jupyter-widgets/controls",
          "model_name": "HBoxModel",
          "model_module_version": "1.5.0",
          "state": {
            "_dom_classes": [],
            "_model_module": "@jupyter-widgets/controls",
            "_model_module_version": "1.5.0",
            "_model_name": "HBoxModel",
            "_view_count": null,
            "_view_module": "@jupyter-widgets/controls",
            "_view_module_version": "1.5.0",
            "_view_name": "HBoxView",
            "box_style": "",
            "children": [
              "IPY_MODEL_11cf87ddc3114a7a823f69a3eb9da93d",
              "IPY_MODEL_41c6cf7958164115af520ea302d856ea",
              "IPY_MODEL_d3b6047c29eb444cb34ad3ab5a1a0b81"
            ],
            "layout": "IPY_MODEL_50d67cec84ad4a13ba13e8ed13c99368"
          }
        },
        "11cf87ddc3114a7a823f69a3eb9da93d": {
          "model_module": "@jupyter-widgets/controls",
          "model_name": "HTMLModel",
          "model_module_version": "1.5.0",
          "state": {
            "_dom_classes": [],
            "_model_module": "@jupyter-widgets/controls",
            "_model_module_version": "1.5.0",
            "_model_name": "HTMLModel",
            "_view_count": null,
            "_view_module": "@jupyter-widgets/controls",
            "_view_module_version": "1.5.0",
            "_view_name": "HTMLView",
            "description": "",
            "description_tooltip": null,
            "layout": "IPY_MODEL_d100d72a6c4d4a1c83d7ab55d2aaa79d",
            "placeholder": "​",
            "style": "IPY_MODEL_10d622ae108546f4be1c23fde4cf2d79",
            "value": "100%"
          }
        },
        "41c6cf7958164115af520ea302d856ea": {
          "model_module": "@jupyter-widgets/controls",
          "model_name": "FloatProgressModel",
          "model_module_version": "1.5.0",
          "state": {
            "_dom_classes": [],
            "_model_module": "@jupyter-widgets/controls",
            "_model_module_version": "1.5.0",
            "_model_name": "FloatProgressModel",
            "_view_count": null,
            "_view_module": "@jupyter-widgets/controls",
            "_view_module_version": "1.5.0",
            "_view_name": "ProgressView",
            "bar_style": "success",
            "description": "",
            "description_tooltip": null,
            "layout": "IPY_MODEL_a2702b6236234a8b9bf73332ef1cfd99",
            "max": 1,
            "min": 0,
            "orientation": "horizontal",
            "style": "IPY_MODEL_bf73230d64f144a898da8d5db585ec90",
            "value": 1
          }
        },
        "d3b6047c29eb444cb34ad3ab5a1a0b81": {
          "model_module": "@jupyter-widgets/controls",
          "model_name": "HTMLModel",
          "model_module_version": "1.5.0",
          "state": {
            "_dom_classes": [],
            "_model_module": "@jupyter-widgets/controls",
            "_model_module_version": "1.5.0",
            "_model_name": "HTMLModel",
            "_view_count": null,
            "_view_module": "@jupyter-widgets/controls",
            "_view_module_version": "1.5.0",
            "_view_name": "HTMLView",
            "description": "",
            "description_tooltip": null,
            "layout": "IPY_MODEL_335d0b4f8bfa4a2da641bf44e62b379d",
            "placeholder": "​",
            "style": "IPY_MODEL_bd79a96d08fa4e90a82bdfe65590ad34",
            "value": " 1/1 [00:00&lt;00:00, 26.14ba/s]"
          }
        },
        "50d67cec84ad4a13ba13e8ed13c99368": {
          "model_module": "@jupyter-widgets/base",
          "model_name": "LayoutModel",
          "model_module_version": "1.2.0",
          "state": {
            "_model_module": "@jupyter-widgets/base",
            "_model_module_version": "1.2.0",
            "_model_name": "LayoutModel",
            "_view_count": null,
            "_view_module": "@jupyter-widgets/base",
            "_view_module_version": "1.2.0",
            "_view_name": "LayoutView",
            "align_content": null,
            "align_items": null,
            "align_self": null,
            "border": null,
            "bottom": null,
            "display": null,
            "flex": null,
            "flex_flow": null,
            "grid_area": null,
            "grid_auto_columns": null,
            "grid_auto_flow": null,
            "grid_auto_rows": null,
            "grid_column": null,
            "grid_gap": null,
            "grid_row": null,
            "grid_template_areas": null,
            "grid_template_columns": null,
            "grid_template_rows": null,
            "height": null,
            "justify_content": null,
            "justify_items": null,
            "left": null,
            "margin": null,
            "max_height": null,
            "max_width": null,
            "min_height": null,
            "min_width": null,
            "object_fit": null,
            "object_position": null,
            "order": null,
            "overflow": null,
            "overflow_x": null,
            "overflow_y": null,
            "padding": null,
            "right": null,
            "top": null,
            "visibility": null,
            "width": null
          }
        },
        "d100d72a6c4d4a1c83d7ab55d2aaa79d": {
          "model_module": "@jupyter-widgets/base",
          "model_name": "LayoutModel",
          "model_module_version": "1.2.0",
          "state": {
            "_model_module": "@jupyter-widgets/base",
            "_model_module_version": "1.2.0",
            "_model_name": "LayoutModel",
            "_view_count": null,
            "_view_module": "@jupyter-widgets/base",
            "_view_module_version": "1.2.0",
            "_view_name": "LayoutView",
            "align_content": null,
            "align_items": null,
            "align_self": null,
            "border": null,
            "bottom": null,
            "display": null,
            "flex": null,
            "flex_flow": null,
            "grid_area": null,
            "grid_auto_columns": null,
            "grid_auto_flow": null,
            "grid_auto_rows": null,
            "grid_column": null,
            "grid_gap": null,
            "grid_row": null,
            "grid_template_areas": null,
            "grid_template_columns": null,
            "grid_template_rows": null,
            "height": null,
            "justify_content": null,
            "justify_items": null,
            "left": null,
            "margin": null,
            "max_height": null,
            "max_width": null,
            "min_height": null,
            "min_width": null,
            "object_fit": null,
            "object_position": null,
            "order": null,
            "overflow": null,
            "overflow_x": null,
            "overflow_y": null,
            "padding": null,
            "right": null,
            "top": null,
            "visibility": null,
            "width": null
          }
        },
        "10d622ae108546f4be1c23fde4cf2d79": {
          "model_module": "@jupyter-widgets/controls",
          "model_name": "DescriptionStyleModel",
          "model_module_version": "1.5.0",
          "state": {
            "_model_module": "@jupyter-widgets/controls",
            "_model_module_version": "1.5.0",
            "_model_name": "DescriptionStyleModel",
            "_view_count": null,
            "_view_module": "@jupyter-widgets/base",
            "_view_module_version": "1.2.0",
            "_view_name": "StyleView",
            "description_width": ""
          }
        },
        "a2702b6236234a8b9bf73332ef1cfd99": {
          "model_module": "@jupyter-widgets/base",
          "model_name": "LayoutModel",
          "model_module_version": "1.2.0",
          "state": {
            "_model_module": "@jupyter-widgets/base",
            "_model_module_version": "1.2.0",
            "_model_name": "LayoutModel",
            "_view_count": null,
            "_view_module": "@jupyter-widgets/base",
            "_view_module_version": "1.2.0",
            "_view_name": "LayoutView",
            "align_content": null,
            "align_items": null,
            "align_self": null,
            "border": null,
            "bottom": null,
            "display": null,
            "flex": null,
            "flex_flow": null,
            "grid_area": null,
            "grid_auto_columns": null,
            "grid_auto_flow": null,
            "grid_auto_rows": null,
            "grid_column": null,
            "grid_gap": null,
            "grid_row": null,
            "grid_template_areas": null,
            "grid_template_columns": null,
            "grid_template_rows": null,
            "height": null,
            "justify_content": null,
            "justify_items": null,
            "left": null,
            "margin": null,
            "max_height": null,
            "max_width": null,
            "min_height": null,
            "min_width": null,
            "object_fit": null,
            "object_position": null,
            "order": null,
            "overflow": null,
            "overflow_x": null,
            "overflow_y": null,
            "padding": null,
            "right": null,
            "top": null,
            "visibility": null,
            "width": null
          }
        },
        "bf73230d64f144a898da8d5db585ec90": {
          "model_module": "@jupyter-widgets/controls",
          "model_name": "ProgressStyleModel",
          "model_module_version": "1.5.0",
          "state": {
            "_model_module": "@jupyter-widgets/controls",
            "_model_module_version": "1.5.0",
            "_model_name": "ProgressStyleModel",
            "_view_count": null,
            "_view_module": "@jupyter-widgets/base",
            "_view_module_version": "1.2.0",
            "_view_name": "StyleView",
            "bar_color": null,
            "description_width": ""
          }
        },
        "335d0b4f8bfa4a2da641bf44e62b379d": {
          "model_module": "@jupyter-widgets/base",
          "model_name": "LayoutModel",
          "model_module_version": "1.2.0",
          "state": {
            "_model_module": "@jupyter-widgets/base",
            "_model_module_version": "1.2.0",
            "_model_name": "LayoutModel",
            "_view_count": null,
            "_view_module": "@jupyter-widgets/base",
            "_view_module_version": "1.2.0",
            "_view_name": "LayoutView",
            "align_content": null,
            "align_items": null,
            "align_self": null,
            "border": null,
            "bottom": null,
            "display": null,
            "flex": null,
            "flex_flow": null,
            "grid_area": null,
            "grid_auto_columns": null,
            "grid_auto_flow": null,
            "grid_auto_rows": null,
            "grid_column": null,
            "grid_gap": null,
            "grid_row": null,
            "grid_template_areas": null,
            "grid_template_columns": null,
            "grid_template_rows": null,
            "height": null,
            "justify_content": null,
            "justify_items": null,
            "left": null,
            "margin": null,
            "max_height": null,
            "max_width": null,
            "min_height": null,
            "min_width": null,
            "object_fit": null,
            "object_position": null,
            "order": null,
            "overflow": null,
            "overflow_x": null,
            "overflow_y": null,
            "padding": null,
            "right": null,
            "top": null,
            "visibility": null,
            "width": null
          }
        },
        "bd79a96d08fa4e90a82bdfe65590ad34": {
          "model_module": "@jupyter-widgets/controls",
          "model_name": "DescriptionStyleModel",
          "model_module_version": "1.5.0",
          "state": {
            "_model_module": "@jupyter-widgets/controls",
            "_model_module_version": "1.5.0",
            "_model_name": "DescriptionStyleModel",
            "_view_count": null,
            "_view_module": "@jupyter-widgets/base",
            "_view_module_version": "1.2.0",
            "_view_name": "StyleView",
            "description_width": ""
          }
        },
        "7eb7b6a7c9364dc1ba8a0669b911138d": {
          "model_module": "@jupyter-widgets/controls",
          "model_name": "HBoxModel",
          "model_module_version": "1.5.0",
          "state": {
            "_dom_classes": [],
            "_model_module": "@jupyter-widgets/controls",
            "_model_module_version": "1.5.0",
            "_model_name": "HBoxModel",
            "_view_count": null,
            "_view_module": "@jupyter-widgets/controls",
            "_view_module_version": "1.5.0",
            "_view_name": "HBoxView",
            "box_style": "",
            "children": [
              "IPY_MODEL_04dfa80741a241c9b63c5d13fbf388e0",
              "IPY_MODEL_b4c0cf1a4e10433e8861ba1b017d9cbd",
              "IPY_MODEL_524825486b914331966d847799bbe73c"
            ],
            "layout": "IPY_MODEL_1e2b19d1b59341e28987aa10b7093482"
          }
        },
        "04dfa80741a241c9b63c5d13fbf388e0": {
          "model_module": "@jupyter-widgets/controls",
          "model_name": "HTMLModel",
          "model_module_version": "1.5.0",
          "state": {
            "_dom_classes": [],
            "_model_module": "@jupyter-widgets/controls",
            "_model_module_version": "1.5.0",
            "_model_name": "HTMLModel",
            "_view_count": null,
            "_view_module": "@jupyter-widgets/controls",
            "_view_module_version": "1.5.0",
            "_view_name": "HTMLView",
            "description": "",
            "description_tooltip": null,
            "layout": "IPY_MODEL_aa7c56bf2f29492eb9fa43b591ffe706",
            "placeholder": "​",
            "style": "IPY_MODEL_b781125417a047a39bff4a123e35cc50",
            "value": "Downloading pytorch_model.bin: 100%"
          }
        },
        "b4c0cf1a4e10433e8861ba1b017d9cbd": {
          "model_module": "@jupyter-widgets/controls",
          "model_name": "FloatProgressModel",
          "model_module_version": "1.5.0",
          "state": {
            "_dom_classes": [],
            "_model_module": "@jupyter-widgets/controls",
            "_model_module_version": "1.5.0",
            "_model_name": "FloatProgressModel",
            "_view_count": null,
            "_view_module": "@jupyter-widgets/controls",
            "_view_module_version": "1.5.0",
            "_view_name": "ProgressView",
            "bar_style": "success",
            "description": "",
            "description_tooltip": null,
            "layout": "IPY_MODEL_3656235060694587829d86f864c53609",
            "max": 286059269,
            "min": 0,
            "orientation": "horizontal",
            "style": "IPY_MODEL_0f3a43b54f6e4dabbb998a1be739e30d",
            "value": 286059269
          }
        },
        "524825486b914331966d847799bbe73c": {
          "model_module": "@jupyter-widgets/controls",
          "model_name": "HTMLModel",
          "model_module_version": "1.5.0",
          "state": {
            "_dom_classes": [],
            "_model_module": "@jupyter-widgets/controls",
            "_model_module_version": "1.5.0",
            "_model_name": "HTMLModel",
            "_view_count": null,
            "_view_module": "@jupyter-widgets/controls",
            "_view_module_version": "1.5.0",
            "_view_name": "HTMLView",
            "description": "",
            "description_tooltip": null,
            "layout": "IPY_MODEL_1a2b18d449324ef5946cb4dc0f57c8fd",
            "placeholder": "​",
            "style": "IPY_MODEL_15a5523f0e9c48a783b51156a421703d",
            "value": " 273M/273M [00:15&lt;00:00, 38.5MB/s]"
          }
        },
        "1e2b19d1b59341e28987aa10b7093482": {
          "model_module": "@jupyter-widgets/base",
          "model_name": "LayoutModel",
          "model_module_version": "1.2.0",
          "state": {
            "_model_module": "@jupyter-widgets/base",
            "_model_module_version": "1.2.0",
            "_model_name": "LayoutModel",
            "_view_count": null,
            "_view_module": "@jupyter-widgets/base",
            "_view_module_version": "1.2.0",
            "_view_name": "LayoutView",
            "align_content": null,
            "align_items": null,
            "align_self": null,
            "border": null,
            "bottom": null,
            "display": null,
            "flex": null,
            "flex_flow": null,
            "grid_area": null,
            "grid_auto_columns": null,
            "grid_auto_flow": null,
            "grid_auto_rows": null,
            "grid_column": null,
            "grid_gap": null,
            "grid_row": null,
            "grid_template_areas": null,
            "grid_template_columns": null,
            "grid_template_rows": null,
            "height": null,
            "justify_content": null,
            "justify_items": null,
            "left": null,
            "margin": null,
            "max_height": null,
            "max_width": null,
            "min_height": null,
            "min_width": null,
            "object_fit": null,
            "object_position": null,
            "order": null,
            "overflow": null,
            "overflow_x": null,
            "overflow_y": null,
            "padding": null,
            "right": null,
            "top": null,
            "visibility": null,
            "width": null
          }
        },
        "aa7c56bf2f29492eb9fa43b591ffe706": {
          "model_module": "@jupyter-widgets/base",
          "model_name": "LayoutModel",
          "model_module_version": "1.2.0",
          "state": {
            "_model_module": "@jupyter-widgets/base",
            "_model_module_version": "1.2.0",
            "_model_name": "LayoutModel",
            "_view_count": null,
            "_view_module": "@jupyter-widgets/base",
            "_view_module_version": "1.2.0",
            "_view_name": "LayoutView",
            "align_content": null,
            "align_items": null,
            "align_self": null,
            "border": null,
            "bottom": null,
            "display": null,
            "flex": null,
            "flex_flow": null,
            "grid_area": null,
            "grid_auto_columns": null,
            "grid_auto_flow": null,
            "grid_auto_rows": null,
            "grid_column": null,
            "grid_gap": null,
            "grid_row": null,
            "grid_template_areas": null,
            "grid_template_columns": null,
            "grid_template_rows": null,
            "height": null,
            "justify_content": null,
            "justify_items": null,
            "left": null,
            "margin": null,
            "max_height": null,
            "max_width": null,
            "min_height": null,
            "min_width": null,
            "object_fit": null,
            "object_position": null,
            "order": null,
            "overflow": null,
            "overflow_x": null,
            "overflow_y": null,
            "padding": null,
            "right": null,
            "top": null,
            "visibility": null,
            "width": null
          }
        },
        "b781125417a047a39bff4a123e35cc50": {
          "model_module": "@jupyter-widgets/controls",
          "model_name": "DescriptionStyleModel",
          "model_module_version": "1.5.0",
          "state": {
            "_model_module": "@jupyter-widgets/controls",
            "_model_module_version": "1.5.0",
            "_model_name": "DescriptionStyleModel",
            "_view_count": null,
            "_view_module": "@jupyter-widgets/base",
            "_view_module_version": "1.2.0",
            "_view_name": "StyleView",
            "description_width": ""
          }
        },
        "3656235060694587829d86f864c53609": {
          "model_module": "@jupyter-widgets/base",
          "model_name": "LayoutModel",
          "model_module_version": "1.2.0",
          "state": {
            "_model_module": "@jupyter-widgets/base",
            "_model_module_version": "1.2.0",
            "_model_name": "LayoutModel",
            "_view_count": null,
            "_view_module": "@jupyter-widgets/base",
            "_view_module_version": "1.2.0",
            "_view_name": "LayoutView",
            "align_content": null,
            "align_items": null,
            "align_self": null,
            "border": null,
            "bottom": null,
            "display": null,
            "flex": null,
            "flex_flow": null,
            "grid_area": null,
            "grid_auto_columns": null,
            "grid_auto_flow": null,
            "grid_auto_rows": null,
            "grid_column": null,
            "grid_gap": null,
            "grid_row": null,
            "grid_template_areas": null,
            "grid_template_columns": null,
            "grid_template_rows": null,
            "height": null,
            "justify_content": null,
            "justify_items": null,
            "left": null,
            "margin": null,
            "max_height": null,
            "max_width": null,
            "min_height": null,
            "min_width": null,
            "object_fit": null,
            "object_position": null,
            "order": null,
            "overflow": null,
            "overflow_x": null,
            "overflow_y": null,
            "padding": null,
            "right": null,
            "top": null,
            "visibility": null,
            "width": null
          }
        },
        "0f3a43b54f6e4dabbb998a1be739e30d": {
          "model_module": "@jupyter-widgets/controls",
          "model_name": "ProgressStyleModel",
          "model_module_version": "1.5.0",
          "state": {
            "_model_module": "@jupyter-widgets/controls",
            "_model_module_version": "1.5.0",
            "_model_name": "ProgressStyleModel",
            "_view_count": null,
            "_view_module": "@jupyter-widgets/base",
            "_view_module_version": "1.2.0",
            "_view_name": "StyleView",
            "bar_color": null,
            "description_width": ""
          }
        },
        "1a2b18d449324ef5946cb4dc0f57c8fd": {
          "model_module": "@jupyter-widgets/base",
          "model_name": "LayoutModel",
          "model_module_version": "1.2.0",
          "state": {
            "_model_module": "@jupyter-widgets/base",
            "_model_module_version": "1.2.0",
            "_model_name": "LayoutModel",
            "_view_count": null,
            "_view_module": "@jupyter-widgets/base",
            "_view_module_version": "1.2.0",
            "_view_name": "LayoutView",
            "align_content": null,
            "align_items": null,
            "align_self": null,
            "border": null,
            "bottom": null,
            "display": null,
            "flex": null,
            "flex_flow": null,
            "grid_area": null,
            "grid_auto_columns": null,
            "grid_auto_flow": null,
            "grid_auto_rows": null,
            "grid_column": null,
            "grid_gap": null,
            "grid_row": null,
            "grid_template_areas": null,
            "grid_template_columns": null,
            "grid_template_rows": null,
            "height": null,
            "justify_content": null,
            "justify_items": null,
            "left": null,
            "margin": null,
            "max_height": null,
            "max_width": null,
            "min_height": null,
            "min_width": null,
            "object_fit": null,
            "object_position": null,
            "order": null,
            "overflow": null,
            "overflow_x": null,
            "overflow_y": null,
            "padding": null,
            "right": null,
            "top": null,
            "visibility": null,
            "width": null
          }
        },
        "15a5523f0e9c48a783b51156a421703d": {
          "model_module": "@jupyter-widgets/controls",
          "model_name": "DescriptionStyleModel",
          "model_module_version": "1.5.0",
          "state": {
            "_model_module": "@jupyter-widgets/controls",
            "_model_module_version": "1.5.0",
            "_model_name": "DescriptionStyleModel",
            "_view_count": null,
            "_view_module": "@jupyter-widgets/base",
            "_view_module_version": "1.2.0",
            "_view_name": "StyleView",
            "description_width": ""
          }
        },
        "ca3b44e49ba148629d62009eb62e6cd9": {
          "model_module": "@jupyter-widgets/controls",
          "model_name": "HBoxModel",
          "model_module_version": "1.5.0",
          "state": {
            "_dom_classes": [],
            "_model_module": "@jupyter-widgets/controls",
            "_model_module_version": "1.5.0",
            "_model_name": "HBoxModel",
            "_view_count": null,
            "_view_module": "@jupyter-widgets/controls",
            "_view_module_version": "1.5.0",
            "_view_name": "HBoxView",
            "box_style": "",
            "children": [
              "IPY_MODEL_0ff4e7744c88403d9cbe09b8ef11bb99",
              "IPY_MODEL_4461415dcf7245939df4385c70a71ead",
              "IPY_MODEL_323963f0da794461bcda2bab9e9e95da"
            ],
            "layout": "IPY_MODEL_5b0dda38a6664fb3b7465bc4281a3b5b"
          }
        },
        "0ff4e7744c88403d9cbe09b8ef11bb99": {
          "model_module": "@jupyter-widgets/controls",
          "model_name": "HTMLModel",
          "model_module_version": "1.5.0",
          "state": {
            "_dom_classes": [],
            "_model_module": "@jupyter-widgets/controls",
            "_model_module_version": "1.5.0",
            "_model_name": "HTMLModel",
            "_view_count": null,
            "_view_module": "@jupyter-widgets/controls",
            "_view_module_version": "1.5.0",
            "_view_name": "HTMLView",
            "description": "",
            "description_tooltip": null,
            "layout": "IPY_MODEL_374b40df9a0446039b0a00177dd9f9f5",
            "placeholder": "​",
            "style": "IPY_MODEL_b0d8b6df1141436bab72f6cae76cdbe7",
            "value": "Creating CSV from Arrow format: 100%"
          }
        },
        "4461415dcf7245939df4385c70a71ead": {
          "model_module": "@jupyter-widgets/controls",
          "model_name": "FloatProgressModel",
          "model_module_version": "1.5.0",
          "state": {
            "_dom_classes": [],
            "_model_module": "@jupyter-widgets/controls",
            "_model_module_version": "1.5.0",
            "_model_name": "FloatProgressModel",
            "_view_count": null,
            "_view_module": "@jupyter-widgets/controls",
            "_view_module_version": "1.5.0",
            "_view_name": "ProgressView",
            "bar_style": "success",
            "description": "",
            "description_tooltip": null,
            "layout": "IPY_MODEL_3962e5a77c7d418da08e2e938b63df58",
            "max": 1,
            "min": 0,
            "orientation": "horizontal",
            "style": "IPY_MODEL_80358994001b47e8b9ac27a9fa8166e9",
            "value": 1
          }
        },
        "323963f0da794461bcda2bab9e9e95da": {
          "model_module": "@jupyter-widgets/controls",
          "model_name": "HTMLModel",
          "model_module_version": "1.5.0",
          "state": {
            "_dom_classes": [],
            "_model_module": "@jupyter-widgets/controls",
            "_model_module_version": "1.5.0",
            "_model_name": "HTMLModel",
            "_view_count": null,
            "_view_module": "@jupyter-widgets/controls",
            "_view_module_version": "1.5.0",
            "_view_name": "HTMLView",
            "description": "",
            "description_tooltip": null,
            "layout": "IPY_MODEL_0ff8b5023fb5468e94e327cbd9fede54",
            "placeholder": "​",
            "style": "IPY_MODEL_1cdfcd7a5d1141fc89f6e1f2461984bb",
            "value": " 1/1 [00:00&lt;00:00, 24.96ba/s]"
          }
        },
        "5b0dda38a6664fb3b7465bc4281a3b5b": {
          "model_module": "@jupyter-widgets/base",
          "model_name": "LayoutModel",
          "model_module_version": "1.2.0",
          "state": {
            "_model_module": "@jupyter-widgets/base",
            "_model_module_version": "1.2.0",
            "_model_name": "LayoutModel",
            "_view_count": null,
            "_view_module": "@jupyter-widgets/base",
            "_view_module_version": "1.2.0",
            "_view_name": "LayoutView",
            "align_content": null,
            "align_items": null,
            "align_self": null,
            "border": null,
            "bottom": null,
            "display": null,
            "flex": null,
            "flex_flow": null,
            "grid_area": null,
            "grid_auto_columns": null,
            "grid_auto_flow": null,
            "grid_auto_rows": null,
            "grid_column": null,
            "grid_gap": null,
            "grid_row": null,
            "grid_template_areas": null,
            "grid_template_columns": null,
            "grid_template_rows": null,
            "height": null,
            "justify_content": null,
            "justify_items": null,
            "left": null,
            "margin": null,
            "max_height": null,
            "max_width": null,
            "min_height": null,
            "min_width": null,
            "object_fit": null,
            "object_position": null,
            "order": null,
            "overflow": null,
            "overflow_x": null,
            "overflow_y": null,
            "padding": null,
            "right": null,
            "top": null,
            "visibility": null,
            "width": null
          }
        },
        "374b40df9a0446039b0a00177dd9f9f5": {
          "model_module": "@jupyter-widgets/base",
          "model_name": "LayoutModel",
          "model_module_version": "1.2.0",
          "state": {
            "_model_module": "@jupyter-widgets/base",
            "_model_module_version": "1.2.0",
            "_model_name": "LayoutModel",
            "_view_count": null,
            "_view_module": "@jupyter-widgets/base",
            "_view_module_version": "1.2.0",
            "_view_name": "LayoutView",
            "align_content": null,
            "align_items": null,
            "align_self": null,
            "border": null,
            "bottom": null,
            "display": null,
            "flex": null,
            "flex_flow": null,
            "grid_area": null,
            "grid_auto_columns": null,
            "grid_auto_flow": null,
            "grid_auto_rows": null,
            "grid_column": null,
            "grid_gap": null,
            "grid_row": null,
            "grid_template_areas": null,
            "grid_template_columns": null,
            "grid_template_rows": null,
            "height": null,
            "justify_content": null,
            "justify_items": null,
            "left": null,
            "margin": null,
            "max_height": null,
            "max_width": null,
            "min_height": null,
            "min_width": null,
            "object_fit": null,
            "object_position": null,
            "order": null,
            "overflow": null,
            "overflow_x": null,
            "overflow_y": null,
            "padding": null,
            "right": null,
            "top": null,
            "visibility": null,
            "width": null
          }
        },
        "b0d8b6df1141436bab72f6cae76cdbe7": {
          "model_module": "@jupyter-widgets/controls",
          "model_name": "DescriptionStyleModel",
          "model_module_version": "1.5.0",
          "state": {
            "_model_module": "@jupyter-widgets/controls",
            "_model_module_version": "1.5.0",
            "_model_name": "DescriptionStyleModel",
            "_view_count": null,
            "_view_module": "@jupyter-widgets/base",
            "_view_module_version": "1.2.0",
            "_view_name": "StyleView",
            "description_width": ""
          }
        },
        "3962e5a77c7d418da08e2e938b63df58": {
          "model_module": "@jupyter-widgets/base",
          "model_name": "LayoutModel",
          "model_module_version": "1.2.0",
          "state": {
            "_model_module": "@jupyter-widgets/base",
            "_model_module_version": "1.2.0",
            "_model_name": "LayoutModel",
            "_view_count": null,
            "_view_module": "@jupyter-widgets/base",
            "_view_module_version": "1.2.0",
            "_view_name": "LayoutView",
            "align_content": null,
            "align_items": null,
            "align_self": null,
            "border": null,
            "bottom": null,
            "display": null,
            "flex": null,
            "flex_flow": null,
            "grid_area": null,
            "grid_auto_columns": null,
            "grid_auto_flow": null,
            "grid_auto_rows": null,
            "grid_column": null,
            "grid_gap": null,
            "grid_row": null,
            "grid_template_areas": null,
            "grid_template_columns": null,
            "grid_template_rows": null,
            "height": null,
            "justify_content": null,
            "justify_items": null,
            "left": null,
            "margin": null,
            "max_height": null,
            "max_width": null,
            "min_height": null,
            "min_width": null,
            "object_fit": null,
            "object_position": null,
            "order": null,
            "overflow": null,
            "overflow_x": null,
            "overflow_y": null,
            "padding": null,
            "right": null,
            "top": null,
            "visibility": null,
            "width": null
          }
        },
        "80358994001b47e8b9ac27a9fa8166e9": {
          "model_module": "@jupyter-widgets/controls",
          "model_name": "ProgressStyleModel",
          "model_module_version": "1.5.0",
          "state": {
            "_model_module": "@jupyter-widgets/controls",
            "_model_module_version": "1.5.0",
            "_model_name": "ProgressStyleModel",
            "_view_count": null,
            "_view_module": "@jupyter-widgets/base",
            "_view_module_version": "1.2.0",
            "_view_name": "StyleView",
            "bar_color": null,
            "description_width": ""
          }
        },
        "0ff8b5023fb5468e94e327cbd9fede54": {
          "model_module": "@jupyter-widgets/base",
          "model_name": "LayoutModel",
          "model_module_version": "1.2.0",
          "state": {
            "_model_module": "@jupyter-widgets/base",
            "_model_module_version": "1.2.0",
            "_model_name": "LayoutModel",
            "_view_count": null,
            "_view_module": "@jupyter-widgets/base",
            "_view_module_version": "1.2.0",
            "_view_name": "LayoutView",
            "align_content": null,
            "align_items": null,
            "align_self": null,
            "border": null,
            "bottom": null,
            "display": null,
            "flex": null,
            "flex_flow": null,
            "grid_area": null,
            "grid_auto_columns": null,
            "grid_auto_flow": null,
            "grid_auto_rows": null,
            "grid_column": null,
            "grid_gap": null,
            "grid_row": null,
            "grid_template_areas": null,
            "grid_template_columns": null,
            "grid_template_rows": null,
            "height": null,
            "justify_content": null,
            "justify_items": null,
            "left": null,
            "margin": null,
            "max_height": null,
            "max_width": null,
            "min_height": null,
            "min_width": null,
            "object_fit": null,
            "object_position": null,
            "order": null,
            "overflow": null,
            "overflow_x": null,
            "overflow_y": null,
            "padding": null,
            "right": null,
            "top": null,
            "visibility": null,
            "width": null
          }
        },
        "1cdfcd7a5d1141fc89f6e1f2461984bb": {
          "model_module": "@jupyter-widgets/controls",
          "model_name": "DescriptionStyleModel",
          "model_module_version": "1.5.0",
          "state": {
            "_model_module": "@jupyter-widgets/controls",
            "_model_module_version": "1.5.0",
            "_model_name": "DescriptionStyleModel",
            "_view_count": null,
            "_view_module": "@jupyter-widgets/base",
            "_view_module_version": "1.2.0",
            "_view_name": "StyleView",
            "description_width": ""
          }
        },
        "ab0aed40329444c8890fa1e5d1214d2b": {
          "model_module": "@jupyter-widgets/controls",
          "model_name": "HBoxModel",
          "model_module_version": "1.5.0",
          "state": {
            "_dom_classes": [],
            "_model_module": "@jupyter-widgets/controls",
            "_model_module_version": "1.5.0",
            "_model_name": "HBoxModel",
            "_view_count": null,
            "_view_module": "@jupyter-widgets/controls",
            "_view_module_version": "1.5.0",
            "_view_name": "HBoxView",
            "box_style": "",
            "children": [
              "IPY_MODEL_81f99f6f29af4c2ca76e14bcd0335a1f",
              "IPY_MODEL_14ca38e6ae1a4381b0718543c6c65f81",
              "IPY_MODEL_aa7df114889d4cbab1342a42f032fc81"
            ],
            "layout": "IPY_MODEL_9a44098b65224e97914323c4ccc2d962"
          }
        },
        "81f99f6f29af4c2ca76e14bcd0335a1f": {
          "model_module": "@jupyter-widgets/controls",
          "model_name": "HTMLModel",
          "model_module_version": "1.5.0",
          "state": {
            "_dom_classes": [],
            "_model_module": "@jupyter-widgets/controls",
            "_model_module_version": "1.5.0",
            "_model_name": "HTMLModel",
            "_view_count": null,
            "_view_module": "@jupyter-widgets/controls",
            "_view_module_version": "1.5.0",
            "_view_name": "HTMLView",
            "description": "",
            "description_tooltip": null,
            "layout": "IPY_MODEL_c20006058dc74b04ab1e60577831e6dc",
            "placeholder": "​",
            "style": "IPY_MODEL_feee813fd8ea4aa290aabd899a70ff5f",
            "value": "100%"
          }
        },
        "14ca38e6ae1a4381b0718543c6c65f81": {
          "model_module": "@jupyter-widgets/controls",
          "model_name": "FloatProgressModel",
          "model_module_version": "1.5.0",
          "state": {
            "_dom_classes": [],
            "_model_module": "@jupyter-widgets/controls",
            "_model_module_version": "1.5.0",
            "_model_name": "FloatProgressModel",
            "_view_count": null,
            "_view_module": "@jupyter-widgets/controls",
            "_view_module_version": "1.5.0",
            "_view_name": "ProgressView",
            "bar_style": "success",
            "description": "",
            "description_tooltip": null,
            "layout": "IPY_MODEL_36a0c2a502194debb5a7157a0c5c99d6",
            "max": 37,
            "min": 0,
            "orientation": "horizontal",
            "style": "IPY_MODEL_687be303f17e473fb3112f411b021227",
            "value": 37
          }
        },
        "aa7df114889d4cbab1342a42f032fc81": {
          "model_module": "@jupyter-widgets/controls",
          "model_name": "HTMLModel",
          "model_module_version": "1.5.0",
          "state": {
            "_dom_classes": [],
            "_model_module": "@jupyter-widgets/controls",
            "_model_module_version": "1.5.0",
            "_model_name": "HTMLModel",
            "_view_count": null,
            "_view_module": "@jupyter-widgets/controls",
            "_view_module_version": "1.5.0",
            "_view_name": "HTMLView",
            "description": "",
            "description_tooltip": null,
            "layout": "IPY_MODEL_f7e1e4ad5817482c823bc286ecac61b0",
            "placeholder": "​",
            "style": "IPY_MODEL_12f25111f5234b9b87a085029256a9f4",
            "value": " 37/37 [00:02&lt;00:00, 28.57ba/s]"
          }
        },
        "9a44098b65224e97914323c4ccc2d962": {
          "model_module": "@jupyter-widgets/base",
          "model_name": "LayoutModel",
          "model_module_version": "1.2.0",
          "state": {
            "_model_module": "@jupyter-widgets/base",
            "_model_module_version": "1.2.0",
            "_model_name": "LayoutModel",
            "_view_count": null,
            "_view_module": "@jupyter-widgets/base",
            "_view_module_version": "1.2.0",
            "_view_name": "LayoutView",
            "align_content": null,
            "align_items": null,
            "align_self": null,
            "border": null,
            "bottom": null,
            "display": null,
            "flex": null,
            "flex_flow": null,
            "grid_area": null,
            "grid_auto_columns": null,
            "grid_auto_flow": null,
            "grid_auto_rows": null,
            "grid_column": null,
            "grid_gap": null,
            "grid_row": null,
            "grid_template_areas": null,
            "grid_template_columns": null,
            "grid_template_rows": null,
            "height": null,
            "justify_content": null,
            "justify_items": null,
            "left": null,
            "margin": null,
            "max_height": null,
            "max_width": null,
            "min_height": null,
            "min_width": null,
            "object_fit": null,
            "object_position": null,
            "order": null,
            "overflow": null,
            "overflow_x": null,
            "overflow_y": null,
            "padding": null,
            "right": null,
            "top": null,
            "visibility": null,
            "width": null
          }
        },
        "c20006058dc74b04ab1e60577831e6dc": {
          "model_module": "@jupyter-widgets/base",
          "model_name": "LayoutModel",
          "model_module_version": "1.2.0",
          "state": {
            "_model_module": "@jupyter-widgets/base",
            "_model_module_version": "1.2.0",
            "_model_name": "LayoutModel",
            "_view_count": null,
            "_view_module": "@jupyter-widgets/base",
            "_view_module_version": "1.2.0",
            "_view_name": "LayoutView",
            "align_content": null,
            "align_items": null,
            "align_self": null,
            "border": null,
            "bottom": null,
            "display": null,
            "flex": null,
            "flex_flow": null,
            "grid_area": null,
            "grid_auto_columns": null,
            "grid_auto_flow": null,
            "grid_auto_rows": null,
            "grid_column": null,
            "grid_gap": null,
            "grid_row": null,
            "grid_template_areas": null,
            "grid_template_columns": null,
            "grid_template_rows": null,
            "height": null,
            "justify_content": null,
            "justify_items": null,
            "left": null,
            "margin": null,
            "max_height": null,
            "max_width": null,
            "min_height": null,
            "min_width": null,
            "object_fit": null,
            "object_position": null,
            "order": null,
            "overflow": null,
            "overflow_x": null,
            "overflow_y": null,
            "padding": null,
            "right": null,
            "top": null,
            "visibility": null,
            "width": null
          }
        },
        "feee813fd8ea4aa290aabd899a70ff5f": {
          "model_module": "@jupyter-widgets/controls",
          "model_name": "DescriptionStyleModel",
          "model_module_version": "1.5.0",
          "state": {
            "_model_module": "@jupyter-widgets/controls",
            "_model_module_version": "1.5.0",
            "_model_name": "DescriptionStyleModel",
            "_view_count": null,
            "_view_module": "@jupyter-widgets/base",
            "_view_module_version": "1.2.0",
            "_view_name": "StyleView",
            "description_width": ""
          }
        },
        "36a0c2a502194debb5a7157a0c5c99d6": {
          "model_module": "@jupyter-widgets/base",
          "model_name": "LayoutModel",
          "model_module_version": "1.2.0",
          "state": {
            "_model_module": "@jupyter-widgets/base",
            "_model_module_version": "1.2.0",
            "_model_name": "LayoutModel",
            "_view_count": null,
            "_view_module": "@jupyter-widgets/base",
            "_view_module_version": "1.2.0",
            "_view_name": "LayoutView",
            "align_content": null,
            "align_items": null,
            "align_self": null,
            "border": null,
            "bottom": null,
            "display": null,
            "flex": null,
            "flex_flow": null,
            "grid_area": null,
            "grid_auto_columns": null,
            "grid_auto_flow": null,
            "grid_auto_rows": null,
            "grid_column": null,
            "grid_gap": null,
            "grid_row": null,
            "grid_template_areas": null,
            "grid_template_columns": null,
            "grid_template_rows": null,
            "height": null,
            "justify_content": null,
            "justify_items": null,
            "left": null,
            "margin": null,
            "max_height": null,
            "max_width": null,
            "min_height": null,
            "min_width": null,
            "object_fit": null,
            "object_position": null,
            "order": null,
            "overflow": null,
            "overflow_x": null,
            "overflow_y": null,
            "padding": null,
            "right": null,
            "top": null,
            "visibility": null,
            "width": null
          }
        },
        "687be303f17e473fb3112f411b021227": {
          "model_module": "@jupyter-widgets/controls",
          "model_name": "ProgressStyleModel",
          "model_module_version": "1.5.0",
          "state": {
            "_model_module": "@jupyter-widgets/controls",
            "_model_module_version": "1.5.0",
            "_model_name": "ProgressStyleModel",
            "_view_count": null,
            "_view_module": "@jupyter-widgets/base",
            "_view_module_version": "1.2.0",
            "_view_name": "StyleView",
            "bar_color": null,
            "description_width": ""
          }
        },
        "f7e1e4ad5817482c823bc286ecac61b0": {
          "model_module": "@jupyter-widgets/base",
          "model_name": "LayoutModel",
          "model_module_version": "1.2.0",
          "state": {
            "_model_module": "@jupyter-widgets/base",
            "_model_module_version": "1.2.0",
            "_model_name": "LayoutModel",
            "_view_count": null,
            "_view_module": "@jupyter-widgets/base",
            "_view_module_version": "1.2.0",
            "_view_name": "LayoutView",
            "align_content": null,
            "align_items": null,
            "align_self": null,
            "border": null,
            "bottom": null,
            "display": null,
            "flex": null,
            "flex_flow": null,
            "grid_area": null,
            "grid_auto_columns": null,
            "grid_auto_flow": null,
            "grid_auto_rows": null,
            "grid_column": null,
            "grid_gap": null,
            "grid_row": null,
            "grid_template_areas": null,
            "grid_template_columns": null,
            "grid_template_rows": null,
            "height": null,
            "justify_content": null,
            "justify_items": null,
            "left": null,
            "margin": null,
            "max_height": null,
            "max_width": null,
            "min_height": null,
            "min_width": null,
            "object_fit": null,
            "object_position": null,
            "order": null,
            "overflow": null,
            "overflow_x": null,
            "overflow_y": null,
            "padding": null,
            "right": null,
            "top": null,
            "visibility": null,
            "width": null
          }
        },
        "12f25111f5234b9b87a085029256a9f4": {
          "model_module": "@jupyter-widgets/controls",
          "model_name": "DescriptionStyleModel",
          "model_module_version": "1.5.0",
          "state": {
            "_model_module": "@jupyter-widgets/controls",
            "_model_module_version": "1.5.0",
            "_model_name": "DescriptionStyleModel",
            "_view_count": null,
            "_view_module": "@jupyter-widgets/base",
            "_view_module_version": "1.2.0",
            "_view_name": "StyleView",
            "description_width": ""
          }
        },
        "f0cf7c1b60d84702afc08ea4a5f28d63": {
          "model_module": "@jupyter-widgets/controls",
          "model_name": "HBoxModel",
          "model_module_version": "1.5.0",
          "state": {
            "_dom_classes": [],
            "_model_module": "@jupyter-widgets/controls",
            "_model_module_version": "1.5.0",
            "_model_name": "HBoxModel",
            "_view_count": null,
            "_view_module": "@jupyter-widgets/controls",
            "_view_module_version": "1.5.0",
            "_view_name": "HBoxView",
            "box_style": "",
            "children": [
              "IPY_MODEL_5ea1471edff24f00b2f5b1ef7a2b6f2d",
              "IPY_MODEL_745b7529c60b462fb7926fad8ea4ba9f",
              "IPY_MODEL_53306f95dfb34a3b856591664efe7e3a"
            ],
            "layout": "IPY_MODEL_1edda1934d3947cc92f47d621403e503"
          }
        },
        "5ea1471edff24f00b2f5b1ef7a2b6f2d": {
          "model_module": "@jupyter-widgets/controls",
          "model_name": "HTMLModel",
          "model_module_version": "1.5.0",
          "state": {
            "_dom_classes": [],
            "_model_module": "@jupyter-widgets/controls",
            "_model_module_version": "1.5.0",
            "_model_name": "HTMLModel",
            "_view_count": null,
            "_view_module": "@jupyter-widgets/controls",
            "_view_module_version": "1.5.0",
            "_view_name": "HTMLView",
            "description": "",
            "description_tooltip": null,
            "layout": "IPY_MODEL_fe1bbfd574be4bff88ec1a1f2e38b8dc",
            "placeholder": "​",
            "style": "IPY_MODEL_989015000bc142c19f31ac3ef0cb0d93",
            "value": "100%"
          }
        },
        "745b7529c60b462fb7926fad8ea4ba9f": {
          "model_module": "@jupyter-widgets/controls",
          "model_name": "FloatProgressModel",
          "model_module_version": "1.5.0",
          "state": {
            "_dom_classes": [],
            "_model_module": "@jupyter-widgets/controls",
            "_model_module_version": "1.5.0",
            "_model_name": "FloatProgressModel",
            "_view_count": null,
            "_view_module": "@jupyter-widgets/controls",
            "_view_module_version": "1.5.0",
            "_view_name": "ProgressView",
            "bar_style": "success",
            "description": "",
            "description_tooltip": null,
            "layout": "IPY_MODEL_f654e7ca33094033997a646bfe2dffef",
            "max": 37,
            "min": 0,
            "orientation": "horizontal",
            "style": "IPY_MODEL_5dabbcb5513f40ac91b9e6c539c17f0c",
            "value": 37
          }
        },
        "53306f95dfb34a3b856591664efe7e3a": {
          "model_module": "@jupyter-widgets/controls",
          "model_name": "HTMLModel",
          "model_module_version": "1.5.0",
          "state": {
            "_dom_classes": [],
            "_model_module": "@jupyter-widgets/controls",
            "_model_module_version": "1.5.0",
            "_model_name": "HTMLModel",
            "_view_count": null,
            "_view_module": "@jupyter-widgets/controls",
            "_view_module_version": "1.5.0",
            "_view_name": "HTMLView",
            "description": "",
            "description_tooltip": null,
            "layout": "IPY_MODEL_f010941fd0ef4a5abdbf6729df970587",
            "placeholder": "​",
            "style": "IPY_MODEL_71d4f5a4d6ac4b5e93443f66842eb01a",
            "value": " 37/37 [00:02&lt;00:00, 16.04ba/s]"
          }
        },
        "1edda1934d3947cc92f47d621403e503": {
          "model_module": "@jupyter-widgets/base",
          "model_name": "LayoutModel",
          "model_module_version": "1.2.0",
          "state": {
            "_model_module": "@jupyter-widgets/base",
            "_model_module_version": "1.2.0",
            "_model_name": "LayoutModel",
            "_view_count": null,
            "_view_module": "@jupyter-widgets/base",
            "_view_module_version": "1.2.0",
            "_view_name": "LayoutView",
            "align_content": null,
            "align_items": null,
            "align_self": null,
            "border": null,
            "bottom": null,
            "display": null,
            "flex": null,
            "flex_flow": null,
            "grid_area": null,
            "grid_auto_columns": null,
            "grid_auto_flow": null,
            "grid_auto_rows": null,
            "grid_column": null,
            "grid_gap": null,
            "grid_row": null,
            "grid_template_areas": null,
            "grid_template_columns": null,
            "grid_template_rows": null,
            "height": null,
            "justify_content": null,
            "justify_items": null,
            "left": null,
            "margin": null,
            "max_height": null,
            "max_width": null,
            "min_height": null,
            "min_width": null,
            "object_fit": null,
            "object_position": null,
            "order": null,
            "overflow": null,
            "overflow_x": null,
            "overflow_y": null,
            "padding": null,
            "right": null,
            "top": null,
            "visibility": null,
            "width": null
          }
        },
        "fe1bbfd574be4bff88ec1a1f2e38b8dc": {
          "model_module": "@jupyter-widgets/base",
          "model_name": "LayoutModel",
          "model_module_version": "1.2.0",
          "state": {
            "_model_module": "@jupyter-widgets/base",
            "_model_module_version": "1.2.0",
            "_model_name": "LayoutModel",
            "_view_count": null,
            "_view_module": "@jupyter-widgets/base",
            "_view_module_version": "1.2.0",
            "_view_name": "LayoutView",
            "align_content": null,
            "align_items": null,
            "align_self": null,
            "border": null,
            "bottom": null,
            "display": null,
            "flex": null,
            "flex_flow": null,
            "grid_area": null,
            "grid_auto_columns": null,
            "grid_auto_flow": null,
            "grid_auto_rows": null,
            "grid_column": null,
            "grid_gap": null,
            "grid_row": null,
            "grid_template_areas": null,
            "grid_template_columns": null,
            "grid_template_rows": null,
            "height": null,
            "justify_content": null,
            "justify_items": null,
            "left": null,
            "margin": null,
            "max_height": null,
            "max_width": null,
            "min_height": null,
            "min_width": null,
            "object_fit": null,
            "object_position": null,
            "order": null,
            "overflow": null,
            "overflow_x": null,
            "overflow_y": null,
            "padding": null,
            "right": null,
            "top": null,
            "visibility": null,
            "width": null
          }
        },
        "989015000bc142c19f31ac3ef0cb0d93": {
          "model_module": "@jupyter-widgets/controls",
          "model_name": "DescriptionStyleModel",
          "model_module_version": "1.5.0",
          "state": {
            "_model_module": "@jupyter-widgets/controls",
            "_model_module_version": "1.5.0",
            "_model_name": "DescriptionStyleModel",
            "_view_count": null,
            "_view_module": "@jupyter-widgets/base",
            "_view_module_version": "1.2.0",
            "_view_name": "StyleView",
            "description_width": ""
          }
        },
        "f654e7ca33094033997a646bfe2dffef": {
          "model_module": "@jupyter-widgets/base",
          "model_name": "LayoutModel",
          "model_module_version": "1.2.0",
          "state": {
            "_model_module": "@jupyter-widgets/base",
            "_model_module_version": "1.2.0",
            "_model_name": "LayoutModel",
            "_view_count": null,
            "_view_module": "@jupyter-widgets/base",
            "_view_module_version": "1.2.0",
            "_view_name": "LayoutView",
            "align_content": null,
            "align_items": null,
            "align_self": null,
            "border": null,
            "bottom": null,
            "display": null,
            "flex": null,
            "flex_flow": null,
            "grid_area": null,
            "grid_auto_columns": null,
            "grid_auto_flow": null,
            "grid_auto_rows": null,
            "grid_column": null,
            "grid_gap": null,
            "grid_row": null,
            "grid_template_areas": null,
            "grid_template_columns": null,
            "grid_template_rows": null,
            "height": null,
            "justify_content": null,
            "justify_items": null,
            "left": null,
            "margin": null,
            "max_height": null,
            "max_width": null,
            "min_height": null,
            "min_width": null,
            "object_fit": null,
            "object_position": null,
            "order": null,
            "overflow": null,
            "overflow_x": null,
            "overflow_y": null,
            "padding": null,
            "right": null,
            "top": null,
            "visibility": null,
            "width": null
          }
        },
        "5dabbcb5513f40ac91b9e6c539c17f0c": {
          "model_module": "@jupyter-widgets/controls",
          "model_name": "ProgressStyleModel",
          "model_module_version": "1.5.0",
          "state": {
            "_model_module": "@jupyter-widgets/controls",
            "_model_module_version": "1.5.0",
            "_model_name": "ProgressStyleModel",
            "_view_count": null,
            "_view_module": "@jupyter-widgets/base",
            "_view_module_version": "1.2.0",
            "_view_name": "StyleView",
            "bar_color": null,
            "description_width": ""
          }
        },
        "f010941fd0ef4a5abdbf6729df970587": {
          "model_module": "@jupyter-widgets/base",
          "model_name": "LayoutModel",
          "model_module_version": "1.2.0",
          "state": {
            "_model_module": "@jupyter-widgets/base",
            "_model_module_version": "1.2.0",
            "_model_name": "LayoutModel",
            "_view_count": null,
            "_view_module": "@jupyter-widgets/base",
            "_view_module_version": "1.2.0",
            "_view_name": "LayoutView",
            "align_content": null,
            "align_items": null,
            "align_self": null,
            "border": null,
            "bottom": null,
            "display": null,
            "flex": null,
            "flex_flow": null,
            "grid_area": null,
            "grid_auto_columns": null,
            "grid_auto_flow": null,
            "grid_auto_rows": null,
            "grid_column": null,
            "grid_gap": null,
            "grid_row": null,
            "grid_template_areas": null,
            "grid_template_columns": null,
            "grid_template_rows": null,
            "height": null,
            "justify_content": null,
            "justify_items": null,
            "left": null,
            "margin": null,
            "max_height": null,
            "max_width": null,
            "min_height": null,
            "min_width": null,
            "object_fit": null,
            "object_position": null,
            "order": null,
            "overflow": null,
            "overflow_x": null,
            "overflow_y": null,
            "padding": null,
            "right": null,
            "top": null,
            "visibility": null,
            "width": null
          }
        },
        "71d4f5a4d6ac4b5e93443f66842eb01a": {
          "model_module": "@jupyter-widgets/controls",
          "model_name": "DescriptionStyleModel",
          "model_module_version": "1.5.0",
          "state": {
            "_model_module": "@jupyter-widgets/controls",
            "_model_module_version": "1.5.0",
            "_model_name": "DescriptionStyleModel",
            "_view_count": null,
            "_view_module": "@jupyter-widgets/base",
            "_view_module_version": "1.2.0",
            "_view_name": "StyleView",
            "description_width": ""
          }
        },
        "1bcd75fb419746c9b071eeb5af3db37c": {
          "model_module": "@jupyter-widgets/controls",
          "model_name": "HBoxModel",
          "model_module_version": "1.5.0",
          "state": {
            "_dom_classes": [],
            "_model_module": "@jupyter-widgets/controls",
            "_model_module_version": "1.5.0",
            "_model_name": "HBoxModel",
            "_view_count": null,
            "_view_module": "@jupyter-widgets/controls",
            "_view_module_version": "1.5.0",
            "_view_name": "HBoxView",
            "box_style": "",
            "children": [
              "IPY_MODEL_1ebbb301df75408aab38d12c551bead8",
              "IPY_MODEL_20eaecadc0a24d3597bc879dc6bd0f76",
              "IPY_MODEL_af71dec6533b4b5f9efef4e662304ef4"
            ],
            "layout": "IPY_MODEL_5b3e6a5d6e4c4805a8adf46c0fc26fe7"
          }
        },
        "1ebbb301df75408aab38d12c551bead8": {
          "model_module": "@jupyter-widgets/controls",
          "model_name": "HTMLModel",
          "model_module_version": "1.5.0",
          "state": {
            "_dom_classes": [],
            "_model_module": "@jupyter-widgets/controls",
            "_model_module_version": "1.5.0",
            "_model_name": "HTMLModel",
            "_view_count": null,
            "_view_module": "@jupyter-widgets/controls",
            "_view_module_version": "1.5.0",
            "_view_name": "HTMLView",
            "description": "",
            "description_tooltip": null,
            "layout": "IPY_MODEL_e674340b58f7448abb7601813138725b",
            "placeholder": "​",
            "style": "IPY_MODEL_0307ebeb2b824a88af13bd8a5556f14e",
            "value": "100%"
          }
        },
        "20eaecadc0a24d3597bc879dc6bd0f76": {
          "model_module": "@jupyter-widgets/controls",
          "model_name": "FloatProgressModel",
          "model_module_version": "1.5.0",
          "state": {
            "_dom_classes": [],
            "_model_module": "@jupyter-widgets/controls",
            "_model_module_version": "1.5.0",
            "_model_name": "FloatProgressModel",
            "_view_count": null,
            "_view_module": "@jupyter-widgets/controls",
            "_view_module_version": "1.5.0",
            "_view_name": "ProgressView",
            "bar_style": "success",
            "description": "",
            "description_tooltip": null,
            "layout": "IPY_MODEL_9aef021d6e1741aba96d97a9db34147c",
            "max": 37,
            "min": 0,
            "orientation": "horizontal",
            "style": "IPY_MODEL_e321f56e4b354e61a03c9d7050828e5e",
            "value": 37
          }
        },
        "af71dec6533b4b5f9efef4e662304ef4": {
          "model_module": "@jupyter-widgets/controls",
          "model_name": "HTMLModel",
          "model_module_version": "1.5.0",
          "state": {
            "_dom_classes": [],
            "_model_module": "@jupyter-widgets/controls",
            "_model_module_version": "1.5.0",
            "_model_name": "HTMLModel",
            "_view_count": null,
            "_view_module": "@jupyter-widgets/controls",
            "_view_module_version": "1.5.0",
            "_view_name": "HTMLView",
            "description": "",
            "description_tooltip": null,
            "layout": "IPY_MODEL_c95a99e413614c4d8a4e638c5abf9aa3",
            "placeholder": "​",
            "style": "IPY_MODEL_cb9415c8e75a451090b2e5e93375557b",
            "value": " 37/37 [00:01&lt;00:00, 28.44ba/s]"
          }
        },
        "5b3e6a5d6e4c4805a8adf46c0fc26fe7": {
          "model_module": "@jupyter-widgets/base",
          "model_name": "LayoutModel",
          "model_module_version": "1.2.0",
          "state": {
            "_model_module": "@jupyter-widgets/base",
            "_model_module_version": "1.2.0",
            "_model_name": "LayoutModel",
            "_view_count": null,
            "_view_module": "@jupyter-widgets/base",
            "_view_module_version": "1.2.0",
            "_view_name": "LayoutView",
            "align_content": null,
            "align_items": null,
            "align_self": null,
            "border": null,
            "bottom": null,
            "display": null,
            "flex": null,
            "flex_flow": null,
            "grid_area": null,
            "grid_auto_columns": null,
            "grid_auto_flow": null,
            "grid_auto_rows": null,
            "grid_column": null,
            "grid_gap": null,
            "grid_row": null,
            "grid_template_areas": null,
            "grid_template_columns": null,
            "grid_template_rows": null,
            "height": null,
            "justify_content": null,
            "justify_items": null,
            "left": null,
            "margin": null,
            "max_height": null,
            "max_width": null,
            "min_height": null,
            "min_width": null,
            "object_fit": null,
            "object_position": null,
            "order": null,
            "overflow": null,
            "overflow_x": null,
            "overflow_y": null,
            "padding": null,
            "right": null,
            "top": null,
            "visibility": null,
            "width": null
          }
        },
        "e674340b58f7448abb7601813138725b": {
          "model_module": "@jupyter-widgets/base",
          "model_name": "LayoutModel",
          "model_module_version": "1.2.0",
          "state": {
            "_model_module": "@jupyter-widgets/base",
            "_model_module_version": "1.2.0",
            "_model_name": "LayoutModel",
            "_view_count": null,
            "_view_module": "@jupyter-widgets/base",
            "_view_module_version": "1.2.0",
            "_view_name": "LayoutView",
            "align_content": null,
            "align_items": null,
            "align_self": null,
            "border": null,
            "bottom": null,
            "display": null,
            "flex": null,
            "flex_flow": null,
            "grid_area": null,
            "grid_auto_columns": null,
            "grid_auto_flow": null,
            "grid_auto_rows": null,
            "grid_column": null,
            "grid_gap": null,
            "grid_row": null,
            "grid_template_areas": null,
            "grid_template_columns": null,
            "grid_template_rows": null,
            "height": null,
            "justify_content": null,
            "justify_items": null,
            "left": null,
            "margin": null,
            "max_height": null,
            "max_width": null,
            "min_height": null,
            "min_width": null,
            "object_fit": null,
            "object_position": null,
            "order": null,
            "overflow": null,
            "overflow_x": null,
            "overflow_y": null,
            "padding": null,
            "right": null,
            "top": null,
            "visibility": null,
            "width": null
          }
        },
        "0307ebeb2b824a88af13bd8a5556f14e": {
          "model_module": "@jupyter-widgets/controls",
          "model_name": "DescriptionStyleModel",
          "model_module_version": "1.5.0",
          "state": {
            "_model_module": "@jupyter-widgets/controls",
            "_model_module_version": "1.5.0",
            "_model_name": "DescriptionStyleModel",
            "_view_count": null,
            "_view_module": "@jupyter-widgets/base",
            "_view_module_version": "1.2.0",
            "_view_name": "StyleView",
            "description_width": ""
          }
        },
        "9aef021d6e1741aba96d97a9db34147c": {
          "model_module": "@jupyter-widgets/base",
          "model_name": "LayoutModel",
          "model_module_version": "1.2.0",
          "state": {
            "_model_module": "@jupyter-widgets/base",
            "_model_module_version": "1.2.0",
            "_model_name": "LayoutModel",
            "_view_count": null,
            "_view_module": "@jupyter-widgets/base",
            "_view_module_version": "1.2.0",
            "_view_name": "LayoutView",
            "align_content": null,
            "align_items": null,
            "align_self": null,
            "border": null,
            "bottom": null,
            "display": null,
            "flex": null,
            "flex_flow": null,
            "grid_area": null,
            "grid_auto_columns": null,
            "grid_auto_flow": null,
            "grid_auto_rows": null,
            "grid_column": null,
            "grid_gap": null,
            "grid_row": null,
            "grid_template_areas": null,
            "grid_template_columns": null,
            "grid_template_rows": null,
            "height": null,
            "justify_content": null,
            "justify_items": null,
            "left": null,
            "margin": null,
            "max_height": null,
            "max_width": null,
            "min_height": null,
            "min_width": null,
            "object_fit": null,
            "object_position": null,
            "order": null,
            "overflow": null,
            "overflow_x": null,
            "overflow_y": null,
            "padding": null,
            "right": null,
            "top": null,
            "visibility": null,
            "width": null
          }
        },
        "e321f56e4b354e61a03c9d7050828e5e": {
          "model_module": "@jupyter-widgets/controls",
          "model_name": "ProgressStyleModel",
          "model_module_version": "1.5.0",
          "state": {
            "_model_module": "@jupyter-widgets/controls",
            "_model_module_version": "1.5.0",
            "_model_name": "ProgressStyleModel",
            "_view_count": null,
            "_view_module": "@jupyter-widgets/base",
            "_view_module_version": "1.2.0",
            "_view_name": "StyleView",
            "bar_color": null,
            "description_width": ""
          }
        },
        "c95a99e413614c4d8a4e638c5abf9aa3": {
          "model_module": "@jupyter-widgets/base",
          "model_name": "LayoutModel",
          "model_module_version": "1.2.0",
          "state": {
            "_model_module": "@jupyter-widgets/base",
            "_model_module_version": "1.2.0",
            "_model_name": "LayoutModel",
            "_view_count": null,
            "_view_module": "@jupyter-widgets/base",
            "_view_module_version": "1.2.0",
            "_view_name": "LayoutView",
            "align_content": null,
            "align_items": null,
            "align_self": null,
            "border": null,
            "bottom": null,
            "display": null,
            "flex": null,
            "flex_flow": null,
            "grid_area": null,
            "grid_auto_columns": null,
            "grid_auto_flow": null,
            "grid_auto_rows": null,
            "grid_column": null,
            "grid_gap": null,
            "grid_row": null,
            "grid_template_areas": null,
            "grid_template_columns": null,
            "grid_template_rows": null,
            "height": null,
            "justify_content": null,
            "justify_items": null,
            "left": null,
            "margin": null,
            "max_height": null,
            "max_width": null,
            "min_height": null,
            "min_width": null,
            "object_fit": null,
            "object_position": null,
            "order": null,
            "overflow": null,
            "overflow_x": null,
            "overflow_y": null,
            "padding": null,
            "right": null,
            "top": null,
            "visibility": null,
            "width": null
          }
        },
        "cb9415c8e75a451090b2e5e93375557b": {
          "model_module": "@jupyter-widgets/controls",
          "model_name": "DescriptionStyleModel",
          "model_module_version": "1.5.0",
          "state": {
            "_model_module": "@jupyter-widgets/controls",
            "_model_module_version": "1.5.0",
            "_model_name": "DescriptionStyleModel",
            "_view_count": null,
            "_view_module": "@jupyter-widgets/base",
            "_view_module_version": "1.2.0",
            "_view_name": "StyleView",
            "description_width": ""
          }
        },
        "998546bb6fc24cd7bac1ed025c91bb09": {
          "model_module": "@jupyter-widgets/controls",
          "model_name": "HBoxModel",
          "model_module_version": "1.5.0",
          "state": {
            "_dom_classes": [],
            "_model_module": "@jupyter-widgets/controls",
            "_model_module_version": "1.5.0",
            "_model_name": "HBoxModel",
            "_view_count": null,
            "_view_module": "@jupyter-widgets/controls",
            "_view_module_version": "1.5.0",
            "_view_name": "HBoxView",
            "box_style": "",
            "children": [
              "IPY_MODEL_4c6eea1d2ec54cb6866727964cd21eec",
              "IPY_MODEL_4b3c28965e90408082bd62431afd9222",
              "IPY_MODEL_fff46c814ede4a0183bd7ae370283c7e"
            ],
            "layout": "IPY_MODEL_2d6664f189ee4ff29b57aa0146a12015"
          }
        },
        "4c6eea1d2ec54cb6866727964cd21eec": {
          "model_module": "@jupyter-widgets/controls",
          "model_name": "HTMLModel",
          "model_module_version": "1.5.0",
          "state": {
            "_dom_classes": [],
            "_model_module": "@jupyter-widgets/controls",
            "_model_module_version": "1.5.0",
            "_model_name": "HTMLModel",
            "_view_count": null,
            "_view_module": "@jupyter-widgets/controls",
            "_view_module_version": "1.5.0",
            "_view_name": "HTMLView",
            "description": "",
            "description_tooltip": null,
            "layout": "IPY_MODEL_44e74629fa1d4f0a8e30aeb6fecb78d8",
            "placeholder": "​",
            "style": "IPY_MODEL_97f077f590214be5998c1ad070f73505",
            "value": "100%"
          }
        },
        "4b3c28965e90408082bd62431afd9222": {
          "model_module": "@jupyter-widgets/controls",
          "model_name": "FloatProgressModel",
          "model_module_version": "1.5.0",
          "state": {
            "_dom_classes": [],
            "_model_module": "@jupyter-widgets/controls",
            "_model_module_version": "1.5.0",
            "_model_name": "FloatProgressModel",
            "_view_count": null,
            "_view_module": "@jupyter-widgets/controls",
            "_view_module_version": "1.5.0",
            "_view_name": "ProgressView",
            "bar_style": "success",
            "description": "",
            "description_tooltip": null,
            "layout": "IPY_MODEL_36e7cd1e4c1f478a977f7c259f138ab4",
            "max": 37,
            "min": 0,
            "orientation": "horizontal",
            "style": "IPY_MODEL_534442db0ea34748a68a84a8c1a67635",
            "value": 37
          }
        },
        "fff46c814ede4a0183bd7ae370283c7e": {
          "model_module": "@jupyter-widgets/controls",
          "model_name": "HTMLModel",
          "model_module_version": "1.5.0",
          "state": {
            "_dom_classes": [],
            "_model_module": "@jupyter-widgets/controls",
            "_model_module_version": "1.5.0",
            "_model_name": "HTMLModel",
            "_view_count": null,
            "_view_module": "@jupyter-widgets/controls",
            "_view_module_version": "1.5.0",
            "_view_name": "HTMLView",
            "description": "",
            "description_tooltip": null,
            "layout": "IPY_MODEL_884ff3c388384906aee28e7759cc057c",
            "placeholder": "​",
            "style": "IPY_MODEL_1341fb74b8b3456c8d4e39d755f1c46d",
            "value": " 37/37 [00:03&lt;00:00, 10.32ba/s]"
          }
        },
        "2d6664f189ee4ff29b57aa0146a12015": {
          "model_module": "@jupyter-widgets/base",
          "model_name": "LayoutModel",
          "model_module_version": "1.2.0",
          "state": {
            "_model_module": "@jupyter-widgets/base",
            "_model_module_version": "1.2.0",
            "_model_name": "LayoutModel",
            "_view_count": null,
            "_view_module": "@jupyter-widgets/base",
            "_view_module_version": "1.2.0",
            "_view_name": "LayoutView",
            "align_content": null,
            "align_items": null,
            "align_self": null,
            "border": null,
            "bottom": null,
            "display": null,
            "flex": null,
            "flex_flow": null,
            "grid_area": null,
            "grid_auto_columns": null,
            "grid_auto_flow": null,
            "grid_auto_rows": null,
            "grid_column": null,
            "grid_gap": null,
            "grid_row": null,
            "grid_template_areas": null,
            "grid_template_columns": null,
            "grid_template_rows": null,
            "height": null,
            "justify_content": null,
            "justify_items": null,
            "left": null,
            "margin": null,
            "max_height": null,
            "max_width": null,
            "min_height": null,
            "min_width": null,
            "object_fit": null,
            "object_position": null,
            "order": null,
            "overflow": null,
            "overflow_x": null,
            "overflow_y": null,
            "padding": null,
            "right": null,
            "top": null,
            "visibility": null,
            "width": null
          }
        },
        "44e74629fa1d4f0a8e30aeb6fecb78d8": {
          "model_module": "@jupyter-widgets/base",
          "model_name": "LayoutModel",
          "model_module_version": "1.2.0",
          "state": {
            "_model_module": "@jupyter-widgets/base",
            "_model_module_version": "1.2.0",
            "_model_name": "LayoutModel",
            "_view_count": null,
            "_view_module": "@jupyter-widgets/base",
            "_view_module_version": "1.2.0",
            "_view_name": "LayoutView",
            "align_content": null,
            "align_items": null,
            "align_self": null,
            "border": null,
            "bottom": null,
            "display": null,
            "flex": null,
            "flex_flow": null,
            "grid_area": null,
            "grid_auto_columns": null,
            "grid_auto_flow": null,
            "grid_auto_rows": null,
            "grid_column": null,
            "grid_gap": null,
            "grid_row": null,
            "grid_template_areas": null,
            "grid_template_columns": null,
            "grid_template_rows": null,
            "height": null,
            "justify_content": null,
            "justify_items": null,
            "left": null,
            "margin": null,
            "max_height": null,
            "max_width": null,
            "min_height": null,
            "min_width": null,
            "object_fit": null,
            "object_position": null,
            "order": null,
            "overflow": null,
            "overflow_x": null,
            "overflow_y": null,
            "padding": null,
            "right": null,
            "top": null,
            "visibility": null,
            "width": null
          }
        },
        "97f077f590214be5998c1ad070f73505": {
          "model_module": "@jupyter-widgets/controls",
          "model_name": "DescriptionStyleModel",
          "model_module_version": "1.5.0",
          "state": {
            "_model_module": "@jupyter-widgets/controls",
            "_model_module_version": "1.5.0",
            "_model_name": "DescriptionStyleModel",
            "_view_count": null,
            "_view_module": "@jupyter-widgets/base",
            "_view_module_version": "1.2.0",
            "_view_name": "StyleView",
            "description_width": ""
          }
        },
        "36e7cd1e4c1f478a977f7c259f138ab4": {
          "model_module": "@jupyter-widgets/base",
          "model_name": "LayoutModel",
          "model_module_version": "1.2.0",
          "state": {
            "_model_module": "@jupyter-widgets/base",
            "_model_module_version": "1.2.0",
            "_model_name": "LayoutModel",
            "_view_count": null,
            "_view_module": "@jupyter-widgets/base",
            "_view_module_version": "1.2.0",
            "_view_name": "LayoutView",
            "align_content": null,
            "align_items": null,
            "align_self": null,
            "border": null,
            "bottom": null,
            "display": null,
            "flex": null,
            "flex_flow": null,
            "grid_area": null,
            "grid_auto_columns": null,
            "grid_auto_flow": null,
            "grid_auto_rows": null,
            "grid_column": null,
            "grid_gap": null,
            "grid_row": null,
            "grid_template_areas": null,
            "grid_template_columns": null,
            "grid_template_rows": null,
            "height": null,
            "justify_content": null,
            "justify_items": null,
            "left": null,
            "margin": null,
            "max_height": null,
            "max_width": null,
            "min_height": null,
            "min_width": null,
            "object_fit": null,
            "object_position": null,
            "order": null,
            "overflow": null,
            "overflow_x": null,
            "overflow_y": null,
            "padding": null,
            "right": null,
            "top": null,
            "visibility": null,
            "width": null
          }
        },
        "534442db0ea34748a68a84a8c1a67635": {
          "model_module": "@jupyter-widgets/controls",
          "model_name": "ProgressStyleModel",
          "model_module_version": "1.5.0",
          "state": {
            "_model_module": "@jupyter-widgets/controls",
            "_model_module_version": "1.5.0",
            "_model_name": "ProgressStyleModel",
            "_view_count": null,
            "_view_module": "@jupyter-widgets/base",
            "_view_module_version": "1.2.0",
            "_view_name": "StyleView",
            "bar_color": null,
            "description_width": ""
          }
        },
        "884ff3c388384906aee28e7759cc057c": {
          "model_module": "@jupyter-widgets/base",
          "model_name": "LayoutModel",
          "model_module_version": "1.2.0",
          "state": {
            "_model_module": "@jupyter-widgets/base",
            "_model_module_version": "1.2.0",
            "_model_name": "LayoutModel",
            "_view_count": null,
            "_view_module": "@jupyter-widgets/base",
            "_view_module_version": "1.2.0",
            "_view_name": "LayoutView",
            "align_content": null,
            "align_items": null,
            "align_self": null,
            "border": null,
            "bottom": null,
            "display": null,
            "flex": null,
            "flex_flow": null,
            "grid_area": null,
            "grid_auto_columns": null,
            "grid_auto_flow": null,
            "grid_auto_rows": null,
            "grid_column": null,
            "grid_gap": null,
            "grid_row": null,
            "grid_template_areas": null,
            "grid_template_columns": null,
            "grid_template_rows": null,
            "height": null,
            "justify_content": null,
            "justify_items": null,
            "left": null,
            "margin": null,
            "max_height": null,
            "max_width": null,
            "min_height": null,
            "min_width": null,
            "object_fit": null,
            "object_position": null,
            "order": null,
            "overflow": null,
            "overflow_x": null,
            "overflow_y": null,
            "padding": null,
            "right": null,
            "top": null,
            "visibility": null,
            "width": null
          }
        },
        "1341fb74b8b3456c8d4e39d755f1c46d": {
          "model_module": "@jupyter-widgets/controls",
          "model_name": "DescriptionStyleModel",
          "model_module_version": "1.5.0",
          "state": {
            "_model_module": "@jupyter-widgets/controls",
            "_model_module_version": "1.5.0",
            "_model_name": "DescriptionStyleModel",
            "_view_count": null,
            "_view_module": "@jupyter-widgets/base",
            "_view_module_version": "1.2.0",
            "_view_name": "StyleView",
            "description_width": ""
          }
        }
      }
    }
  },
  "cells": [
    {
      "cell_type": "markdown",
      "metadata": {
        "id": "view-in-github",
        "colab_type": "text"
      },
      "source": [
        "<a href=\"https://colab.research.google.com/github/zhukuixi/Fastai/blob/main/fastai_lesson4_Transformer.ipynb\" target=\"_parent\"><img src=\"https://colab.research.google.com/assets/colab-badge.svg\" alt=\"Open In Colab\"/></a>"
      ]
    },
    {
      "cell_type": "markdown",
      "source": [
        "## Download Kaggle Competition Data"
      ],
      "metadata": {
        "id": "9mYe-N4Rzxnk"
      }
    },
    {
      "cell_type": "code",
      "execution_count": 1,
      "metadata": {
        "id": "NyozN1jhvLjC"
      },
      "outputs": [],
      "source": [
        "import json\n",
        "token = {\"username\":\"kuixizhu\",\"key\":\"dc7d6e998e4b5eb9417913d844e0df0b\"}\n",
        "with open('/content/kaggle.json', 'w') as file:\n",
        "  json.dump(token, file)\n",
        "  \n"
      ]
    },
    {
      "cell_type": "code",
      "source": [
        "!mkdir -p ~/.kaggle\n",
        "!cp /content/kaggle.json ~/.kaggle/\n",
        "!chmod 600 ~/.kaggle/kaggle.json\n",
        "\n",
        "# Assign path\n",
        "!kaggle config set -n path -v /content\n",
        "# Download data\n",
        "!kaggle competitions download -c us-patent-phrase-to-phrase-matching"
      ],
      "metadata": {
        "colab": {
          "base_uri": "https://localhost:8080/"
        },
        "id": "fOgCUhQJvr8L",
        "outputId": "b205c18f-05e2-4684-bc25-80f90f8fcfa8"
      },
      "execution_count": 2,
      "outputs": [
        {
          "output_type": "stream",
          "name": "stdout",
          "text": [
            "- path is now set to: /content\n",
            "Downloading us-patent-phrase-to-phrase-matching.zip to /content/competitions/us-patent-phrase-to-phrase-matching\n",
            "  0% 0.00/682k [00:00<?, ?B/s]\n",
            "100% 682k/682k [00:00<00:00, 89.1MB/s]\n"
          ]
        }
      ]
    },
    {
      "cell_type": "code",
      "source": [
        "from google.colab import drive\n",
        "drive.mount('/content/gdrive')\n",
        "#!mv \"/content/competitions/\" \"/content/gdrive/MyDrive\"\n",
        "!unzip /content/gdrive/MyDrive/competitions/us-patent-phrase-to-phrase-matching/us-patent-phrase-to-phrase-matching.zip -d /content/gdrive/MyDrive/competitions/us-patent-phrase-to-phrase-matching/"
      ],
      "metadata": {
        "colab": {
          "base_uri": "https://localhost:8080/"
        },
        "id": "Igm9L86SwANm",
        "outputId": "6fe16a47-742c-4d2c-fede-821130f09517"
      },
      "execution_count": 3,
      "outputs": [
        {
          "output_type": "stream",
          "name": "stdout",
          "text": [
            "Mounted at /content/gdrive\n",
            "Archive:  /content/gdrive/MyDrive/competitions/us-patent-phrase-to-phrase-matching/us-patent-phrase-to-phrase-matching.zip\n",
            "replace /content/gdrive/MyDrive/competitions/us-patent-phrase-to-phrase-matching/sample_submission.csv? [y]es, [n]o, [A]ll, [N]one, [r]ename: None\n"
          ]
        }
      ]
    },
    {
      "cell_type": "markdown",
      "source": [
        "## EDA"
      ],
      "metadata": {
        "id": "Ew5wUaE6z3mG"
      }
    },
    {
      "cell_type": "code",
      "source": [
        "import pandas as pd\n",
        "from pathlib import Path\n",
        "path = Path('/content/gdrive/MyDrive/competitions/us-patent-phrase-to-phrase-matching')\n",
        "!ls {path}"
      ],
      "metadata": {
        "colab": {
          "base_uri": "https://localhost:8080/"
        },
        "id": "WfZbLwF1zD86",
        "outputId": "af277673-8ccf-4854-bba1-ee7ffb80dafa"
      },
      "execution_count": 4,
      "outputs": [
        {
          "output_type": "stream",
          "name": "stdout",
          "text": [
            "sample_submission.csv  train.csv\n",
            "test.csv\t       us-patent-phrase-to-phrase-matching.zip\n"
          ]
        }
      ]
    },
    {
      "cell_type": "code",
      "source": [
        "df = pd.read_csv(path/\"train.csv\")\n",
        "df"
      ],
      "metadata": {
        "colab": {
          "base_uri": "https://localhost:8080/",
          "height": 0
        },
        "id": "znOs976VzE2w",
        "outputId": "9d7aa6b8-753e-480d-d36a-bcc37b440234"
      },
      "execution_count": 5,
      "outputs": [
        {
          "output_type": "execute_result",
          "data": {
            "text/plain": [
              "                     id        anchor                  target context  score\n",
              "0      37d61fd2272659b1     abatement  abatement of pollution     A47   0.50\n",
              "1      7b9652b17b68b7a4     abatement          act of abating     A47   0.75\n",
              "2      36d72442aefd8232     abatement         active catalyst     A47   0.25\n",
              "3      5296b0c19e1ce60e     abatement     eliminating process     A47   0.50\n",
              "4      54c1e3b9184cb5b6     abatement           forest region     A47   0.00\n",
              "...                 ...           ...                     ...     ...    ...\n",
              "36468  8e1386cbefd7f245  wood article          wooden article     B44   1.00\n",
              "36469  42d9e032d1cd3242  wood article              wooden box     B44   0.50\n",
              "36470  208654ccb9e14fa3  wood article           wooden handle     B44   0.50\n",
              "36471  756ec035e694722b  wood article         wooden material     B44   0.75\n",
              "36472  8d135da0b55b8c88  wood article        wooden substrate     B44   0.50\n",
              "\n",
              "[36473 rows x 5 columns]"
            ],
            "text/html": [
              "\n",
              "  <div id=\"df-dfd3fd86-1770-4dde-becf-577cdc0f803b\">\n",
              "    <div class=\"colab-df-container\">\n",
              "      <div>\n",
              "<style scoped>\n",
              "    .dataframe tbody tr th:only-of-type {\n",
              "        vertical-align: middle;\n",
              "    }\n",
              "\n",
              "    .dataframe tbody tr th {\n",
              "        vertical-align: top;\n",
              "    }\n",
              "\n",
              "    .dataframe thead th {\n",
              "        text-align: right;\n",
              "    }\n",
              "</style>\n",
              "<table border=\"1\" class=\"dataframe\">\n",
              "  <thead>\n",
              "    <tr style=\"text-align: right;\">\n",
              "      <th></th>\n",
              "      <th>id</th>\n",
              "      <th>anchor</th>\n",
              "      <th>target</th>\n",
              "      <th>context</th>\n",
              "      <th>score</th>\n",
              "    </tr>\n",
              "  </thead>\n",
              "  <tbody>\n",
              "    <tr>\n",
              "      <th>0</th>\n",
              "      <td>37d61fd2272659b1</td>\n",
              "      <td>abatement</td>\n",
              "      <td>abatement of pollution</td>\n",
              "      <td>A47</td>\n",
              "      <td>0.50</td>\n",
              "    </tr>\n",
              "    <tr>\n",
              "      <th>1</th>\n",
              "      <td>7b9652b17b68b7a4</td>\n",
              "      <td>abatement</td>\n",
              "      <td>act of abating</td>\n",
              "      <td>A47</td>\n",
              "      <td>0.75</td>\n",
              "    </tr>\n",
              "    <tr>\n",
              "      <th>2</th>\n",
              "      <td>36d72442aefd8232</td>\n",
              "      <td>abatement</td>\n",
              "      <td>active catalyst</td>\n",
              "      <td>A47</td>\n",
              "      <td>0.25</td>\n",
              "    </tr>\n",
              "    <tr>\n",
              "      <th>3</th>\n",
              "      <td>5296b0c19e1ce60e</td>\n",
              "      <td>abatement</td>\n",
              "      <td>eliminating process</td>\n",
              "      <td>A47</td>\n",
              "      <td>0.50</td>\n",
              "    </tr>\n",
              "    <tr>\n",
              "      <th>4</th>\n",
              "      <td>54c1e3b9184cb5b6</td>\n",
              "      <td>abatement</td>\n",
              "      <td>forest region</td>\n",
              "      <td>A47</td>\n",
              "      <td>0.00</td>\n",
              "    </tr>\n",
              "    <tr>\n",
              "      <th>...</th>\n",
              "      <td>...</td>\n",
              "      <td>...</td>\n",
              "      <td>...</td>\n",
              "      <td>...</td>\n",
              "      <td>...</td>\n",
              "    </tr>\n",
              "    <tr>\n",
              "      <th>36468</th>\n",
              "      <td>8e1386cbefd7f245</td>\n",
              "      <td>wood article</td>\n",
              "      <td>wooden article</td>\n",
              "      <td>B44</td>\n",
              "      <td>1.00</td>\n",
              "    </tr>\n",
              "    <tr>\n",
              "      <th>36469</th>\n",
              "      <td>42d9e032d1cd3242</td>\n",
              "      <td>wood article</td>\n",
              "      <td>wooden box</td>\n",
              "      <td>B44</td>\n",
              "      <td>0.50</td>\n",
              "    </tr>\n",
              "    <tr>\n",
              "      <th>36470</th>\n",
              "      <td>208654ccb9e14fa3</td>\n",
              "      <td>wood article</td>\n",
              "      <td>wooden handle</td>\n",
              "      <td>B44</td>\n",
              "      <td>0.50</td>\n",
              "    </tr>\n",
              "    <tr>\n",
              "      <th>36471</th>\n",
              "      <td>756ec035e694722b</td>\n",
              "      <td>wood article</td>\n",
              "      <td>wooden material</td>\n",
              "      <td>B44</td>\n",
              "      <td>0.75</td>\n",
              "    </tr>\n",
              "    <tr>\n",
              "      <th>36472</th>\n",
              "      <td>8d135da0b55b8c88</td>\n",
              "      <td>wood article</td>\n",
              "      <td>wooden substrate</td>\n",
              "      <td>B44</td>\n",
              "      <td>0.50</td>\n",
              "    </tr>\n",
              "  </tbody>\n",
              "</table>\n",
              "<p>36473 rows × 5 columns</p>\n",
              "</div>\n",
              "      <button class=\"colab-df-convert\" onclick=\"convertToInteractive('df-dfd3fd86-1770-4dde-becf-577cdc0f803b')\"\n",
              "              title=\"Convert this dataframe to an interactive table.\"\n",
              "              style=\"display:none;\">\n",
              "        \n",
              "  <svg xmlns=\"http://www.w3.org/2000/svg\" height=\"24px\"viewBox=\"0 0 24 24\"\n",
              "       width=\"24px\">\n",
              "    <path d=\"M0 0h24v24H0V0z\" fill=\"none\"/>\n",
              "    <path d=\"M18.56 5.44l.94 2.06.94-2.06 2.06-.94-2.06-.94-.94-2.06-.94 2.06-2.06.94zm-11 1L8.5 8.5l.94-2.06 2.06-.94-2.06-.94L8.5 2.5l-.94 2.06-2.06.94zm10 10l.94 2.06.94-2.06 2.06-.94-2.06-.94-.94-2.06-.94 2.06-2.06.94z\"/><path d=\"M17.41 7.96l-1.37-1.37c-.4-.4-.92-.59-1.43-.59-.52 0-1.04.2-1.43.59L10.3 9.45l-7.72 7.72c-.78.78-.78 2.05 0 2.83L4 21.41c.39.39.9.59 1.41.59.51 0 1.02-.2 1.41-.59l7.78-7.78 2.81-2.81c.8-.78.8-2.07 0-2.86zM5.41 20L4 18.59l7.72-7.72 1.47 1.35L5.41 20z\"/>\n",
              "  </svg>\n",
              "      </button>\n",
              "      \n",
              "  <style>\n",
              "    .colab-df-container {\n",
              "      display:flex;\n",
              "      flex-wrap:wrap;\n",
              "      gap: 12px;\n",
              "    }\n",
              "\n",
              "    .colab-df-convert {\n",
              "      background-color: #E8F0FE;\n",
              "      border: none;\n",
              "      border-radius: 50%;\n",
              "      cursor: pointer;\n",
              "      display: none;\n",
              "      fill: #1967D2;\n",
              "      height: 32px;\n",
              "      padding: 0 0 0 0;\n",
              "      width: 32px;\n",
              "    }\n",
              "\n",
              "    .colab-df-convert:hover {\n",
              "      background-color: #E2EBFA;\n",
              "      box-shadow: 0px 1px 2px rgba(60, 64, 67, 0.3), 0px 1px 3px 1px rgba(60, 64, 67, 0.15);\n",
              "      fill: #174EA6;\n",
              "    }\n",
              "\n",
              "    [theme=dark] .colab-df-convert {\n",
              "      background-color: #3B4455;\n",
              "      fill: #D2E3FC;\n",
              "    }\n",
              "\n",
              "    [theme=dark] .colab-df-convert:hover {\n",
              "      background-color: #434B5C;\n",
              "      box-shadow: 0px 1px 3px 1px rgba(0, 0, 0, 0.15);\n",
              "      filter: drop-shadow(0px 1px 2px rgba(0, 0, 0, 0.3));\n",
              "      fill: #FFFFFF;\n",
              "    }\n",
              "  </style>\n",
              "\n",
              "      <script>\n",
              "        const buttonEl =\n",
              "          document.querySelector('#df-dfd3fd86-1770-4dde-becf-577cdc0f803b button.colab-df-convert');\n",
              "        buttonEl.style.display =\n",
              "          google.colab.kernel.accessAllowed ? 'block' : 'none';\n",
              "\n",
              "        async function convertToInteractive(key) {\n",
              "          const element = document.querySelector('#df-dfd3fd86-1770-4dde-becf-577cdc0f803b');\n",
              "          const dataTable =\n",
              "            await google.colab.kernel.invokeFunction('convertToInteractive',\n",
              "                                                     [key], {});\n",
              "          if (!dataTable) return;\n",
              "\n",
              "          const docLinkHtml = 'Like what you see? Visit the ' +\n",
              "            '<a target=\"_blank\" href=https://colab.research.google.com/notebooks/data_table.ipynb>data table notebook</a>'\n",
              "            + ' to learn more about interactive tables.';\n",
              "          element.innerHTML = '';\n",
              "          dataTable['output_type'] = 'display_data';\n",
              "          await google.colab.output.renderOutput(dataTable, element);\n",
              "          const docLink = document.createElement('div');\n",
              "          docLink.innerHTML = docLinkHtml;\n",
              "          element.appendChild(docLink);\n",
              "        }\n",
              "      </script>\n",
              "    </div>\n",
              "  </div>\n",
              "  "
            ]
          },
          "metadata": {},
          "execution_count": 5
        }
      ]
    },
    {
      "cell_type": "code",
      "source": [
        "df.describe(include='object')\n"
      ],
      "metadata": {
        "colab": {
          "base_uri": "https://localhost:8080/",
          "height": 0
        },
        "id": "4iSMlhQ_zKaf",
        "outputId": "72929d5b-7b51-475b-a02a-7a823262b189"
      },
      "execution_count": 6,
      "outputs": [
        {
          "output_type": "execute_result",
          "data": {
            "text/plain": [
              "                      id                       anchor       target context\n",
              "count              36473                        36473        36473   36473\n",
              "unique             36473                          733        29340     106\n",
              "top     37d61fd2272659b1  component composite coating  composition     H01\n",
              "freq                   1                          152           24    2186"
            ],
            "text/html": [
              "\n",
              "  <div id=\"df-7e98682d-ea0b-42d9-bf85-4baec60dc865\">\n",
              "    <div class=\"colab-df-container\">\n",
              "      <div>\n",
              "<style scoped>\n",
              "    .dataframe tbody tr th:only-of-type {\n",
              "        vertical-align: middle;\n",
              "    }\n",
              "\n",
              "    .dataframe tbody tr th {\n",
              "        vertical-align: top;\n",
              "    }\n",
              "\n",
              "    .dataframe thead th {\n",
              "        text-align: right;\n",
              "    }\n",
              "</style>\n",
              "<table border=\"1\" class=\"dataframe\">\n",
              "  <thead>\n",
              "    <tr style=\"text-align: right;\">\n",
              "      <th></th>\n",
              "      <th>id</th>\n",
              "      <th>anchor</th>\n",
              "      <th>target</th>\n",
              "      <th>context</th>\n",
              "    </tr>\n",
              "  </thead>\n",
              "  <tbody>\n",
              "    <tr>\n",
              "      <th>count</th>\n",
              "      <td>36473</td>\n",
              "      <td>36473</td>\n",
              "      <td>36473</td>\n",
              "      <td>36473</td>\n",
              "    </tr>\n",
              "    <tr>\n",
              "      <th>unique</th>\n",
              "      <td>36473</td>\n",
              "      <td>733</td>\n",
              "      <td>29340</td>\n",
              "      <td>106</td>\n",
              "    </tr>\n",
              "    <tr>\n",
              "      <th>top</th>\n",
              "      <td>37d61fd2272659b1</td>\n",
              "      <td>component composite coating</td>\n",
              "      <td>composition</td>\n",
              "      <td>H01</td>\n",
              "    </tr>\n",
              "    <tr>\n",
              "      <th>freq</th>\n",
              "      <td>1</td>\n",
              "      <td>152</td>\n",
              "      <td>24</td>\n",
              "      <td>2186</td>\n",
              "    </tr>\n",
              "  </tbody>\n",
              "</table>\n",
              "</div>\n",
              "      <button class=\"colab-df-convert\" onclick=\"convertToInteractive('df-7e98682d-ea0b-42d9-bf85-4baec60dc865')\"\n",
              "              title=\"Convert this dataframe to an interactive table.\"\n",
              "              style=\"display:none;\">\n",
              "        \n",
              "  <svg xmlns=\"http://www.w3.org/2000/svg\" height=\"24px\"viewBox=\"0 0 24 24\"\n",
              "       width=\"24px\">\n",
              "    <path d=\"M0 0h24v24H0V0z\" fill=\"none\"/>\n",
              "    <path d=\"M18.56 5.44l.94 2.06.94-2.06 2.06-.94-2.06-.94-.94-2.06-.94 2.06-2.06.94zm-11 1L8.5 8.5l.94-2.06 2.06-.94-2.06-.94L8.5 2.5l-.94 2.06-2.06.94zm10 10l.94 2.06.94-2.06 2.06-.94-2.06-.94-.94-2.06-.94 2.06-2.06.94z\"/><path d=\"M17.41 7.96l-1.37-1.37c-.4-.4-.92-.59-1.43-.59-.52 0-1.04.2-1.43.59L10.3 9.45l-7.72 7.72c-.78.78-.78 2.05 0 2.83L4 21.41c.39.39.9.59 1.41.59.51 0 1.02-.2 1.41-.59l7.78-7.78 2.81-2.81c.8-.78.8-2.07 0-2.86zM5.41 20L4 18.59l7.72-7.72 1.47 1.35L5.41 20z\"/>\n",
              "  </svg>\n",
              "      </button>\n",
              "      \n",
              "  <style>\n",
              "    .colab-df-container {\n",
              "      display:flex;\n",
              "      flex-wrap:wrap;\n",
              "      gap: 12px;\n",
              "    }\n",
              "\n",
              "    .colab-df-convert {\n",
              "      background-color: #E8F0FE;\n",
              "      border: none;\n",
              "      border-radius: 50%;\n",
              "      cursor: pointer;\n",
              "      display: none;\n",
              "      fill: #1967D2;\n",
              "      height: 32px;\n",
              "      padding: 0 0 0 0;\n",
              "      width: 32px;\n",
              "    }\n",
              "\n",
              "    .colab-df-convert:hover {\n",
              "      background-color: #E2EBFA;\n",
              "      box-shadow: 0px 1px 2px rgba(60, 64, 67, 0.3), 0px 1px 3px 1px rgba(60, 64, 67, 0.15);\n",
              "      fill: #174EA6;\n",
              "    }\n",
              "\n",
              "    [theme=dark] .colab-df-convert {\n",
              "      background-color: #3B4455;\n",
              "      fill: #D2E3FC;\n",
              "    }\n",
              "\n",
              "    [theme=dark] .colab-df-convert:hover {\n",
              "      background-color: #434B5C;\n",
              "      box-shadow: 0px 1px 3px 1px rgba(0, 0, 0, 0.15);\n",
              "      filter: drop-shadow(0px 1px 2px rgba(0, 0, 0, 0.3));\n",
              "      fill: #FFFFFF;\n",
              "    }\n",
              "  </style>\n",
              "\n",
              "      <script>\n",
              "        const buttonEl =\n",
              "          document.querySelector('#df-7e98682d-ea0b-42d9-bf85-4baec60dc865 button.colab-df-convert');\n",
              "        buttonEl.style.display =\n",
              "          google.colab.kernel.accessAllowed ? 'block' : 'none';\n",
              "\n",
              "        async function convertToInteractive(key) {\n",
              "          const element = document.querySelector('#df-7e98682d-ea0b-42d9-bf85-4baec60dc865');\n",
              "          const dataTable =\n",
              "            await google.colab.kernel.invokeFunction('convertToInteractive',\n",
              "                                                     [key], {});\n",
              "          if (!dataTable) return;\n",
              "\n",
              "          const docLinkHtml = 'Like what you see? Visit the ' +\n",
              "            '<a target=\"_blank\" href=https://colab.research.google.com/notebooks/data_table.ipynb>data table notebook</a>'\n",
              "            + ' to learn more about interactive tables.';\n",
              "          element.innerHTML = '';\n",
              "          dataTable['output_type'] = 'display_data';\n",
              "          await google.colab.output.renderOutput(dataTable, element);\n",
              "          const docLink = document.createElement('div');\n",
              "          docLink.innerHTML = docLinkHtml;\n",
              "          element.appendChild(docLink);\n",
              "        }\n",
              "      </script>\n",
              "    </div>\n",
              "  </div>\n",
              "  "
            ]
          },
          "metadata": {},
          "execution_count": 6
        }
      ]
    },
    {
      "cell_type": "code",
      "source": [
        "# Feature Engineering \n",
        "df['input'] = 'TEXT1: ' + df.context + '; TEXT2: ' + df.target + '; ANC1: ' + df.anchor\n",
        "df.input.head()\n"
      ],
      "metadata": {
        "colab": {
          "base_uri": "https://localhost:8080/"
        },
        "id": "Xyrpk5kSaH-j",
        "outputId": "03ad7a58-5474-4455-ee0f-8c06f12751ac"
      },
      "execution_count": 7,
      "outputs": [
        {
          "output_type": "execute_result",
          "data": {
            "text/plain": [
              "0    TEXT1: A47; TEXT2: abatement of pollution; ANC...\n",
              "1    TEXT1: A47; TEXT2: act of abating; ANC1: abate...\n",
              "2    TEXT1: A47; TEXT2: active catalyst; ANC1: abat...\n",
              "3    TEXT1: A47; TEXT2: eliminating process; ANC1: ...\n",
              "4    TEXT1: A47; TEXT2: forest region; ANC1: abatement\n",
              "Name: input, dtype: object"
            ]
          },
          "metadata": {},
          "execution_count": 7
        }
      ]
    },
    {
      "cell_type": "markdown",
      "source": [
        "## Tokenization\n"
      ],
      "metadata": {
        "id": "wNmcK8P8admB"
      }
    },
    {
      "cell_type": "markdown",
      "source": [
        "## transformer只能用Dataset这种类别的data，因此要先完成数据转换"
      ],
      "metadata": {
        "id": "rhZNKa0L8e6G"
      }
    },
    {
      "cell_type": "code",
      "source": [
        "!pip install -q datasets\n",
        "from datasets import Dataset,DatasetDict\n",
        "ds = Dataset.from_pandas(df)\n"
      ],
      "metadata": {
        "colab": {
          "base_uri": "https://localhost:8080/"
        },
        "id": "NODh6g8XaRjk",
        "outputId": "ba9eef44-2d26-4f62-9614-abeac03aff2d"
      },
      "execution_count": 8,
      "outputs": [
        {
          "output_type": "stream",
          "name": "stdout",
          "text": [
            "\u001b[K     |████████████████████████████████| 365 kB 4.1 MB/s \n",
            "\u001b[K     |████████████████████████████████| 120 kB 74.5 MB/s \n",
            "\u001b[K     |████████████████████████████████| 212 kB 62.1 MB/s \n",
            "\u001b[K     |████████████████████████████████| 115 kB 65.4 MB/s \n",
            "\u001b[K     |████████████████████████████████| 127 kB 72.7 MB/s \n",
            "\u001b[?25h"
          ]
        }
      ]
    },
    {
      "cell_type": "code",
      "source": [
        "ds"
      ],
      "metadata": {
        "colab": {
          "base_uri": "https://localhost:8080/"
        },
        "id": "WIv7mTBfajkq",
        "outputId": "8d2a01bb-6037-4f95-acd3-e11d63928b15"
      },
      "execution_count": 9,
      "outputs": [
        {
          "output_type": "execute_result",
          "data": {
            "text/plain": [
              "Dataset({\n",
              "    features: ['id', 'anchor', 'target', 'context', 'score', 'input'],\n",
              "    num_rows: 36473\n",
              "})"
            ]
          },
          "metadata": {},
          "execution_count": 9
        }
      ]
    },
    {
      "cell_type": "code",
      "source": [
        "model_nm = 'microsoft/deberta-v3-small'\n",
        "!pip install transformers\n",
        "!pip install sentencepiece"
      ],
      "metadata": {
        "colab": {
          "base_uri": "https://localhost:8080/"
        },
        "id": "ZZkzRZ9AawDy",
        "outputId": "34b279e5-1559-421a-93c8-e5d8ddcfeafe"
      },
      "execution_count": 10,
      "outputs": [
        {
          "output_type": "stream",
          "name": "stdout",
          "text": [
            "Looking in indexes: https://pypi.org/simple, https://us-python.pkg.dev/colab-wheels/public/simple/\n",
            "Collecting transformers\n",
            "  Downloading transformers-4.21.1-py3-none-any.whl (4.7 MB)\n",
            "\u001b[K     |████████████████████████████████| 4.7 MB 4.1 MB/s \n",
            "\u001b[?25hRequirement already satisfied: regex!=2019.12.17 in /usr/local/lib/python3.7/dist-packages (from transformers) (2022.6.2)\n",
            "Requirement already satisfied: filelock in /usr/local/lib/python3.7/dist-packages (from transformers) (3.8.0)\n",
            "Requirement already satisfied: packaging>=20.0 in /usr/local/lib/python3.7/dist-packages (from transformers) (21.3)\n",
            "Requirement already satisfied: numpy>=1.17 in /usr/local/lib/python3.7/dist-packages (from transformers) (1.21.6)\n",
            "Requirement already satisfied: pyyaml>=5.1 in /usr/local/lib/python3.7/dist-packages (from transformers) (6.0)\n",
            "Requirement already satisfied: requests in /usr/local/lib/python3.7/dist-packages (from transformers) (2.23.0)\n",
            "Requirement already satisfied: importlib-metadata in /usr/local/lib/python3.7/dist-packages (from transformers) (4.12.0)\n",
            "Requirement already satisfied: tqdm>=4.27 in /usr/local/lib/python3.7/dist-packages (from transformers) (4.64.0)\n",
            "Requirement already satisfied: huggingface-hub<1.0,>=0.1.0 in /usr/local/lib/python3.7/dist-packages (from transformers) (0.9.0)\n",
            "Collecting tokenizers!=0.11.3,<0.13,>=0.11.1\n",
            "  Downloading tokenizers-0.12.1-cp37-cp37m-manylinux_2_12_x86_64.manylinux2010_x86_64.whl (6.6 MB)\n",
            "\u001b[K     |████████████████████████████████| 6.6 MB 46.0 MB/s \n",
            "\u001b[?25hRequirement already satisfied: typing-extensions>=3.7.4.3 in /usr/local/lib/python3.7/dist-packages (from huggingface-hub<1.0,>=0.1.0->transformers) (4.1.1)\n",
            "Requirement already satisfied: pyparsing!=3.0.5,>=2.0.2 in /usr/local/lib/python3.7/dist-packages (from packaging>=20.0->transformers) (3.0.9)\n",
            "Requirement already satisfied: zipp>=0.5 in /usr/local/lib/python3.7/dist-packages (from importlib-metadata->transformers) (3.8.1)\n",
            "Requirement already satisfied: urllib3!=1.25.0,!=1.25.1,<1.26,>=1.21.1 in /usr/local/lib/python3.7/dist-packages (from requests->transformers) (1.25.11)\n",
            "Requirement already satisfied: chardet<4,>=3.0.2 in /usr/local/lib/python3.7/dist-packages (from requests->transformers) (3.0.4)\n",
            "Requirement already satisfied: idna<3,>=2.5 in /usr/local/lib/python3.7/dist-packages (from requests->transformers) (2.10)\n",
            "Requirement already satisfied: certifi>=2017.4.17 in /usr/local/lib/python3.7/dist-packages (from requests->transformers) (2022.6.15)\n",
            "Installing collected packages: tokenizers, transformers\n",
            "Successfully installed tokenizers-0.12.1 transformers-4.21.1\n",
            "Looking in indexes: https://pypi.org/simple, https://us-python.pkg.dev/colab-wheels/public/simple/\n",
            "Collecting sentencepiece\n",
            "  Downloading sentencepiece-0.1.97-cp37-cp37m-manylinux_2_17_x86_64.manylinux2014_x86_64.whl (1.3 MB)\n",
            "\u001b[K     |████████████████████████████████| 1.3 MB 4.1 MB/s \n",
            "\u001b[?25hInstalling collected packages: sentencepiece\n",
            "Successfully installed sentencepiece-0.1.97\n"
          ]
        }
      ]
    },
    {
      "cell_type": "code",
      "source": [
        "from transformers import AutoModelForSequenceClassification,AutoTokenizer\n",
        "# Tokenize in a way fits the assigned model\n",
        "tokz = AutoTokenizer.from_pretrained(model_nm)"
      ],
      "metadata": {
        "colab": {
          "base_uri": "https://localhost:8080/",
          "height": 202,
          "referenced_widgets": [
            "ffbb8dc2645a40ab919d1d9a61712a03",
            "3798a18d631a4f339fb4779e07b79280",
            "44e7c0aa6e424b07bbe61568dad5f2c6",
            "1098c1821835468697a99c5a93b834b9",
            "3e394a0613e544d4adfef98b8f867dc6",
            "6240bdfcf16a4fb29abea445c4725772",
            "da3f3aabba08491e9f9cefd6374ae4a6",
            "4e3cf5d054b44fbfb7b0d4ca66134c46",
            "32d9878dc1d04615b3358c21e771ed0e",
            "64f1dac3ebdc45ca97cb090ee3c97f73",
            "cec3e097c29445f8a9dc54db21ee940a",
            "10f2f41bd471494385ebf9e3c169f0f7",
            "e43a9bce174245ef8623c873bd486030",
            "9de366b1cbfd47b89b5349c0f2fd3459",
            "77d82838c95841bd95a249f15fb8ba77",
            "14c1f6815b994881a4d4f3b0f89c4c1a",
            "ce4cb6d96ca94a5399738da72875801e",
            "8a2cde09034440f4a5d2749f6b821825",
            "794251cd86d640fb8df9cc02ffd99856",
            "b7acb16f102443c693bbad25ccc71d66",
            "143df027eff64d6c9b029015b219ca84",
            "ae90167253304afc8b29c6224a35fbd2",
            "c8d84052b6b94aacb2a7e303b954f7cb",
            "d7f25859d8a84ccdb4713b269e4dbff5",
            "0a37fbd3f10345c4a8300dd090a7d6ff",
            "ed682f207efe4c40bc5b20ead2ecda68",
            "5477f91de12f4133ad8917c9b16ce687",
            "4ac64c1a6d8047829897d9dc4d7abcd2",
            "7567a4e0a40f42d3ac2958b38367171c",
            "775cb133bf6b41859be9af4f81d9495c",
            "2c997ede32c34494939060535c1c2de7",
            "4ff13e73b3c14f848481135636750949",
            "f329aa9a9ddb4c44968a8eb2d3d76c22"
          ]
        },
        "id": "UEpgAddBaymp",
        "outputId": "a4d9ebb7-587c-4c2f-9447-31db2967827e"
      },
      "execution_count": 11,
      "outputs": [
        {
          "output_type": "display_data",
          "data": {
            "text/plain": [
              "Downloading tokenizer_config.json:   0%|          | 0.00/52.0 [00:00<?, ?B/s]"
            ],
            "application/vnd.jupyter.widget-view+json": {
              "version_major": 2,
              "version_minor": 0,
              "model_id": "ffbb8dc2645a40ab919d1d9a61712a03"
            }
          },
          "metadata": {}
        },
        {
          "output_type": "display_data",
          "data": {
            "text/plain": [
              "Downloading config.json:   0%|          | 0.00/578 [00:00<?, ?B/s]"
            ],
            "application/vnd.jupyter.widget-view+json": {
              "version_major": 2,
              "version_minor": 0,
              "model_id": "10f2f41bd471494385ebf9e3c169f0f7"
            }
          },
          "metadata": {}
        },
        {
          "output_type": "display_data",
          "data": {
            "text/plain": [
              "Downloading spm.model:   0%|          | 0.00/2.35M [00:00<?, ?B/s]"
            ],
            "application/vnd.jupyter.widget-view+json": {
              "version_major": 2,
              "version_minor": 0,
              "model_id": "c8d84052b6b94aacb2a7e303b954f7cb"
            }
          },
          "metadata": {}
        },
        {
          "output_type": "stream",
          "name": "stderr",
          "text": [
            "Special tokens have been added in the vocabulary, make sure the associated word embeddings are fine-tuned or trained.\n",
            "/usr/local/lib/python3.7/dist-packages/transformers/convert_slow_tokenizer.py:435: UserWarning: The sentencepiece tokenizer that you are converting to a fast tokenizer uses the byte fallback option which is not implemented in the fast tokenizers. In practice this means that the fast version of the tokenizer can produce unknown tokens whereas the sentencepiece version would have converted these unknown tokens into a sequence of byte tokens matching the original piece of text.\n",
            "  \"The sentencepiece tokenizer that you are converting to a fast tokenizer uses the byte fallback option\"\n",
            "Special tokens have been added in the vocabulary, make sure the associated word embeddings are fine-tuned or trained.\n"
          ]
        }
      ]
    },
    {
      "cell_type": "code",
      "source": [
        "def tok_func(x): return tokz(x[\"input\"])"
      ],
      "metadata": {
        "id": "ORBqJEzOdJO6"
      },
      "execution_count": 12,
      "outputs": []
    },
    {
      "cell_type": "code",
      "source": [
        "tok_ds = ds.map(tok_func, batched=True)"
      ],
      "metadata": {
        "colab": {
          "base_uri": "https://localhost:8080/",
          "height": 49,
          "referenced_widgets": [
            "a096c11e1d61450a9171649373ff4c9a",
            "20dd31d6cb2e4d25b806c0fd7d1a33d4",
            "a4b9e1bd0b1446a0a1fe3b36857792fe",
            "a27dc4a1646c42f0b8caaf7998357e04",
            "9ab3a15940ff4d078025663b38402759",
            "c59eb1d2ed814a70891ee13dcffa35b7",
            "d2a86497767a4b4fb44c7964c68980f1",
            "b575af89bfcc42ed8ce5ca9ecb1722bc",
            "870f075470e2462784132f72322776ac",
            "aae563ba7fdc438daeb048cb54ac631a",
            "e21db6df37ad444884c37a5efb64626f"
          ]
        },
        "id": "kcbVf8ZKdFY5",
        "outputId": "019f7461-f5e5-466c-d74d-2377ffbdc966"
      },
      "execution_count": 13,
      "outputs": [
        {
          "output_type": "display_data",
          "data": {
            "text/plain": [
              "  0%|          | 0/37 [00:00<?, ?ba/s]"
            ],
            "application/vnd.jupyter.widget-view+json": {
              "version_major": 2,
              "version_minor": 0,
              "model_id": "a096c11e1d61450a9171649373ff4c9a"
            }
          },
          "metadata": {}
        }
      ]
    },
    {
      "cell_type": "code",
      "source": [
        "row = tok_ds[0]\n",
        "row['input'], row['input_ids']"
      ],
      "metadata": {
        "colab": {
          "base_uri": "https://localhost:8080/"
        },
        "id": "YrblDJE5dLLY",
        "outputId": "4510a698-b1bc-471d-81cf-f7e9f71ad4b6"
      },
      "execution_count": 14,
      "outputs": [
        {
          "output_type": "execute_result",
          "data": {
            "text/plain": [
              "('TEXT1: A47; TEXT2: abatement of pollution; ANC1: abatement',\n",
              " [1,\n",
              "  54453,\n",
              "  435,\n",
              "  294,\n",
              "  336,\n",
              "  5753,\n",
              "  346,\n",
              "  54453,\n",
              "  445,\n",
              "  294,\n",
              "  47284,\n",
              "  265,\n",
              "  6435,\n",
              "  346,\n",
              "  23702,\n",
              "  435,\n",
              "  294,\n",
              "  47284,\n",
              "  2])"
            ]
          },
          "metadata": {},
          "execution_count": 14
        }
      ]
    },
    {
      "cell_type": "code",
      "source": [
        "tokz.vocab['▁of']"
      ],
      "metadata": {
        "colab": {
          "base_uri": "https://localhost:8080/"
        },
        "id": "SAXLrmQ8depZ",
        "outputId": "299749dc-112d-4a45-94f9-a093156d427e"
      },
      "execution_count": 15,
      "outputs": [
        {
          "output_type": "execute_result",
          "data": {
            "text/plain": [
              "265"
            ]
          },
          "metadata": {},
          "execution_count": 15
        }
      ]
    },
    {
      "cell_type": "code",
      "source": [
        "tok_ds = tok_ds.rename_columns({'score':'labels'})\n"
      ],
      "metadata": {
        "id": "AVZEiXsJdhxQ"
      },
      "execution_count": 16,
      "outputs": []
    },
    {
      "cell_type": "markdown",
      "source": [
        "## Test and validation sets\n"
      ],
      "metadata": {
        "id": "bn4LnLZ0eAbJ"
      }
    },
    {
      "cell_type": "code",
      "source": [
        "eval_df = pd.read_csv(path/'test.csv')\n",
        "eval_df.describe()"
      ],
      "metadata": {
        "colab": {
          "base_uri": "https://localhost:8080/",
          "height": 175
        },
        "id": "IlAT1jCzd1Bg",
        "outputId": "26c3c9ae-ff20-4067-c0c8-728b04e332d9"
      },
      "execution_count": 17,
      "outputs": [
        {
          "output_type": "execute_result",
          "data": {
            "text/plain": [
              "                      id      anchor                         target context\n",
              "count                 36          36                             36      36\n",
              "unique                36          34                             36      29\n",
              "top     4112d61851461f60  el display  inorganic photoconductor drum     G02\n",
              "freq                   1           2                              1       3"
            ],
            "text/html": [
              "\n",
              "  <div id=\"df-cfce4a5e-ce51-46c8-b006-ee577f9dd596\">\n",
              "    <div class=\"colab-df-container\">\n",
              "      <div>\n",
              "<style scoped>\n",
              "    .dataframe tbody tr th:only-of-type {\n",
              "        vertical-align: middle;\n",
              "    }\n",
              "\n",
              "    .dataframe tbody tr th {\n",
              "        vertical-align: top;\n",
              "    }\n",
              "\n",
              "    .dataframe thead th {\n",
              "        text-align: right;\n",
              "    }\n",
              "</style>\n",
              "<table border=\"1\" class=\"dataframe\">\n",
              "  <thead>\n",
              "    <tr style=\"text-align: right;\">\n",
              "      <th></th>\n",
              "      <th>id</th>\n",
              "      <th>anchor</th>\n",
              "      <th>target</th>\n",
              "      <th>context</th>\n",
              "    </tr>\n",
              "  </thead>\n",
              "  <tbody>\n",
              "    <tr>\n",
              "      <th>count</th>\n",
              "      <td>36</td>\n",
              "      <td>36</td>\n",
              "      <td>36</td>\n",
              "      <td>36</td>\n",
              "    </tr>\n",
              "    <tr>\n",
              "      <th>unique</th>\n",
              "      <td>36</td>\n",
              "      <td>34</td>\n",
              "      <td>36</td>\n",
              "      <td>29</td>\n",
              "    </tr>\n",
              "    <tr>\n",
              "      <th>top</th>\n",
              "      <td>4112d61851461f60</td>\n",
              "      <td>el display</td>\n",
              "      <td>inorganic photoconductor drum</td>\n",
              "      <td>G02</td>\n",
              "    </tr>\n",
              "    <tr>\n",
              "      <th>freq</th>\n",
              "      <td>1</td>\n",
              "      <td>2</td>\n",
              "      <td>1</td>\n",
              "      <td>3</td>\n",
              "    </tr>\n",
              "  </tbody>\n",
              "</table>\n",
              "</div>\n",
              "      <button class=\"colab-df-convert\" onclick=\"convertToInteractive('df-cfce4a5e-ce51-46c8-b006-ee577f9dd596')\"\n",
              "              title=\"Convert this dataframe to an interactive table.\"\n",
              "              style=\"display:none;\">\n",
              "        \n",
              "  <svg xmlns=\"http://www.w3.org/2000/svg\" height=\"24px\"viewBox=\"0 0 24 24\"\n",
              "       width=\"24px\">\n",
              "    <path d=\"M0 0h24v24H0V0z\" fill=\"none\"/>\n",
              "    <path d=\"M18.56 5.44l.94 2.06.94-2.06 2.06-.94-2.06-.94-.94-2.06-.94 2.06-2.06.94zm-11 1L8.5 8.5l.94-2.06 2.06-.94-2.06-.94L8.5 2.5l-.94 2.06-2.06.94zm10 10l.94 2.06.94-2.06 2.06-.94-2.06-.94-.94-2.06-.94 2.06-2.06.94z\"/><path d=\"M17.41 7.96l-1.37-1.37c-.4-.4-.92-.59-1.43-.59-.52 0-1.04.2-1.43.59L10.3 9.45l-7.72 7.72c-.78.78-.78 2.05 0 2.83L4 21.41c.39.39.9.59 1.41.59.51 0 1.02-.2 1.41-.59l7.78-7.78 2.81-2.81c.8-.78.8-2.07 0-2.86zM5.41 20L4 18.59l7.72-7.72 1.47 1.35L5.41 20z\"/>\n",
              "  </svg>\n",
              "      </button>\n",
              "      \n",
              "  <style>\n",
              "    .colab-df-container {\n",
              "      display:flex;\n",
              "      flex-wrap:wrap;\n",
              "      gap: 12px;\n",
              "    }\n",
              "\n",
              "    .colab-df-convert {\n",
              "      background-color: #E8F0FE;\n",
              "      border: none;\n",
              "      border-radius: 50%;\n",
              "      cursor: pointer;\n",
              "      display: none;\n",
              "      fill: #1967D2;\n",
              "      height: 32px;\n",
              "      padding: 0 0 0 0;\n",
              "      width: 32px;\n",
              "    }\n",
              "\n",
              "    .colab-df-convert:hover {\n",
              "      background-color: #E2EBFA;\n",
              "      box-shadow: 0px 1px 2px rgba(60, 64, 67, 0.3), 0px 1px 3px 1px rgba(60, 64, 67, 0.15);\n",
              "      fill: #174EA6;\n",
              "    }\n",
              "\n",
              "    [theme=dark] .colab-df-convert {\n",
              "      background-color: #3B4455;\n",
              "      fill: #D2E3FC;\n",
              "    }\n",
              "\n",
              "    [theme=dark] .colab-df-convert:hover {\n",
              "      background-color: #434B5C;\n",
              "      box-shadow: 0px 1px 3px 1px rgba(0, 0, 0, 0.15);\n",
              "      filter: drop-shadow(0px 1px 2px rgba(0, 0, 0, 0.3));\n",
              "      fill: #FFFFFF;\n",
              "    }\n",
              "  </style>\n",
              "\n",
              "      <script>\n",
              "        const buttonEl =\n",
              "          document.querySelector('#df-cfce4a5e-ce51-46c8-b006-ee577f9dd596 button.colab-df-convert');\n",
              "        buttonEl.style.display =\n",
              "          google.colab.kernel.accessAllowed ? 'block' : 'none';\n",
              "\n",
              "        async function convertToInteractive(key) {\n",
              "          const element = document.querySelector('#df-cfce4a5e-ce51-46c8-b006-ee577f9dd596');\n",
              "          const dataTable =\n",
              "            await google.colab.kernel.invokeFunction('convertToInteractive',\n",
              "                                                     [key], {});\n",
              "          if (!dataTable) return;\n",
              "\n",
              "          const docLinkHtml = 'Like what you see? Visit the ' +\n",
              "            '<a target=\"_blank\" href=https://colab.research.google.com/notebooks/data_table.ipynb>data table notebook</a>'\n",
              "            + ' to learn more about interactive tables.';\n",
              "          element.innerHTML = '';\n",
              "          dataTable['output_type'] = 'display_data';\n",
              "          await google.colab.output.renderOutput(dataTable, element);\n",
              "          const docLink = document.createElement('div');\n",
              "          docLink.innerHTML = docLinkHtml;\n",
              "          element.appendChild(docLink);\n",
              "        }\n",
              "      </script>\n",
              "    </div>\n",
              "  </div>\n",
              "  "
            ]
          },
          "metadata": {},
          "execution_count": 17
        }
      ]
    },
    {
      "cell_type": "code",
      "source": [
        "dds = tok_ds.train_test_split(0.25, seed=42)\n",
        "dds"
      ],
      "metadata": {
        "colab": {
          "base_uri": "https://localhost:8080/"
        },
        "id": "NrlFdmONd8c3",
        "outputId": "094eb706-8e56-40b3-99cf-f29dc5e66e29"
      },
      "execution_count": 18,
      "outputs": [
        {
          "output_type": "execute_result",
          "data": {
            "text/plain": [
              "DatasetDict({\n",
              "    train: Dataset({\n",
              "        features: ['id', 'anchor', 'target', 'context', 'labels', 'input', 'input_ids', 'token_type_ids', 'attention_mask'],\n",
              "        num_rows: 27354\n",
              "    })\n",
              "    test: Dataset({\n",
              "        features: ['id', 'anchor', 'target', 'context', 'labels', 'input', 'input_ids', 'token_type_ids', 'attention_mask'],\n",
              "        num_rows: 9119\n",
              "    })\n",
              "})"
            ]
          },
          "metadata": {},
          "execution_count": 18
        }
      ]
    },
    {
      "cell_type": "code",
      "source": [
        "eval_df['input'] = 'TEXT1: ' + eval_df.context + '; TEXT2: ' + eval_df.target + '; ANC1: ' + eval_df.anchor\n",
        "eval_ds = Dataset.from_pandas(eval_df).map(tok_func, batched=True)"
      ],
      "metadata": {
        "colab": {
          "base_uri": "https://localhost:8080/",
          "height": 49,
          "referenced_widgets": [
            "5040ca4509674d4ca730ffd400a066ce",
            "11cf87ddc3114a7a823f69a3eb9da93d",
            "41c6cf7958164115af520ea302d856ea",
            "d3b6047c29eb444cb34ad3ab5a1a0b81",
            "50d67cec84ad4a13ba13e8ed13c99368",
            "d100d72a6c4d4a1c83d7ab55d2aaa79d",
            "10d622ae108546f4be1c23fde4cf2d79",
            "a2702b6236234a8b9bf73332ef1cfd99",
            "bf73230d64f144a898da8d5db585ec90",
            "335d0b4f8bfa4a2da641bf44e62b379d",
            "bd79a96d08fa4e90a82bdfe65590ad34"
          ]
        },
        "id": "a1utNScGkyoh",
        "outputId": "932a1fe4-b8c1-4ae6-838f-14f53a5082a0"
      },
      "execution_count": 19,
      "outputs": [
        {
          "output_type": "display_data",
          "data": {
            "text/plain": [
              "  0%|          | 0/1 [00:00<?, ?ba/s]"
            ],
            "application/vnd.jupyter.widget-view+json": {
              "version_major": 2,
              "version_minor": 0,
              "model_id": "5040ca4509674d4ca730ffd400a066ce"
            }
          },
          "metadata": {}
        }
      ]
    },
    {
      "cell_type": "code",
      "source": [
        "def corr(x,y): return np.corrcoef(x,y)[0][1]\n",
        "def corr_d(eval_pred): return {'pearson': corr(*eval_pred)}\n",
        "\n"
      ],
      "metadata": {
        "id": "_AGBK07zqBJO"
      },
      "execution_count": 20,
      "outputs": []
    },
    {
      "cell_type": "markdown",
      "source": [
        "## Training\n"
      ],
      "metadata": {
        "id": "HFEuFUgZrn2c"
      }
    },
    {
      "cell_type": "code",
      "source": [
        "from transformers import TrainingArguments,Trainer\n",
        "import numpy as np"
      ],
      "metadata": {
        "id": "St6IiBoXrdRN"
      },
      "execution_count": 21,
      "outputs": []
    },
    {
      "cell_type": "code",
      "source": [
        "bs = 128\n",
        "epochs = 4\n",
        "lr = 8e-5"
      ],
      "metadata": {
        "id": "j9DWEfZMr18S"
      },
      "execution_count": 22,
      "outputs": []
    },
    {
      "cell_type": "markdown",
      "source": [
        "设置模型参数"
      ],
      "metadata": {
        "id": "ESj-9qeK2Ngp"
      }
    },
    {
      "cell_type": "code",
      "source": [
        "args = TrainingArguments('outputs', learning_rate=lr, warmup_ratio=0.1, lr_scheduler_type='cosine', fp16=True,\n",
        "    evaluation_strategy=\"epoch\", per_device_train_batch_size=bs, per_device_eval_batch_size=bs*2,\n",
        "    num_train_epochs=epochs, weight_decay=0.01, report_to='none')"
      ],
      "metadata": {
        "id": "gAoI9NNVt7Aq"
      },
      "execution_count": 23,
      "outputs": []
    },
    {
      "cell_type": "markdown",
      "source": [
        "设置模型和Trainer"
      ],
      "metadata": {
        "id": "2dudbPL22Pmb"
      }
    },
    {
      "cell_type": "code",
      "source": [
        "model = AutoModelForSequenceClassification.from_pretrained(model_nm, num_labels=1)\n",
        "trainer = Trainer(model, args, train_dataset=dds['train'], eval_dataset=dds['test'],\n",
        "                  tokenizer=tokz, compute_metrics=corr_d)"
      ],
      "metadata": {
        "colab": {
          "base_uri": "https://localhost:8080/",
          "height": 173,
          "referenced_widgets": [
            "7eb7b6a7c9364dc1ba8a0669b911138d",
            "04dfa80741a241c9b63c5d13fbf388e0",
            "b4c0cf1a4e10433e8861ba1b017d9cbd",
            "524825486b914331966d847799bbe73c",
            "1e2b19d1b59341e28987aa10b7093482",
            "aa7c56bf2f29492eb9fa43b591ffe706",
            "b781125417a047a39bff4a123e35cc50",
            "3656235060694587829d86f864c53609",
            "0f3a43b54f6e4dabbb998a1be739e30d",
            "1a2b18d449324ef5946cb4dc0f57c8fd",
            "15a5523f0e9c48a783b51156a421703d"
          ]
        },
        "id": "9tNw_UufxL2e",
        "outputId": "68f414fc-54df-4355-c7fc-ac902df7f0f9"
      },
      "execution_count": 24,
      "outputs": [
        {
          "output_type": "display_data",
          "data": {
            "text/plain": [
              "Downloading pytorch_model.bin:   0%|          | 0.00/273M [00:00<?, ?B/s]"
            ],
            "application/vnd.jupyter.widget-view+json": {
              "version_major": 2,
              "version_minor": 0,
              "model_id": "7eb7b6a7c9364dc1ba8a0669b911138d"
            }
          },
          "metadata": {}
        },
        {
          "output_type": "stream",
          "name": "stderr",
          "text": [
            "Some weights of the model checkpoint at microsoft/deberta-v3-small were not used when initializing DebertaV2ForSequenceClassification: ['mask_predictions.LayerNorm.bias', 'lm_predictions.lm_head.LayerNorm.weight', 'mask_predictions.dense.bias', 'mask_predictions.classifier.weight', 'lm_predictions.lm_head.dense.bias', 'lm_predictions.lm_head.LayerNorm.bias', 'mask_predictions.LayerNorm.weight', 'mask_predictions.classifier.bias', 'lm_predictions.lm_head.bias', 'lm_predictions.lm_head.dense.weight', 'mask_predictions.dense.weight']\n",
            "- This IS expected if you are initializing DebertaV2ForSequenceClassification from the checkpoint of a model trained on another task or with another architecture (e.g. initializing a BertForSequenceClassification model from a BertForPreTraining model).\n",
            "- This IS NOT expected if you are initializing DebertaV2ForSequenceClassification from the checkpoint of a model that you expect to be exactly identical (initializing a BertForSequenceClassification model from a BertForSequenceClassification model).\n",
            "Some weights of DebertaV2ForSequenceClassification were not initialized from the model checkpoint at microsoft/deberta-v3-small and are newly initialized: ['classifier.weight', 'pooler.dense.weight', 'classifier.bias', 'pooler.dense.bias']\n",
            "You should probably TRAIN this model on a down-stream task to be able to use it for predictions and inference.\n",
            "Using cuda_amp half precision backend\n"
          ]
        }
      ]
    },
    {
      "cell_type": "code",
      "source": [
        "trainer.train();\n"
      ],
      "metadata": {
        "colab": {
          "base_uri": "https://localhost:8080/",
          "height": 846
        },
        "id": "TM5MKeSrx_w1",
        "outputId": "94dd54e4-8902-45e8-a81d-f3c140eb32ce"
      },
      "execution_count": 25,
      "outputs": [
        {
          "output_type": "stream",
          "name": "stderr",
          "text": [
            "The following columns in the training set don't have a corresponding argument in `DebertaV2ForSequenceClassification.forward` and have been ignored: anchor, context, target, input, id. If anchor, context, target, input, id are not expected by `DebertaV2ForSequenceClassification.forward`,  you can safely ignore this message.\n",
            "/usr/local/lib/python3.7/dist-packages/transformers/optimization.py:310: FutureWarning: This implementation of AdamW is deprecated and will be removed in a future version. Use the PyTorch implementation torch.optim.AdamW instead, or set `no_deprecation_warning=True` to disable this warning\n",
            "  FutureWarning,\n",
            "***** Running training *****\n",
            "  Num examples = 27354\n",
            "  Num Epochs = 4\n",
            "  Instantaneous batch size per device = 128\n",
            "  Total train batch size (w. parallel, distributed & accumulation) = 128\n",
            "  Gradient Accumulation steps = 1\n",
            "  Total optimization steps = 856\n"
          ]
        },
        {
          "output_type": "display_data",
          "data": {
            "text/plain": [
              "<IPython.core.display.HTML object>"
            ],
            "text/html": [
              "\n",
              "    <div>\n",
              "      \n",
              "      <progress value='856' max='856' style='width:300px; height:20px; vertical-align: middle;'></progress>\n",
              "      [856/856 04:37, Epoch 4/4]\n",
              "    </div>\n",
              "    <table border=\"1\" class=\"dataframe\">\n",
              "  <thead>\n",
              " <tr style=\"text-align: left;\">\n",
              "      <th>Epoch</th>\n",
              "      <th>Training Loss</th>\n",
              "      <th>Validation Loss</th>\n",
              "      <th>Pearson</th>\n",
              "    </tr>\n",
              "  </thead>\n",
              "  <tbody>\n",
              "    <tr>\n",
              "      <td>1</td>\n",
              "      <td>No log</td>\n",
              "      <td>0.024867</td>\n",
              "      <td>0.801632</td>\n",
              "    </tr>\n",
              "    <tr>\n",
              "      <td>2</td>\n",
              "      <td>No log</td>\n",
              "      <td>0.023620</td>\n",
              "      <td>0.823012</td>\n",
              "    </tr>\n",
              "    <tr>\n",
              "      <td>3</td>\n",
              "      <td>0.035700</td>\n",
              "      <td>0.023971</td>\n",
              "      <td>0.828808</td>\n",
              "    </tr>\n",
              "    <tr>\n",
              "      <td>4</td>\n",
              "      <td>0.035700</td>\n",
              "      <td>0.023045</td>\n",
              "      <td>0.830899</td>\n",
              "    </tr>\n",
              "  </tbody>\n",
              "</table><p>"
            ]
          },
          "metadata": {}
        },
        {
          "output_type": "stream",
          "name": "stderr",
          "text": [
            "The following columns in the evaluation set don't have a corresponding argument in `DebertaV2ForSequenceClassification.forward` and have been ignored: anchor, context, target, input, id. If anchor, context, target, input, id are not expected by `DebertaV2ForSequenceClassification.forward`,  you can safely ignore this message.\n",
            "***** Running Evaluation *****\n",
            "  Num examples = 9119\n",
            "  Batch size = 256\n",
            "The following columns in the evaluation set don't have a corresponding argument in `DebertaV2ForSequenceClassification.forward` and have been ignored: anchor, context, target, input, id. If anchor, context, target, input, id are not expected by `DebertaV2ForSequenceClassification.forward`,  you can safely ignore this message.\n",
            "***** Running Evaluation *****\n",
            "  Num examples = 9119\n",
            "  Batch size = 256\n",
            "Saving model checkpoint to outputs/checkpoint-500\n",
            "Configuration saved in outputs/checkpoint-500/config.json\n",
            "Model weights saved in outputs/checkpoint-500/pytorch_model.bin\n",
            "tokenizer config file saved in outputs/checkpoint-500/tokenizer_config.json\n",
            "Special tokens file saved in outputs/checkpoint-500/special_tokens_map.json\n",
            "The following columns in the evaluation set don't have a corresponding argument in `DebertaV2ForSequenceClassification.forward` and have been ignored: anchor, context, target, input, id. If anchor, context, target, input, id are not expected by `DebertaV2ForSequenceClassification.forward`,  you can safely ignore this message.\n",
            "***** Running Evaluation *****\n",
            "  Num examples = 9119\n",
            "  Batch size = 256\n",
            "The following columns in the evaluation set don't have a corresponding argument in `DebertaV2ForSequenceClassification.forward` and have been ignored: anchor, context, target, input, id. If anchor, context, target, input, id are not expected by `DebertaV2ForSequenceClassification.forward`,  you can safely ignore this message.\n",
            "***** Running Evaluation *****\n",
            "  Num examples = 9119\n",
            "  Batch size = 256\n",
            "\n",
            "\n",
            "Training completed. Do not forget to share your model on huggingface.co/models =)\n",
            "\n",
            "\n"
          ]
        }
      ]
    },
    {
      "cell_type": "code",
      "source": [
        "preds = trainer.predict(eval_ds).predictions.astype(float)\n",
        "preds"
      ],
      "metadata": {
        "colab": {
          "base_uri": "https://localhost:8080/",
          "height": 731
        },
        "id": "aDNgSbICyQVV",
        "outputId": "70d1c2ac-94b3-46aa-9373-6105e1b90f76"
      },
      "execution_count": 26,
      "outputs": [
        {
          "output_type": "stream",
          "name": "stderr",
          "text": [
            "The following columns in the test set don't have a corresponding argument in `DebertaV2ForSequenceClassification.forward` and have been ignored: anchor, context, target, input, id. If anchor, context, target, input, id are not expected by `DebertaV2ForSequenceClassification.forward`,  you can safely ignore this message.\n",
            "***** Running Prediction *****\n",
            "  Num examples = 36\n",
            "  Batch size = 256\n"
          ]
        },
        {
          "output_type": "display_data",
          "data": {
            "text/plain": [
              "<IPython.core.display.HTML object>"
            ],
            "text/html": [
              ""
            ]
          },
          "metadata": {}
        },
        {
          "output_type": "execute_result",
          "data": {
            "text/plain": [
              "array([[ 0.52392578],\n",
              "       [ 0.67529297],\n",
              "       [ 0.56933594],\n",
              "       [ 0.35009766],\n",
              "       [-0.03601074],\n",
              "       [ 0.57226562],\n",
              "       [ 0.53076172],\n",
              "       [ 0.05670166],\n",
              "       [ 0.24377441],\n",
              "       [ 1.10644531],\n",
              "       [ 0.2331543 ],\n",
              "       [ 0.24023438],\n",
              "       [ 0.73925781],\n",
              "       [ 0.88916016],\n",
              "       [ 0.74951172],\n",
              "       [ 0.46679688],\n",
              "       [ 0.35473633],\n",
              "       [-0.01122284],\n",
              "       [ 0.66113281],\n",
              "       [ 0.34545898],\n",
              "       [ 0.43554688],\n",
              "       [ 0.22790527],\n",
              "       [ 0.10809326],\n",
              "       [ 0.24914551],\n",
              "       [ 0.57714844],\n",
              "       [-0.01330566],\n",
              "       [-0.0128479 ],\n",
              "       [-0.02792358],\n",
              "       [-0.02638245],\n",
              "       [ 0.56396484],\n",
              "       [ 0.27490234],\n",
              "       [ 0.04867554],\n",
              "       [ 0.75439453],\n",
              "       [ 0.54345703],\n",
              "       [ 0.53857422],\n",
              "       [ 0.23596191]])"
            ]
          },
          "metadata": {},
          "execution_count": 26
        }
      ]
    },
    {
      "cell_type": "code",
      "source": [
        "preds = np.clip(preds, 0, 1)\n",
        "preds\n"
      ],
      "metadata": {
        "colab": {
          "base_uri": "https://localhost:8080/"
        },
        "id": "lB3LvklfyVTw",
        "outputId": "a7cffa5d-74b3-4eb4-c39a-04c1b2af0b82"
      },
      "execution_count": 27,
      "outputs": [
        {
          "output_type": "execute_result",
          "data": {
            "text/plain": [
              "array([[0.52392578],\n",
              "       [0.67529297],\n",
              "       [0.56933594],\n",
              "       [0.35009766],\n",
              "       [0.        ],\n",
              "       [0.57226562],\n",
              "       [0.53076172],\n",
              "       [0.05670166],\n",
              "       [0.24377441],\n",
              "       [1.        ],\n",
              "       [0.2331543 ],\n",
              "       [0.24023438],\n",
              "       [0.73925781],\n",
              "       [0.88916016],\n",
              "       [0.74951172],\n",
              "       [0.46679688],\n",
              "       [0.35473633],\n",
              "       [0.        ],\n",
              "       [0.66113281],\n",
              "       [0.34545898],\n",
              "       [0.43554688],\n",
              "       [0.22790527],\n",
              "       [0.10809326],\n",
              "       [0.24914551],\n",
              "       [0.57714844],\n",
              "       [0.        ],\n",
              "       [0.        ],\n",
              "       [0.        ],\n",
              "       [0.        ],\n",
              "       [0.56396484],\n",
              "       [0.27490234],\n",
              "       [0.04867554],\n",
              "       [0.75439453],\n",
              "       [0.54345703],\n",
              "       [0.53857422],\n",
              "       [0.23596191]])"
            ]
          },
          "metadata": {},
          "execution_count": 27
        }
      ]
    },
    {
      "cell_type": "code",
      "source": [
        "submission = Dataset.from_dict({\n",
        "    'id': eval_ds['id'],\n",
        "    'score': preds\n",
        "})\n",
        "\n",
        "submission.to_csv('submission.csv', index=False)"
      ],
      "metadata": {
        "colab": {
          "base_uri": "https://localhost:8080/",
          "height": 66,
          "referenced_widgets": [
            "ca3b44e49ba148629d62009eb62e6cd9",
            "0ff4e7744c88403d9cbe09b8ef11bb99",
            "4461415dcf7245939df4385c70a71ead",
            "323963f0da794461bcda2bab9e9e95da",
            "5b0dda38a6664fb3b7465bc4281a3b5b",
            "374b40df9a0446039b0a00177dd9f9f5",
            "b0d8b6df1141436bab72f6cae76cdbe7",
            "3962e5a77c7d418da08e2e938b63df58",
            "80358994001b47e8b9ac27a9fa8166e9",
            "0ff8b5023fb5468e94e327cbd9fede54",
            "1cdfcd7a5d1141fc89f6e1f2461984bb"
          ]
        },
        "id": "q0LukCaGygph",
        "outputId": "4a54305a-28ec-4566-f8e3-e483eb02683c"
      },
      "execution_count": 28,
      "outputs": [
        {
          "output_type": "display_data",
          "data": {
            "text/plain": [
              "Creating CSV from Arrow format:   0%|          | 0/1 [00:00<?, ?ba/s]"
            ],
            "application/vnd.jupyter.widget-view+json": {
              "version_major": 2,
              "version_minor": 0,
              "model_id": "ca3b44e49ba148629d62009eb62e6cd9"
            }
          },
          "metadata": {}
        },
        {
          "output_type": "execute_result",
          "data": {
            "text/plain": [
              "1032"
            ]
          },
          "metadata": {},
          "execution_count": 28
        }
      ]
    },
    {
      "cell_type": "markdown",
      "source": [
        "# How to iterate like a GrandMaster  \n",
        "1. Creating an effective validation set \n",
        "2. Iterating rapidly to find changes which improve results on the validation set. \n"
      ],
      "metadata": {
        "id": "DHJRi4IoyVDX"
      }
    },
    {
      "cell_type": "markdown",
      "source": [
        "## EDA\n"
      ],
      "metadata": {
        "id": "A5AAwEUkKG1S"
      }
    },
    {
      "cell_type": "code",
      "source": [
        "df = pd.read_csv(path/'train.csv')\n",
        "df"
      ],
      "metadata": {
        "colab": {
          "base_uri": "https://localhost:8080/",
          "height": 424
        },
        "id": "9cerCc1AJ6sQ",
        "outputId": "88e29f24-0403-455b-8729-2cbce8ca2137"
      },
      "execution_count": 29,
      "outputs": [
        {
          "output_type": "execute_result",
          "data": {
            "text/plain": [
              "                     id        anchor                  target context  score\n",
              "0      37d61fd2272659b1     abatement  abatement of pollution     A47   0.50\n",
              "1      7b9652b17b68b7a4     abatement          act of abating     A47   0.75\n",
              "2      36d72442aefd8232     abatement         active catalyst     A47   0.25\n",
              "3      5296b0c19e1ce60e     abatement     eliminating process     A47   0.50\n",
              "4      54c1e3b9184cb5b6     abatement           forest region     A47   0.00\n",
              "...                 ...           ...                     ...     ...    ...\n",
              "36468  8e1386cbefd7f245  wood article          wooden article     B44   1.00\n",
              "36469  42d9e032d1cd3242  wood article              wooden box     B44   0.50\n",
              "36470  208654ccb9e14fa3  wood article           wooden handle     B44   0.50\n",
              "36471  756ec035e694722b  wood article         wooden material     B44   0.75\n",
              "36472  8d135da0b55b8c88  wood article        wooden substrate     B44   0.50\n",
              "\n",
              "[36473 rows x 5 columns]"
            ],
            "text/html": [
              "\n",
              "  <div id=\"df-1f78a883-7af9-46cc-83e7-1798f226a0f1\">\n",
              "    <div class=\"colab-df-container\">\n",
              "      <div>\n",
              "<style scoped>\n",
              "    .dataframe tbody tr th:only-of-type {\n",
              "        vertical-align: middle;\n",
              "    }\n",
              "\n",
              "    .dataframe tbody tr th {\n",
              "        vertical-align: top;\n",
              "    }\n",
              "\n",
              "    .dataframe thead th {\n",
              "        text-align: right;\n",
              "    }\n",
              "</style>\n",
              "<table border=\"1\" class=\"dataframe\">\n",
              "  <thead>\n",
              "    <tr style=\"text-align: right;\">\n",
              "      <th></th>\n",
              "      <th>id</th>\n",
              "      <th>anchor</th>\n",
              "      <th>target</th>\n",
              "      <th>context</th>\n",
              "      <th>score</th>\n",
              "    </tr>\n",
              "  </thead>\n",
              "  <tbody>\n",
              "    <tr>\n",
              "      <th>0</th>\n",
              "      <td>37d61fd2272659b1</td>\n",
              "      <td>abatement</td>\n",
              "      <td>abatement of pollution</td>\n",
              "      <td>A47</td>\n",
              "      <td>0.50</td>\n",
              "    </tr>\n",
              "    <tr>\n",
              "      <th>1</th>\n",
              "      <td>7b9652b17b68b7a4</td>\n",
              "      <td>abatement</td>\n",
              "      <td>act of abating</td>\n",
              "      <td>A47</td>\n",
              "      <td>0.75</td>\n",
              "    </tr>\n",
              "    <tr>\n",
              "      <th>2</th>\n",
              "      <td>36d72442aefd8232</td>\n",
              "      <td>abatement</td>\n",
              "      <td>active catalyst</td>\n",
              "      <td>A47</td>\n",
              "      <td>0.25</td>\n",
              "    </tr>\n",
              "    <tr>\n",
              "      <th>3</th>\n",
              "      <td>5296b0c19e1ce60e</td>\n",
              "      <td>abatement</td>\n",
              "      <td>eliminating process</td>\n",
              "      <td>A47</td>\n",
              "      <td>0.50</td>\n",
              "    </tr>\n",
              "    <tr>\n",
              "      <th>4</th>\n",
              "      <td>54c1e3b9184cb5b6</td>\n",
              "      <td>abatement</td>\n",
              "      <td>forest region</td>\n",
              "      <td>A47</td>\n",
              "      <td>0.00</td>\n",
              "    </tr>\n",
              "    <tr>\n",
              "      <th>...</th>\n",
              "      <td>...</td>\n",
              "      <td>...</td>\n",
              "      <td>...</td>\n",
              "      <td>...</td>\n",
              "      <td>...</td>\n",
              "    </tr>\n",
              "    <tr>\n",
              "      <th>36468</th>\n",
              "      <td>8e1386cbefd7f245</td>\n",
              "      <td>wood article</td>\n",
              "      <td>wooden article</td>\n",
              "      <td>B44</td>\n",
              "      <td>1.00</td>\n",
              "    </tr>\n",
              "    <tr>\n",
              "      <th>36469</th>\n",
              "      <td>42d9e032d1cd3242</td>\n",
              "      <td>wood article</td>\n",
              "      <td>wooden box</td>\n",
              "      <td>B44</td>\n",
              "      <td>0.50</td>\n",
              "    </tr>\n",
              "    <tr>\n",
              "      <th>36470</th>\n",
              "      <td>208654ccb9e14fa3</td>\n",
              "      <td>wood article</td>\n",
              "      <td>wooden handle</td>\n",
              "      <td>B44</td>\n",
              "      <td>0.50</td>\n",
              "    </tr>\n",
              "    <tr>\n",
              "      <th>36471</th>\n",
              "      <td>756ec035e694722b</td>\n",
              "      <td>wood article</td>\n",
              "      <td>wooden material</td>\n",
              "      <td>B44</td>\n",
              "      <td>0.75</td>\n",
              "    </tr>\n",
              "    <tr>\n",
              "      <th>36472</th>\n",
              "      <td>8d135da0b55b8c88</td>\n",
              "      <td>wood article</td>\n",
              "      <td>wooden substrate</td>\n",
              "      <td>B44</td>\n",
              "      <td>0.50</td>\n",
              "    </tr>\n",
              "  </tbody>\n",
              "</table>\n",
              "<p>36473 rows × 5 columns</p>\n",
              "</div>\n",
              "      <button class=\"colab-df-convert\" onclick=\"convertToInteractive('df-1f78a883-7af9-46cc-83e7-1798f226a0f1')\"\n",
              "              title=\"Convert this dataframe to an interactive table.\"\n",
              "              style=\"display:none;\">\n",
              "        \n",
              "  <svg xmlns=\"http://www.w3.org/2000/svg\" height=\"24px\"viewBox=\"0 0 24 24\"\n",
              "       width=\"24px\">\n",
              "    <path d=\"M0 0h24v24H0V0z\" fill=\"none\"/>\n",
              "    <path d=\"M18.56 5.44l.94 2.06.94-2.06 2.06-.94-2.06-.94-.94-2.06-.94 2.06-2.06.94zm-11 1L8.5 8.5l.94-2.06 2.06-.94-2.06-.94L8.5 2.5l-.94 2.06-2.06.94zm10 10l.94 2.06.94-2.06 2.06-.94-2.06-.94-.94-2.06-.94 2.06-2.06.94z\"/><path d=\"M17.41 7.96l-1.37-1.37c-.4-.4-.92-.59-1.43-.59-.52 0-1.04.2-1.43.59L10.3 9.45l-7.72 7.72c-.78.78-.78 2.05 0 2.83L4 21.41c.39.39.9.59 1.41.59.51 0 1.02-.2 1.41-.59l7.78-7.78 2.81-2.81c.8-.78.8-2.07 0-2.86zM5.41 20L4 18.59l7.72-7.72 1.47 1.35L5.41 20z\"/>\n",
              "  </svg>\n",
              "      </button>\n",
              "      \n",
              "  <style>\n",
              "    .colab-df-container {\n",
              "      display:flex;\n",
              "      flex-wrap:wrap;\n",
              "      gap: 12px;\n",
              "    }\n",
              "\n",
              "    .colab-df-convert {\n",
              "      background-color: #E8F0FE;\n",
              "      border: none;\n",
              "      border-radius: 50%;\n",
              "      cursor: pointer;\n",
              "      display: none;\n",
              "      fill: #1967D2;\n",
              "      height: 32px;\n",
              "      padding: 0 0 0 0;\n",
              "      width: 32px;\n",
              "    }\n",
              "\n",
              "    .colab-df-convert:hover {\n",
              "      background-color: #E2EBFA;\n",
              "      box-shadow: 0px 1px 2px rgba(60, 64, 67, 0.3), 0px 1px 3px 1px rgba(60, 64, 67, 0.15);\n",
              "      fill: #174EA6;\n",
              "    }\n",
              "\n",
              "    [theme=dark] .colab-df-convert {\n",
              "      background-color: #3B4455;\n",
              "      fill: #D2E3FC;\n",
              "    }\n",
              "\n",
              "    [theme=dark] .colab-df-convert:hover {\n",
              "      background-color: #434B5C;\n",
              "      box-shadow: 0px 1px 3px 1px rgba(0, 0, 0, 0.15);\n",
              "      filter: drop-shadow(0px 1px 2px rgba(0, 0, 0, 0.3));\n",
              "      fill: #FFFFFF;\n",
              "    }\n",
              "  </style>\n",
              "\n",
              "      <script>\n",
              "        const buttonEl =\n",
              "          document.querySelector('#df-1f78a883-7af9-46cc-83e7-1798f226a0f1 button.colab-df-convert');\n",
              "        buttonEl.style.display =\n",
              "          google.colab.kernel.accessAllowed ? 'block' : 'none';\n",
              "\n",
              "        async function convertToInteractive(key) {\n",
              "          const element = document.querySelector('#df-1f78a883-7af9-46cc-83e7-1798f226a0f1');\n",
              "          const dataTable =\n",
              "            await google.colab.kernel.invokeFunction('convertToInteractive',\n",
              "                                                     [key], {});\n",
              "          if (!dataTable) return;\n",
              "\n",
              "          const docLinkHtml = 'Like what you see? Visit the ' +\n",
              "            '<a target=\"_blank\" href=https://colab.research.google.com/notebooks/data_table.ipynb>data table notebook</a>'\n",
              "            + ' to learn more about interactive tables.';\n",
              "          element.innerHTML = '';\n",
              "          dataTable['output_type'] = 'display_data';\n",
              "          await google.colab.output.renderOutput(dataTable, element);\n",
              "          const docLink = document.createElement('div');\n",
              "          docLink.innerHTML = docLinkHtml;\n",
              "          element.appendChild(docLink);\n",
              "        }\n",
              "      </script>\n",
              "    </div>\n",
              "  </div>\n",
              "  "
            ]
          },
          "metadata": {},
          "execution_count": 29
        }
      ]
    },
    {
      "cell_type": "code",
      "source": [
        "eval_df = pd.read_csv(path/'test.csv')\n",
        "len(eval_df)"
      ],
      "metadata": {
        "colab": {
          "base_uri": "https://localhost:8080/"
        },
        "id": "SAdgvEkAJ7Ao",
        "outputId": "96c89b03-12ee-4daf-9d3b-c86d22c5b3d6"
      },
      "execution_count": 30,
      "outputs": [
        {
          "output_type": "execute_result",
          "data": {
            "text/plain": [
              "36"
            ]
          },
          "metadata": {},
          "execution_count": 30
        }
      ]
    },
    {
      "cell_type": "code",
      "source": [
        "eval_df.head()"
      ],
      "metadata": {
        "colab": {
          "base_uri": "https://localhost:8080/",
          "height": 206
        },
        "id": "ju0eGmceJ8ln",
        "outputId": "cb6929f1-4e48-4f41-c23f-04224a398da7"
      },
      "execution_count": 31,
      "outputs": [
        {
          "output_type": "execute_result",
          "data": {
            "text/plain": [
              "                 id              anchor                         target context\n",
              "0  4112d61851461f60            opc drum  inorganic photoconductor drum     G02\n",
              "1  09e418c93a776564     adjust gas flow              altering gas flow     F23\n",
              "2  36baf228038e314b      lower trunnion                 lower locating     B60\n",
              "3  1f37ead645e7f0c8       cap component                  upper portion     D06\n",
              "4  71a5b6ad068d531f  neural stimulation      artificial neural network     H04"
            ],
            "text/html": [
              "\n",
              "  <div id=\"df-42ae117f-f2a7-4e25-bf3c-f553fce4fc9b\">\n",
              "    <div class=\"colab-df-container\">\n",
              "      <div>\n",
              "<style scoped>\n",
              "    .dataframe tbody tr th:only-of-type {\n",
              "        vertical-align: middle;\n",
              "    }\n",
              "\n",
              "    .dataframe tbody tr th {\n",
              "        vertical-align: top;\n",
              "    }\n",
              "\n",
              "    .dataframe thead th {\n",
              "        text-align: right;\n",
              "    }\n",
              "</style>\n",
              "<table border=\"1\" class=\"dataframe\">\n",
              "  <thead>\n",
              "    <tr style=\"text-align: right;\">\n",
              "      <th></th>\n",
              "      <th>id</th>\n",
              "      <th>anchor</th>\n",
              "      <th>target</th>\n",
              "      <th>context</th>\n",
              "    </tr>\n",
              "  </thead>\n",
              "  <tbody>\n",
              "    <tr>\n",
              "      <th>0</th>\n",
              "      <td>4112d61851461f60</td>\n",
              "      <td>opc drum</td>\n",
              "      <td>inorganic photoconductor drum</td>\n",
              "      <td>G02</td>\n",
              "    </tr>\n",
              "    <tr>\n",
              "      <th>1</th>\n",
              "      <td>09e418c93a776564</td>\n",
              "      <td>adjust gas flow</td>\n",
              "      <td>altering gas flow</td>\n",
              "      <td>F23</td>\n",
              "    </tr>\n",
              "    <tr>\n",
              "      <th>2</th>\n",
              "      <td>36baf228038e314b</td>\n",
              "      <td>lower trunnion</td>\n",
              "      <td>lower locating</td>\n",
              "      <td>B60</td>\n",
              "    </tr>\n",
              "    <tr>\n",
              "      <th>3</th>\n",
              "      <td>1f37ead645e7f0c8</td>\n",
              "      <td>cap component</td>\n",
              "      <td>upper portion</td>\n",
              "      <td>D06</td>\n",
              "    </tr>\n",
              "    <tr>\n",
              "      <th>4</th>\n",
              "      <td>71a5b6ad068d531f</td>\n",
              "      <td>neural stimulation</td>\n",
              "      <td>artificial neural network</td>\n",
              "      <td>H04</td>\n",
              "    </tr>\n",
              "  </tbody>\n",
              "</table>\n",
              "</div>\n",
              "      <button class=\"colab-df-convert\" onclick=\"convertToInteractive('df-42ae117f-f2a7-4e25-bf3c-f553fce4fc9b')\"\n",
              "              title=\"Convert this dataframe to an interactive table.\"\n",
              "              style=\"display:none;\">\n",
              "        \n",
              "  <svg xmlns=\"http://www.w3.org/2000/svg\" height=\"24px\"viewBox=\"0 0 24 24\"\n",
              "       width=\"24px\">\n",
              "    <path d=\"M0 0h24v24H0V0z\" fill=\"none\"/>\n",
              "    <path d=\"M18.56 5.44l.94 2.06.94-2.06 2.06-.94-2.06-.94-.94-2.06-.94 2.06-2.06.94zm-11 1L8.5 8.5l.94-2.06 2.06-.94-2.06-.94L8.5 2.5l-.94 2.06-2.06.94zm10 10l.94 2.06.94-2.06 2.06-.94-2.06-.94-.94-2.06-.94 2.06-2.06.94z\"/><path d=\"M17.41 7.96l-1.37-1.37c-.4-.4-.92-.59-1.43-.59-.52 0-1.04.2-1.43.59L10.3 9.45l-7.72 7.72c-.78.78-.78 2.05 0 2.83L4 21.41c.39.39.9.59 1.41.59.51 0 1.02-.2 1.41-.59l7.78-7.78 2.81-2.81c.8-.78.8-2.07 0-2.86zM5.41 20L4 18.59l7.72-7.72 1.47 1.35L5.41 20z\"/>\n",
              "  </svg>\n",
              "      </button>\n",
              "      \n",
              "  <style>\n",
              "    .colab-df-container {\n",
              "      display:flex;\n",
              "      flex-wrap:wrap;\n",
              "      gap: 12px;\n",
              "    }\n",
              "\n",
              "    .colab-df-convert {\n",
              "      background-color: #E8F0FE;\n",
              "      border: none;\n",
              "      border-radius: 50%;\n",
              "      cursor: pointer;\n",
              "      display: none;\n",
              "      fill: #1967D2;\n",
              "      height: 32px;\n",
              "      padding: 0 0 0 0;\n",
              "      width: 32px;\n",
              "    }\n",
              "\n",
              "    .colab-df-convert:hover {\n",
              "      background-color: #E2EBFA;\n",
              "      box-shadow: 0px 1px 2px rgba(60, 64, 67, 0.3), 0px 1px 3px 1px rgba(60, 64, 67, 0.15);\n",
              "      fill: #174EA6;\n",
              "    }\n",
              "\n",
              "    [theme=dark] .colab-df-convert {\n",
              "      background-color: #3B4455;\n",
              "      fill: #D2E3FC;\n",
              "    }\n",
              "\n",
              "    [theme=dark] .colab-df-convert:hover {\n",
              "      background-color: #434B5C;\n",
              "      box-shadow: 0px 1px 3px 1px rgba(0, 0, 0, 0.15);\n",
              "      filter: drop-shadow(0px 1px 2px rgba(0, 0, 0, 0.3));\n",
              "      fill: #FFFFFF;\n",
              "    }\n",
              "  </style>\n",
              "\n",
              "      <script>\n",
              "        const buttonEl =\n",
              "          document.querySelector('#df-42ae117f-f2a7-4e25-bf3c-f553fce4fc9b button.colab-df-convert');\n",
              "        buttonEl.style.display =\n",
              "          google.colab.kernel.accessAllowed ? 'block' : 'none';\n",
              "\n",
              "        async function convertToInteractive(key) {\n",
              "          const element = document.querySelector('#df-42ae117f-f2a7-4e25-bf3c-f553fce4fc9b');\n",
              "          const dataTable =\n",
              "            await google.colab.kernel.invokeFunction('convertToInteractive',\n",
              "                                                     [key], {});\n",
              "          if (!dataTable) return;\n",
              "\n",
              "          const docLinkHtml = 'Like what you see? Visit the ' +\n",
              "            '<a target=\"_blank\" href=https://colab.research.google.com/notebooks/data_table.ipynb>data table notebook</a>'\n",
              "            + ' to learn more about interactive tables.';\n",
              "          element.innerHTML = '';\n",
              "          dataTable['output_type'] = 'display_data';\n",
              "          await google.colab.output.renderOutput(dataTable, element);\n",
              "          const docLink = document.createElement('div');\n",
              "          docLink.innerHTML = docLinkHtml;\n",
              "          element.appendChild(docLink);\n",
              "        }\n",
              "      </script>\n",
              "    </div>\n",
              "  </div>\n",
              "  "
            ]
          },
          "metadata": {},
          "execution_count": 31
        }
      ]
    },
    {
      "cell_type": "markdown",
      "source": [
        "### 查看几个关键feature的分布"
      ],
      "metadata": {
        "id": "JKZ-9DAHKdk-"
      }
    },
    {
      "cell_type": "code",
      "source": [
        "df.target.value_counts()"
      ],
      "metadata": {
        "colab": {
          "base_uri": "https://localhost:8080/"
        },
        "id": "qE_QVPUtJ94X",
        "outputId": "79a20c81-dd9e-42b5-c01f-10c98bc73a7f"
      },
      "execution_count": 32,
      "outputs": [
        {
          "output_type": "execute_result",
          "data": {
            "text/plain": [
              "composition                    24\n",
              "data                           22\n",
              "metal                          22\n",
              "motor                          22\n",
              "assembly                       21\n",
              "                               ..\n",
              "switching switch over valve     1\n",
              "switching switch off valve      1\n",
              "switching over valve            1\n",
              "switching off valve             1\n",
              "wooden substrate                1\n",
              "Name: target, Length: 29340, dtype: int64"
            ]
          },
          "metadata": {},
          "execution_count": 32
        }
      ]
    },
    {
      "cell_type": "markdown",
      "source": [
        "通过侦察得出字段都不长，而且unique字段接近三万个，和样本数差不多"
      ],
      "metadata": {
        "id": "iBKYZbsvKqr-"
      }
    },
    {
      "cell_type": "code",
      "source": [
        "df.anchor.value_counts()"
      ],
      "metadata": {
        "colab": {
          "base_uri": "https://localhost:8080/"
        },
        "id": "lsbnAwsvKAzX",
        "outputId": "063a917a-68f5-454e-ec89-9e46ba18c3f3"
      },
      "execution_count": 33,
      "outputs": [
        {
          "output_type": "execute_result",
          "data": {
            "text/plain": [
              "component composite coating              152\n",
              "sheet supply roller                      150\n",
              "source voltage                           140\n",
              "perfluoroalkyl group                     136\n",
              "el display                               135\n",
              "                                        ... \n",
              "plug nozzle                                2\n",
              "shannon                                    2\n",
              "dry coating composition1                   2\n",
              "peripheral nervous system stimulation      1\n",
              "conduct conducting material                1\n",
              "Name: anchor, Length: 733, dtype: int64"
            ]
          },
          "metadata": {},
          "execution_count": 33
        }
      ]
    },
    {
      "cell_type": "markdown",
      "source": [
        "anchor的字段都不长，但是unique字段只有700多个"
      ],
      "metadata": {
        "id": "baYzJYhPK7iN"
      }
    },
    {
      "cell_type": "code",
      "source": [
        "df.context.value_counts()\n"
      ],
      "metadata": {
        "colab": {
          "base_uri": "https://localhost:8080/"
        },
        "id": "scTwmUUCKQiQ",
        "outputId": "00a3e5da-9a52-42af-cdce-fa3897489679"
      },
      "execution_count": 34,
      "outputs": [
        {
          "output_type": "execute_result",
          "data": {
            "text/plain": [
              "H01    2186\n",
              "H04    2177\n",
              "G01    1812\n",
              "A61    1477\n",
              "F16    1091\n",
              "       ... \n",
              "B03      47\n",
              "F17      33\n",
              "B31      24\n",
              "A62      23\n",
              "F26      18\n",
              "Name: context, Length: 106, dtype: int64"
            ]
          },
          "metadata": {},
          "execution_count": 34
        }
      ]
    },
    {
      "cell_type": "markdown",
      "source": [
        "context的unique value只有100多种，貌似都是一个字母+2个数字的模式？这是指filing专利的类别吗？于是我们就这一点进一步侦查\n"
      ],
      "metadata": {
        "id": "aVbvZNtOLAB0"
      }
    },
    {
      "cell_type": "code",
      "source": [
        "df['section'] = df.context.str[0]\n",
        "df.section.value_counts()"
      ],
      "metadata": {
        "colab": {
          "base_uri": "https://localhost:8080/"
        },
        "id": "IO2QrI_aKbv3",
        "outputId": "2c80b011-a9de-4b62-bae0-8ff33b7f667b"
      },
      "execution_count": 35,
      "outputs": [
        {
          "output_type": "execute_result",
          "data": {
            "text/plain": [
              "B    8019\n",
              "H    6195\n",
              "G    6013\n",
              "C    5288\n",
              "A    4094\n",
              "F    4054\n",
              "E    1531\n",
              "D    1279\n",
              "Name: section, dtype: int64"
            ]
          },
          "metadata": {},
          "execution_count": 35
        }
      ]
    },
    {
      "cell_type": "markdown",
      "source": [
        "context的首字母只有8个类别，而且每个类别都包含不少的数据点，因此这个新的feature可能会提供不少宝贵的信息。\n"
      ],
      "metadata": {
        "id": "08o-xEaqLa1w"
      }
    },
    {
      "cell_type": "code",
      "source": [
        "df.score.hist();"
      ],
      "metadata": {
        "colab": {
          "base_uri": "https://localhost:8080/",
          "height": 265
        },
        "id": "z0GQ4jA-LS-l",
        "outputId": "f0f938e7-d04c-485f-8cd3-ed3c4c3f0867"
      },
      "execution_count": 36,
      "outputs": [
        {
          "output_type": "display_data",
          "data": {
            "text/plain": [
              "<Figure size 432x288 with 1 Axes>"
            ],
            "image/png": "[encoded data removed]"
          },
          "metadata": {
            "needs_background": "light"
          }
        }
      ]
    },
    {
      "cell_type": "code",
      "source": [
        "df[df.score==1]"
      ],
      "metadata": {
        "colab": {
          "base_uri": "https://localhost:8080/",
          "height": 424
        },
        "id": "Soh4U4hpMAy-",
        "outputId": "7f5bcf05-bbc5-4db5-f738-c9d78a9cfcf6"
      },
      "execution_count": 37,
      "outputs": [
        {
          "output_type": "execute_result",
          "data": {
            "text/plain": [
              "                     id                anchor                     target  \\\n",
              "28     473137168ebf7484             abatement                    abating   \n",
              "158    621b048d70aa8867  absorbent properties  absorbent characteristics   \n",
              "161    bc20a1c961cb073a  absorbent properties      absorption properties   \n",
              "311    e955700dffd68624       acid absorption         absorption of acid   \n",
              "315    3a09aba546aac675       acid absorption            acid absorption   \n",
              "...                 ...                   ...                        ...   \n",
              "36398  913141526432f1d6         wiring trough             wiring troughs   \n",
              "36435  ee0746f2a8ecef97          wood article              wood articles   \n",
              "36440  ecaf479135cf0dfd          wood article             wooden article   \n",
              "36464  8ceaa2b5c2d56250          wood article               wood article   \n",
              "36468  8e1386cbefd7f245          wood article             wooden article   \n",
              "\n",
              "      context  score section  \n",
              "28        F24    1.0       F  \n",
              "158       D01    1.0       D  \n",
              "161       D01    1.0       D  \n",
              "311       B08    1.0       B  \n",
              "315       B08    1.0       B  \n",
              "...       ...    ...     ...  \n",
              "36398     F16    1.0       F  \n",
              "36435     B05    1.0       B  \n",
              "36440     B05    1.0       B  \n",
              "36464     B44    1.0       B  \n",
              "36468     B44    1.0       B  \n",
              "\n",
              "[1154 rows x 6 columns]"
            ],
            "text/html": [
              "\n",
              "  <div id=\"df-6c0b167d-4f2b-4d06-9a71-ee43d97fb2f3\">\n",
              "    <div class=\"colab-df-container\">\n",
              "      <div>\n",
              "<style scoped>\n",
              "    .dataframe tbody tr th:only-of-type {\n",
              "        vertical-align: middle;\n",
              "    }\n",
              "\n",
              "    .dataframe tbody tr th {\n",
              "        vertical-align: top;\n",
              "    }\n",
              "\n",
              "    .dataframe thead th {\n",
              "        text-align: right;\n",
              "    }\n",
              "</style>\n",
              "<table border=\"1\" class=\"dataframe\">\n",
              "  <thead>\n",
              "    <tr style=\"text-align: right;\">\n",
              "      <th></th>\n",
              "      <th>id</th>\n",
              "      <th>anchor</th>\n",
              "      <th>target</th>\n",
              "      <th>context</th>\n",
              "      <th>score</th>\n",
              "      <th>section</th>\n",
              "    </tr>\n",
              "  </thead>\n",
              "  <tbody>\n",
              "    <tr>\n",
              "      <th>28</th>\n",
              "      <td>473137168ebf7484</td>\n",
              "      <td>abatement</td>\n",
              "      <td>abating</td>\n",
              "      <td>F24</td>\n",
              "      <td>1.0</td>\n",
              "      <td>F</td>\n",
              "    </tr>\n",
              "    <tr>\n",
              "      <th>158</th>\n",
              "      <td>621b048d70aa8867</td>\n",
              "      <td>absorbent properties</td>\n",
              "      <td>absorbent characteristics</td>\n",
              "      <td>D01</td>\n",
              "      <td>1.0</td>\n",
              "      <td>D</td>\n",
              "    </tr>\n",
              "    <tr>\n",
              "      <th>161</th>\n",
              "      <td>bc20a1c961cb073a</td>\n",
              "      <td>absorbent properties</td>\n",
              "      <td>absorption properties</td>\n",
              "      <td>D01</td>\n",
              "      <td>1.0</td>\n",
              "      <td>D</td>\n",
              "    </tr>\n",
              "    <tr>\n",
              "      <th>311</th>\n",
              "      <td>e955700dffd68624</td>\n",
              "      <td>acid absorption</td>\n",
              "      <td>absorption of acid</td>\n",
              "      <td>B08</td>\n",
              "      <td>1.0</td>\n",
              "      <td>B</td>\n",
              "    </tr>\n",
              "    <tr>\n",
              "      <th>315</th>\n",
              "      <td>3a09aba546aac675</td>\n",
              "      <td>acid absorption</td>\n",
              "      <td>acid absorption</td>\n",
              "      <td>B08</td>\n",
              "      <td>1.0</td>\n",
              "      <td>B</td>\n",
              "    </tr>\n",
              "    <tr>\n",
              "      <th>...</th>\n",
              "      <td>...</td>\n",
              "      <td>...</td>\n",
              "      <td>...</td>\n",
              "      <td>...</td>\n",
              "      <td>...</td>\n",
              "      <td>...</td>\n",
              "    </tr>\n",
              "    <tr>\n",
              "      <th>36398</th>\n",
              "      <td>913141526432f1d6</td>\n",
              "      <td>wiring trough</td>\n",
              "      <td>wiring troughs</td>\n",
              "      <td>F16</td>\n",
              "      <td>1.0</td>\n",
              "      <td>F</td>\n",
              "    </tr>\n",
              "    <tr>\n",
              "      <th>36435</th>\n",
              "      <td>ee0746f2a8ecef97</td>\n",
              "      <td>wood article</td>\n",
              "      <td>wood articles</td>\n",
              "      <td>B05</td>\n",
              "      <td>1.0</td>\n",
              "      <td>B</td>\n",
              "    </tr>\n",
              "    <tr>\n",
              "      <th>36440</th>\n",
              "      <td>ecaf479135cf0dfd</td>\n",
              "      <td>wood article</td>\n",
              "      <td>wooden article</td>\n",
              "      <td>B05</td>\n",
              "      <td>1.0</td>\n",
              "      <td>B</td>\n",
              "    </tr>\n",
              "    <tr>\n",
              "      <th>36464</th>\n",
              "      <td>8ceaa2b5c2d56250</td>\n",
              "      <td>wood article</td>\n",
              "      <td>wood article</td>\n",
              "      <td>B44</td>\n",
              "      <td>1.0</td>\n",
              "      <td>B</td>\n",
              "    </tr>\n",
              "    <tr>\n",
              "      <th>36468</th>\n",
              "      <td>8e1386cbefd7f245</td>\n",
              "      <td>wood article</td>\n",
              "      <td>wooden article</td>\n",
              "      <td>B44</td>\n",
              "      <td>1.0</td>\n",
              "      <td>B</td>\n",
              "    </tr>\n",
              "  </tbody>\n",
              "</table>\n",
              "<p>1154 rows × 6 columns</p>\n",
              "</div>\n",
              "      <button class=\"colab-df-convert\" onclick=\"convertToInteractive('df-6c0b167d-4f2b-4d06-9a71-ee43d97fb2f3')\"\n",
              "              title=\"Convert this dataframe to an interactive table.\"\n",
              "              style=\"display:none;\">\n",
              "        \n",
              "  <svg xmlns=\"http://www.w3.org/2000/svg\" height=\"24px\"viewBox=\"0 0 24 24\"\n",
              "       width=\"24px\">\n",
              "    <path d=\"M0 0h24v24H0V0z\" fill=\"none\"/>\n",
              "    <path d=\"M18.56 5.44l.94 2.06.94-2.06 2.06-.94-2.06-.94-.94-2.06-.94 2.06-2.06.94zm-11 1L8.5 8.5l.94-2.06 2.06-.94-2.06-.94L8.5 2.5l-.94 2.06-2.06.94zm10 10l.94 2.06.94-2.06 2.06-.94-2.06-.94-.94-2.06-.94 2.06-2.06.94z\"/><path d=\"M17.41 7.96l-1.37-1.37c-.4-.4-.92-.59-1.43-.59-.52 0-1.04.2-1.43.59L10.3 9.45l-7.72 7.72c-.78.78-.78 2.05 0 2.83L4 21.41c.39.39.9.59 1.41.59.51 0 1.02-.2 1.41-.59l7.78-7.78 2.81-2.81c.8-.78.8-2.07 0-2.86zM5.41 20L4 18.59l7.72-7.72 1.47 1.35L5.41 20z\"/>\n",
              "  </svg>\n",
              "      </button>\n",
              "      \n",
              "  <style>\n",
              "    .colab-df-container {\n",
              "      display:flex;\n",
              "      flex-wrap:wrap;\n",
              "      gap: 12px;\n",
              "    }\n",
              "\n",
              "    .colab-df-convert {\n",
              "      background-color: #E8F0FE;\n",
              "      border: none;\n",
              "      border-radius: 50%;\n",
              "      cursor: pointer;\n",
              "      display: none;\n",
              "      fill: #1967D2;\n",
              "      height: 32px;\n",
              "      padding: 0 0 0 0;\n",
              "      width: 32px;\n",
              "    }\n",
              "\n",
              "    .colab-df-convert:hover {\n",
              "      background-color: #E2EBFA;\n",
              "      box-shadow: 0px 1px 2px rgba(60, 64, 67, 0.3), 0px 1px 3px 1px rgba(60, 64, 67, 0.15);\n",
              "      fill: #174EA6;\n",
              "    }\n",
              "\n",
              "    [theme=dark] .colab-df-convert {\n",
              "      background-color: #3B4455;\n",
              "      fill: #D2E3FC;\n",
              "    }\n",
              "\n",
              "    [theme=dark] .colab-df-convert:hover {\n",
              "      background-color: #434B5C;\n",
              "      box-shadow: 0px 1px 3px 1px rgba(0, 0, 0, 0.15);\n",
              "      filter: drop-shadow(0px 1px 2px rgba(0, 0, 0, 0.3));\n",
              "      fill: #FFFFFF;\n",
              "    }\n",
              "  </style>\n",
              "\n",
              "      <script>\n",
              "        const buttonEl =\n",
              "          document.querySelector('#df-6c0b167d-4f2b-4d06-9a71-ee43d97fb2f3 button.colab-df-convert');\n",
              "        buttonEl.style.display =\n",
              "          google.colab.kernel.accessAllowed ? 'block' : 'none';\n",
              "\n",
              "        async function convertToInteractive(key) {\n",
              "          const element = document.querySelector('#df-6c0b167d-4f2b-4d06-9a71-ee43d97fb2f3');\n",
              "          const dataTable =\n",
              "            await google.colab.kernel.invokeFunction('convertToInteractive',\n",
              "                                                     [key], {});\n",
              "          if (!dataTable) return;\n",
              "\n",
              "          const docLinkHtml = 'Like what you see? Visit the ' +\n",
              "            '<a target=\"_blank\" href=https://colab.research.google.com/notebooks/data_table.ipynb>data table notebook</a>'\n",
              "            + ' to learn more about interactive tables.';\n",
              "          element.innerHTML = '';\n",
              "          dataTable['output_type'] = 'display_data';\n",
              "          await google.colab.output.renderOutput(dataTable, element);\n",
              "          const docLink = document.createElement('div');\n",
              "          docLink.innerHTML = docLinkHtml;\n",
              "          element.appendChild(docLink);\n",
              "        }\n",
              "      </script>\n",
              "    </div>\n",
              "  </div>\n",
              "  "
            ]
          },
          "metadata": {},
          "execution_count": 37
        }
      ]
    },
    {
      "cell_type": "markdown",
      "source": [
        "观察看见这些完美匹配的pair，发现只是 minor rewordings of the same concept。因此任何pretrained model应该都能很好的处理这种"
      ],
      "metadata": {
        "id": "r6zErVmCMU2k"
      }
    },
    {
      "cell_type": "code",
      "source": [
        ""
      ],
      "metadata": {
        "id": "iHH6F4YJlP00"
      },
      "execution_count": 37,
      "outputs": []
    },
    {
      "cell_type": "markdown",
      "source": [
        "## Training"
      ],
      "metadata": {
        "id": "SDtEySbqQXgc"
      }
    },
    {
      "cell_type": "code",
      "source": [
        "from torch.utils.data import DataLoader\n",
        "import warnings,transformers,logging,torch\n",
        "from transformers import TrainingArguments,Trainer\n",
        "from transformers import AutoModelForSequenceClassification,AutoTokenizer\n",
        "!pip install -q datasets\n",
        "import datasets\n",
        "from datasets import load_dataset, Dataset, DatasetDict\n",
        "warnings.simplefilter('ignore')\n",
        "logging.disable(logging.WARNING)"
      ],
      "metadata": {
        "id": "okxUYWKRQZLZ"
      },
      "execution_count": 38,
      "outputs": []
    },
    {
      "cell_type": "code",
      "source": [
        "warnings.simplefilter('ignore')\n",
        "logging.disable(logging.WARNING)"
      ],
      "metadata": {
        "id": "9v4zvEGUnAUS"
      },
      "execution_count": 39,
      "outputs": []
    },
    {
      "cell_type": "markdown",
      "source": [
        "指定模型，建立对应的tokenizer"
      ],
      "metadata": {
        "id": "FZjafHecmhsA"
      }
    },
    {
      "cell_type": "code",
      "source": [
        "model_nm = 'microsoft/deberta-v3-small'\n",
        "tokz = AutoTokenizer.from_pretrained(model_nm)"
      ],
      "metadata": {
        "id": "9Vjc6AyLl72_"
      },
      "execution_count": 40,
      "outputs": []
    },
    {
      "cell_type": "markdown",
      "source": [
        "将target,anchor和context用分割符组合起来"
      ],
      "metadata": {
        "id": "9Ap78ZxBml7J"
      }
    },
    {
      "cell_type": "code",
      "source": [
        "sep = tokz.sep_token\n",
        "sep"
      ],
      "metadata": {
        "colab": {
          "base_uri": "https://localhost:8080/",
          "height": 35
        },
        "id": "qJjtTqWamf-o",
        "outputId": "c5781095-8216-4142-ba01-2042d9785bae"
      },
      "execution_count": 41,
      "outputs": [
        {
          "output_type": "execute_result",
          "data": {
            "text/plain": [
              "'[SEP]'"
            ],
            "application/vnd.google.colaboratory.intrinsic+json": {
              "type": "string"
            }
          },
          "metadata": {},
          "execution_count": 41
        }
      ]
    },
    {
      "cell_type": "code",
      "source": [
        "df['inputs'] = df.context + sep + df.anchor + sep + df.target"
      ],
      "metadata": {
        "id": "lfrEIusRmrdN"
      },
      "execution_count": 42,
      "outputs": []
    },
    {
      "cell_type": "markdown",
      "source": [
        "转换成Dataset数据类型以便transformer使用"
      ],
      "metadata": {
        "id": "Zb4mQZkgm1EB"
      }
    },
    {
      "cell_type": "code",
      "source": [
        "ds = Dataset.from_pandas(df).rename_column('score', 'label')\n",
        "eval_ds = Dataset.from_pandas(eval_df)"
      ],
      "metadata": {
        "id": "_Hwwer-Om6fO"
      },
      "execution_count": 43,
      "outputs": []
    },
    {
      "cell_type": "markdown",
      "source": [
        "建立Tokenize的函数，以便Dataset.map()"
      ],
      "metadata": {
        "id": "pjQSYh3fngOl"
      }
    },
    {
      "cell_type": "code",
      "source": [
        "def tok_func(x): return tokz(x[\"inputs\"])"
      ],
      "metadata": {
        "id": "XcqH5oiZnetx"
      },
      "execution_count": 44,
      "outputs": []
    },
    {
      "cell_type": "code",
      "source": [
        "inps = \"anchor\",\"target\",\"context\"\n",
        "tok_ds = ds.map(tok_func, batched=True, remove_columns=inps+('inputs','id','section'))"
      ],
      "metadata": {
        "colab": {
          "base_uri": "https://localhost:8080/",
          "height": 49,
          "referenced_widgets": [
            "ab0aed40329444c8890fa1e5d1214d2b",
            "81f99f6f29af4c2ca76e14bcd0335a1f",
            "14ca38e6ae1a4381b0718543c6c65f81",
            "aa7df114889d4cbab1342a42f032fc81",
            "9a44098b65224e97914323c4ccc2d962",
            "c20006058dc74b04ab1e60577831e6dc",
            "feee813fd8ea4aa290aabd899a70ff5f",
            "36a0c2a502194debb5a7157a0c5c99d6",
            "687be303f17e473fb3112f411b021227",
            "f7e1e4ad5817482c823bc286ecac61b0",
            "12f25111f5234b9b87a085029256a9f4"
          ]
        },
        "id": "3iqYO0WUn3GI",
        "outputId": "d16a5ff3-de0c-4d27-a6ff-d284906e4b48"
      },
      "execution_count": 45,
      "outputs": [
        {
          "output_type": "display_data",
          "data": {
            "text/plain": [
              "  0%|          | 0/37 [00:00<?, ?ba/s]"
            ],
            "application/vnd.jupyter.widget-view+json": {
              "version_major": 2,
              "version_minor": 0,
              "model_id": "ab0aed40329444c8890fa1e5d1214d2b"
            }
          },
          "metadata": {}
        }
      ]
    },
    {
      "cell_type": "markdown",
      "source": [
        "我们只关心\"input_ids\",因此可以将不需要用到的列移除"
      ],
      "metadata": {
        "id": "h029qJ99oB61"
      }
    },
    {
      "cell_type": "code",
      "source": [
        "tok_ds[0]"
      ],
      "metadata": {
        "colab": {
          "base_uri": "https://localhost:8080/"
        },
        "id": "K_KPe-tdn9Bz",
        "outputId": "54b5f3ef-cf8e-48e0-b3c6-ab49dee5a76b"
      },
      "execution_count": 46,
      "outputs": [
        {
          "output_type": "execute_result",
          "data": {
            "text/plain": [
              "{'label': 0.5,\n",
              " 'input_ids': [1, 336, 5753, 2, 47284, 2, 47284, 265, 6435, 2],\n",
              " 'token_type_ids': [0, 0, 0, 0, 0, 0, 0, 0, 0, 0],\n",
              " 'attention_mask': [1, 1, 1, 1, 1, 1, 1, 1, 1, 1]}"
            ]
          },
          "metadata": {},
          "execution_count": 46
        }
      ]
    },
    {
      "cell_type": "markdown",
      "source": [
        "### Creating a validation set\n"
      ],
      "metadata": {
        "id": "ORlpSfcPoVPC"
      }
    },
    {
      "cell_type": "markdown",
      "source": [
        "因为有论坛网友private test的anchor word与training data不重合，为了拟真这种环境，我们要对应针对anchor word的出现情况，划分我们validation set.  \n",
        "The private test anchors do not overlap with the training set. So let's do the same thing for our validation set."
      ],
      "metadata": {
        "id": "2pDcCYC0pppf"
      }
    },
    {
      "cell_type": "code",
      "source": [
        "anchors = df.anchor.unique()\n",
        "np.random.seed(42)\n",
        "np.random.shuffle(anchors)\n",
        "anchors[:5]"
      ],
      "metadata": {
        "colab": {
          "base_uri": "https://localhost:8080/"
        },
        "id": "kZx0u_4NqhWh",
        "outputId": "e691ed61-ffe1-4583-eb66-fd214d13b610"
      },
      "execution_count": 47,
      "outputs": [
        {
          "output_type": "execute_result",
          "data": {
            "text/plain": [
              "array(['time digital signal', 'antiatherosclerotic', 'filled interior',\n",
              "       'dispersed powder', 'locking formation'], dtype=object)"
            ]
          },
          "metadata": {},
          "execution_count": 47
        }
      ]
    },
    {
      "cell_type": "markdown",
      "source": [
        "我们现在提取25%的anchor word去当作validation set"
      ],
      "metadata": {
        "id": "RBqgBmMpqxBg"
      }
    },
    {
      "cell_type": "code",
      "source": [
        "val_prop = 0.25\n",
        "val_sz = int(len(anchors)*val_prop)\n",
        "val_anchors = anchors[:val_sz]"
      ],
      "metadata": {
        "id": "rBAqC7Srqnkw"
      },
      "execution_count": 48,
      "outputs": []
    },
    {
      "cell_type": "markdown",
      "source": [
        "获得这些挑选的anchor world对应的样本index"
      ],
      "metadata": {
        "id": "p3POQt1rq6d8"
      }
    },
    {
      "cell_type": "code",
      "source": [
        "is_val = np.isin(df.anchor, val_anchors)\n",
        "idxs = np.arange(len(df))\n",
        "val_idxs = idxs[ is_val]\n",
        "trn_idxs = idxs[~is_val]\n",
        "len(val_idxs),len(trn_idxs)"
      ],
      "metadata": {
        "colab": {
          "base_uri": "https://localhost:8080/"
        },
        "id": "FMRVKvpQn92s",
        "outputId": "86fa075a-7df2-4656-8e08-55778db32b65"
      },
      "execution_count": 49,
      "outputs": [
        {
          "output_type": "execute_result",
          "data": {
            "text/plain": [
              "(9116, 27357)"
            ]
          },
          "metadata": {},
          "execution_count": 49
        }
      ]
    },
    {
      "cell_type": "code",
      "source": [
        "dds = DatasetDict({\"train\":tok_ds.select(trn_idxs),\n",
        "             \"test\": tok_ds.select(val_idxs)})"
      ],
      "metadata": {
        "id": "VcKEysDkrGal"
      },
      "execution_count": 50,
      "outputs": []
    },
    {
      "cell_type": "code",
      "source": [
        "df.iloc[trn_idxs].score.mean(),df.iloc[val_idxs].score.mean()"
      ],
      "metadata": {
        "colab": {
          "base_uri": "https://localhost:8080/"
        },
        "id": "sersNUzLrCKh",
        "outputId": "c6d53d3b-6b56-437e-b08e-04f544cab943"
      },
      "execution_count": 51,
      "outputs": [
        {
          "output_type": "execute_result",
          "data": {
            "text/plain": [
              "(0.3623021530138539, 0.3613426941641071)"
            ]
          },
          "metadata": {},
          "execution_count": 51
        }
      ]
    },
    {
      "cell_type": "markdown",
      "source": [
        "## Initial Model"
      ],
      "metadata": {
        "id": "FmEVafg6rkjT"
      }
    },
    {
      "cell_type": "code",
      "source": [
        "def corr(eval_pred): return {'pearson': np.corrcoef(*eval_pred)[0][1]}\n",
        "lr,bs = 8e-5,128\n",
        "wd,epochs = 0.01,4"
      ],
      "metadata": {
        "id": "l53ZFI9rrfcy"
      },
      "execution_count": 52,
      "outputs": []
    },
    {
      "cell_type": "code",
      "source": [
        "def get_trainer(dds):\n",
        "    args = TrainingArguments('outputs', learning_rate=lr, warmup_ratio=0.1, lr_scheduler_type='cosine', fp16=True,\n",
        "        evaluation_strategy=\"epoch\", per_device_train_batch_size=bs, per_device_eval_batch_size=bs*2,\n",
        "        num_train_epochs=epochs, weight_decay=wd, report_to='none')\n",
        "    model = AutoModelForSequenceClassification.from_pretrained(model_nm, num_labels=1)\n",
        "    return Trainer(model, args, train_dataset=dds['train'], eval_dataset=dds['test'],\n",
        "                   tokenizer=tokz, compute_metrics=corr)"
      ],
      "metadata": {
        "id": "-OG2r_cGsA23"
      },
      "execution_count": 53,
      "outputs": []
    },
    {
      "cell_type": "code",
      "source": [
        "trainer = get_trainer(dds)"
      ],
      "metadata": {
        "id": "4oKfzG3tsfZp"
      },
      "execution_count": 54,
      "outputs": []
    },
    {
      "cell_type": "code",
      "source": [
        "trainer.train()"
      ],
      "metadata": {
        "colab": {
          "base_uri": "https://localhost:8080/",
          "height": 236
        },
        "id": "QfTtl1FFsj9Q",
        "outputId": "8f9e487a-8d6f-48d7-d4bd-7feda7aa0326"
      },
      "execution_count": 55,
      "outputs": [
        {
          "output_type": "display_data",
          "data": {
            "text/plain": [
              "<IPython.core.display.HTML object>"
            ],
            "text/html": [
              "\n",
              "    <div>\n",
              "      \n",
              "      <progress value='856' max='856' style='width:300px; height:20px; vertical-align: middle;'></progress>\n",
              "      [856/856 04:09, Epoch 4/4]\n",
              "    </div>\n",
              "    <table border=\"1\" class=\"dataframe\">\n",
              "  <thead>\n",
              " <tr style=\"text-align: left;\">\n",
              "      <th>Epoch</th>\n",
              "      <th>Training Loss</th>\n",
              "      <th>Validation Loss</th>\n",
              "      <th>Pearson</th>\n",
              "    </tr>\n",
              "  </thead>\n",
              "  <tbody>\n",
              "    <tr>\n",
              "      <td>1</td>\n",
              "      <td>No log</td>\n",
              "      <td>0.030484</td>\n",
              "      <td>0.792365</td>\n",
              "    </tr>\n",
              "    <tr>\n",
              "      <td>2</td>\n",
              "      <td>No log</td>\n",
              "      <td>0.024315</td>\n",
              "      <td>0.814917</td>\n",
              "    </tr>\n",
              "    <tr>\n",
              "      <td>3</td>\n",
              "      <td>0.031600</td>\n",
              "      <td>0.023865</td>\n",
              "      <td>0.817929</td>\n",
              "    </tr>\n",
              "    <tr>\n",
              "      <td>4</td>\n",
              "      <td>0.031600</td>\n",
              "      <td>0.024314</td>\n",
              "      <td>0.818387</td>\n",
              "    </tr>\n",
              "  </tbody>\n",
              "</table><p>"
            ]
          },
          "metadata": {}
        },
        {
          "output_type": "execute_result",
          "data": {
            "text/plain": [
              "TrainOutput(global_step=856, training_loss=0.023854037311589606, metrics={'train_runtime': 250.1879, 'train_samples_per_second': 437.383, 'train_steps_per_second': 3.421, 'total_flos': 469191313065600.0, 'train_loss': 0.023854037311589606, 'epoch': 4.0})"
            ]
          },
          "metadata": {},
          "execution_count": 55
        }
      ]
    },
    {
      "cell_type": "markdown",
      "source": [
        "## Improving the model"
      ],
      "metadata": {
        "id": "klNU5imLssNy"
      }
    },
    {
      "cell_type": "markdown",
      "source": [
        "* [baseline模型稳定性和区间的确定] 我们要迭代改进我们的模型。第一步要确定我们现在baseline模型的表现是否是stable的。做了三次训练，发现表现是0.808-0.810之间，发现这是stable的。也即说明如果我们做出任何改进，其表现没有跳出这个区间，则代表改改进是不显著有效果的。\n",
        "* [为快速迭代改进制造恰当的函数] 因为我们想通过修改数据处理方法和模型来实现改进，因此我们这里制造两个函数能让我们尝试不同的数据处理方法和模型。"
      ],
      "metadata": {
        "id": "nbfdFCnUy-hi"
      }
    },
    {
      "cell_type": "code",
      "source": [
        "def get_dds(df):\n",
        "    ds = Dataset.from_pandas(df).rename_column('score', 'label')\n",
        "    tok_ds = ds.map(tok_func, batched=True, remove_columns=inps+('inputs','id','section'))\n",
        "    return DatasetDict({\"train\":tok_ds.select(trn_idxs), \"test\": tok_ds.select(val_idxs)})"
      ],
      "metadata": {
        "id": "C1-8Ndyysnlw"
      },
      "execution_count": 56,
      "outputs": []
    },
    {
      "cell_type": "code",
      "source": [
        "def get_model(): return AutoModelForSequenceClassification.from_pretrained(model_nm, num_labels=1)\n",
        "\n",
        "def get_trainer(dds, model=None):\n",
        "    if model is None: model = get_model()\n",
        "    args = TrainingArguments('outputs', learning_rate=lr, warmup_ratio=0.1, lr_scheduler_type='cosine', fp16=True,\n",
        "        evaluation_strategy=\"epoch\", per_device_train_batch_size=bs, per_device_eval_batch_size=bs*2,\n",
        "        num_train_epochs=epochs, weight_decay=wd, report_to='none')\n",
        "    return Trainer(model, args, train_dataset=dds['train'], eval_dataset=dds['test'],\n",
        "                   tokenizer=tokz, compute_metrics=corr)"
      ],
      "metadata": {
        "id": "EIouu67T0V4T"
      },
      "execution_count": 57,
      "outputs": []
    },
    {
      "cell_type": "markdown",
      "source": [
        "### 新方案的尝试1-改变分割符\n"
      ],
      "metadata": {
        "id": "KDKGX8V30g8e"
      }
    },
    {
      "cell_type": "code",
      "source": [
        "sep = \" [s] \"\n",
        "df['inputs'] = df.context + sep + df.anchor + sep + df.target\n",
        "dds = get_dds(df)\n",
        "get_trainer(dds).train()"
      ],
      "metadata": {
        "colab": {
          "base_uri": "https://localhost:8080/",
          "height": 268,
          "referenced_widgets": [
            "f0cf7c1b60d84702afc08ea4a5f28d63",
            "5ea1471edff24f00b2f5b1ef7a2b6f2d",
            "745b7529c60b462fb7926fad8ea4ba9f",
            "53306f95dfb34a3b856591664efe7e3a",
            "1edda1934d3947cc92f47d621403e503",
            "fe1bbfd574be4bff88ec1a1f2e38b8dc",
            "989015000bc142c19f31ac3ef0cb0d93",
            "f654e7ca33094033997a646bfe2dffef",
            "5dabbcb5513f40ac91b9e6c539c17f0c",
            "f010941fd0ef4a5abdbf6729df970587",
            "71d4f5a4d6ac4b5e93443f66842eb01a"
          ]
        },
        "id": "wikOgmoE0qSp",
        "outputId": "4c900d77-5e6f-4b98-aa65-b8e5e12a9736"
      },
      "execution_count": 59,
      "outputs": [
        {
          "output_type": "display_data",
          "data": {
            "text/plain": [
              "  0%|          | 0/37 [00:00<?, ?ba/s]"
            ],
            "application/vnd.jupyter.widget-view+json": {
              "version_major": 2,
              "version_minor": 0,
              "model_id": "f0cf7c1b60d84702afc08ea4a5f28d63"
            }
          },
          "metadata": {}
        },
        {
          "output_type": "display_data",
          "data": {
            "text/plain": [
              "<IPython.core.display.HTML object>"
            ],
            "text/html": [
              "\n",
              "    <div>\n",
              "      \n",
              "      <progress value='856' max='856' style='width:300px; height:20px; vertical-align: middle;'></progress>\n",
              "      [856/856 04:13, Epoch 4/4]\n",
              "    </div>\n",
              "    <table border=\"1\" class=\"dataframe\">\n",
              "  <thead>\n",
              " <tr style=\"text-align: left;\">\n",
              "      <th>Epoch</th>\n",
              "      <th>Training Loss</th>\n",
              "      <th>Validation Loss</th>\n",
              "      <th>Pearson</th>\n",
              "    </tr>\n",
              "  </thead>\n",
              "  <tbody>\n",
              "    <tr>\n",
              "      <td>1</td>\n",
              "      <td>No log</td>\n",
              "      <td>0.025409</td>\n",
              "      <td>0.795841</td>\n",
              "    </tr>\n",
              "    <tr>\n",
              "      <td>2</td>\n",
              "      <td>No log</td>\n",
              "      <td>0.026482</td>\n",
              "      <td>0.813393</td>\n",
              "    </tr>\n",
              "    <tr>\n",
              "      <td>3</td>\n",
              "      <td>0.031500</td>\n",
              "      <td>0.023248</td>\n",
              "      <td>0.821005</td>\n",
              "    </tr>\n",
              "    <tr>\n",
              "      <td>4</td>\n",
              "      <td>0.031500</td>\n",
              "      <td>0.024274</td>\n",
              "      <td>0.819712</td>\n",
              "    </tr>\n",
              "  </tbody>\n",
              "</table><p>"
            ]
          },
          "metadata": {}
        },
        {
          "output_type": "execute_result",
          "data": {
            "text/plain": [
              "TrainOutput(global_step=856, training_loss=0.023730961518866993, metrics={'train_runtime': 254.0119, 'train_samples_per_second': 430.799, 'train_steps_per_second': 3.37, 'total_flos': 582440534448480.0, 'train_loss': 0.023730961518866993, 'epoch': 4.0})"
            ]
          },
          "metadata": {},
          "execution_count": 59
        }
      ]
    },
    {
      "cell_type": "markdown",
      "source": [
        "### 新方案的尝试2- 全部变成小写\n"
      ],
      "metadata": {
        "id": "Pq7aOyB65Trj"
      }
    },
    {
      "cell_type": "code",
      "source": [
        "df['inputs'] = df.inputs.str.lower()\n",
        "dds = get_dds(df)\n",
        "get_trainer(dds).train()"
      ],
      "metadata": {
        "colab": {
          "base_uri": "https://localhost:8080/",
          "height": 268,
          "referenced_widgets": [
            "1bcd75fb419746c9b071eeb5af3db37c",
            "1ebbb301df75408aab38d12c551bead8",
            "20eaecadc0a24d3597bc879dc6bd0f76",
            "af71dec6533b4b5f9efef4e662304ef4",
            "5b3e6a5d6e4c4805a8adf46c0fc26fe7",
            "e674340b58f7448abb7601813138725b",
            "0307ebeb2b824a88af13bd8a5556f14e",
            "9aef021d6e1741aba96d97a9db34147c",
            "e321f56e4b354e61a03c9d7050828e5e",
            "c95a99e413614c4d8a4e638c5abf9aa3",
            "cb9415c8e75a451090b2e5e93375557b"
          ]
        },
        "id": "MEEcM9Th1Ggm",
        "outputId": "6224226b-f1ce-4342-9f29-e88783066c34"
      },
      "execution_count": 60,
      "outputs": [
        {
          "output_type": "display_data",
          "data": {
            "text/plain": [
              "  0%|          | 0/37 [00:00<?, ?ba/s]"
            ],
            "application/vnd.jupyter.widget-view+json": {
              "version_major": 2,
              "version_minor": 0,
              "model_id": "1bcd75fb419746c9b071eeb5af3db37c"
            }
          },
          "metadata": {}
        },
        {
          "output_type": "display_data",
          "data": {
            "text/plain": [
              "<IPython.core.display.HTML object>"
            ],
            "text/html": [
              "\n",
              "    <div>\n",
              "      \n",
              "      <progress value='856' max='856' style='width:300px; height:20px; vertical-align: middle;'></progress>\n",
              "      [856/856 04:09, Epoch 4/4]\n",
              "    </div>\n",
              "    <table border=\"1\" class=\"dataframe\">\n",
              "  <thead>\n",
              " <tr style=\"text-align: left;\">\n",
              "      <th>Epoch</th>\n",
              "      <th>Training Loss</th>\n",
              "      <th>Validation Loss</th>\n",
              "      <th>Pearson</th>\n",
              "    </tr>\n",
              "  </thead>\n",
              "  <tbody>\n",
              "    <tr>\n",
              "      <td>1</td>\n",
              "      <td>No log</td>\n",
              "      <td>0.025104</td>\n",
              "      <td>0.796881</td>\n",
              "    </tr>\n",
              "    <tr>\n",
              "      <td>2</td>\n",
              "      <td>No log</td>\n",
              "      <td>0.025482</td>\n",
              "      <td>0.814916</td>\n",
              "    </tr>\n",
              "    <tr>\n",
              "      <td>3</td>\n",
              "      <td>0.031400</td>\n",
              "      <td>0.022966</td>\n",
              "      <td>0.821749</td>\n",
              "    </tr>\n",
              "    <tr>\n",
              "      <td>4</td>\n",
              "      <td>0.031400</td>\n",
              "      <td>0.023986</td>\n",
              "      <td>0.820986</td>\n",
              "    </tr>\n",
              "  </tbody>\n",
              "</table><p>"
            ]
          },
          "metadata": {}
        },
        {
          "output_type": "execute_result",
          "data": {
            "text/plain": [
              "TrainOutput(global_step=856, training_loss=0.02367370039503151, metrics={'train_runtime': 250.2231, 'train_samples_per_second': 437.322, 'train_steps_per_second': 3.421, 'total_flos': 582440534448480.0, 'train_loss': 0.02367370039503151, 'epoch': 4.0})"
            ]
          },
          "metadata": {},
          "execution_count": 60
        }
      ]
    },
    {
      "cell_type": "markdown",
      "source": [
        "### 新方案的尝试3- 为context首字母制作special token\n"
      ],
      "metadata": {
        "id": "gRMPL7n11B_I"
      }
    },
    {
      "cell_type": "code",
      "source": [
        "df['sectok'] = '[' + df.section + ']'\n",
        "sectoks = list(df.sectok.unique())\n",
        "tokz.add_special_tokens({'additional_special_tokens': sectoks})"
      ],
      "metadata": {
        "colab": {
          "base_uri": "https://localhost:8080/"
        },
        "id": "exy5X9Ha6XoS",
        "outputId": "e3bc9f5b-4038-4cf9-df58-5d7452ca4817"
      },
      "execution_count": 61,
      "outputs": [
        {
          "output_type": "execute_result",
          "data": {
            "text/plain": [
              "8"
            ]
          },
          "metadata": {},
          "execution_count": 61
        }
      ]
    },
    {
      "cell_type": "markdown",
      "source": [
        "整合三种方案：分割符+小写+special token"
      ],
      "metadata": {
        "id": "Gnc-nNJd6g3I"
      }
    },
    {
      "cell_type": "code",
      "source": [
        "df['inputs'] = df.sectok + sep + df.context + sep + df.anchor.str.lower() + sep + df.target\n",
        "dds = get_dds(df)"
      ],
      "metadata": {
        "colab": {
          "base_uri": "https://localhost:8080/",
          "height": 49,
          "referenced_widgets": [
            "998546bb6fc24cd7bac1ed025c91bb09",
            "4c6eea1d2ec54cb6866727964cd21eec",
            "4b3c28965e90408082bd62431afd9222",
            "fff46c814ede4a0183bd7ae370283c7e",
            "2d6664f189ee4ff29b57aa0146a12015",
            "44e74629fa1d4f0a8e30aeb6fecb78d8",
            "97f077f590214be5998c1ad070f73505",
            "36e7cd1e4c1f478a977f7c259f138ab4",
            "534442db0ea34748a68a84a8c1a67635",
            "884ff3c388384906aee28e7759cc057c",
            "1341fb74b8b3456c8d4e39d755f1c46d"
          ]
        },
        "id": "l8j2-cBH6gbJ",
        "outputId": "8fda8461-994d-4a8b-dcf6-72d7ea1ecb81"
      },
      "execution_count": 62,
      "outputs": [
        {
          "output_type": "display_data",
          "data": {
            "text/plain": [
              "  0%|          | 0/37 [00:00<?, ?ba/s]"
            ],
            "application/vnd.jupyter.widget-view+json": {
              "version_major": 2,
              "version_minor": 0,
              "model_id": "998546bb6fc24cd7bac1ed025c91bb09"
            }
          },
          "metadata": {}
        }
      ]
    },
    {
      "cell_type": "markdown",
      "source": [
        "Since we've added more tokens, we need to resize the embedding matrix in the model"
      ],
      "metadata": {
        "id": "OT6X6b_d6vb6"
      }
    },
    {
      "cell_type": "code",
      "source": [
        "model = get_model()\n",
        "model.resize_token_embeddings(len(tokz))"
      ],
      "metadata": {
        "colab": {
          "base_uri": "https://localhost:8080/"
        },
        "id": "Ouuepaao6rMi",
        "outputId": "6a914b3b-1ff2-4022-f9c4-9937c83168bc"
      },
      "execution_count": 63,
      "outputs": [
        {
          "output_type": "execute_result",
          "data": {
            "text/plain": [
              "Embedding(128009, 768)"
            ]
          },
          "metadata": {},
          "execution_count": 63
        }
      ]
    },
    {
      "cell_type": "code",
      "source": [
        "trainer = get_trainer(dds, model=model)\n",
        "trainer.train()"
      ],
      "metadata": {
        "colab": {
          "base_uri": "https://localhost:8080/",
          "height": 236
        },
        "id": "vNyUnEtc60gY",
        "outputId": "2a94f00d-7a61-4e27-8282-dd60c161359d"
      },
      "execution_count": 64,
      "outputs": [
        {
          "output_type": "display_data",
          "data": {
            "text/plain": [
              "<IPython.core.display.HTML object>"
            ],
            "text/html": [
              "\n",
              "    <div>\n",
              "      \n",
              "      <progress value='856' max='856' style='width:300px; height:20px; vertical-align: middle;'></progress>\n",
              "      [856/856 04:30, Epoch 4/4]\n",
              "    </div>\n",
              "    <table border=\"1\" class=\"dataframe\">\n",
              "  <thead>\n",
              " <tr style=\"text-align: left;\">\n",
              "      <th>Epoch</th>\n",
              "      <th>Training Loss</th>\n",
              "      <th>Validation Loss</th>\n",
              "      <th>Pearson</th>\n",
              "    </tr>\n",
              "  </thead>\n",
              "  <tbody>\n",
              "    <tr>\n",
              "      <td>1</td>\n",
              "      <td>No log</td>\n",
              "      <td>0.024854</td>\n",
              "      <td>0.797081</td>\n",
              "    </tr>\n",
              "    <tr>\n",
              "      <td>2</td>\n",
              "      <td>No log</td>\n",
              "      <td>0.025419</td>\n",
              "      <td>0.816822</td>\n",
              "    </tr>\n",
              "    <tr>\n",
              "      <td>3</td>\n",
              "      <td>0.031700</td>\n",
              "      <td>0.023269</td>\n",
              "      <td>0.821949</td>\n",
              "    </tr>\n",
              "    <tr>\n",
              "      <td>4</td>\n",
              "      <td>0.031700</td>\n",
              "      <td>0.023581</td>\n",
              "      <td>0.823755</td>\n",
              "    </tr>\n",
              "  </tbody>\n",
              "</table><p>"
            ]
          },
          "metadata": {}
        },
        {
          "output_type": "execute_result",
          "data": {
            "text/plain": [
              "TrainOutput(global_step=856, training_loss=0.023764223695915437, metrics={'train_runtime': 270.4723, 'train_samples_per_second': 404.581, 'train_steps_per_second': 3.165, 'total_flos': 695689755831360.0, 'train_loss': 0.023764223695915437, 'epoch': 4.0})"
            ]
          },
          "metadata": {},
          "execution_count": 64
        }
      ]
    },
    {
      "cell_type": "markdown",
      "source": [
        "![image.png](data:image/png;base64,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)"
      ],
      "metadata": {
        "id": "kvV02CtC9mzd"
      }
    },
    {
      "cell_type": "markdown",
      "source": [
        "## Cross-validation \n",
        "上面的各种新方案尝试是只在一个validation set上的，我们可以用交叉验证来获得更加稳定和全面的结果！"
      ],
      "metadata": {
        "id": "T_fw3ROe99gn"
      }
    },
    {
      "cell_type": "code",
      "source": [
        "# 注意这里用到了StratifiedGroupKFold，并用anchor作为group. 这能保证anchor在train和test时不会overlap\n",
        "from sklearn.model_selection import StratifiedGroupKFold\n",
        "n_folds = 4\n",
        "cv = StratifiedGroupKFold(n_splits=n_folds)"
      ],
      "metadata": {
        "id": "AvsUoPXC9ykx"
      },
      "execution_count": 65,
      "outputs": []
    },
    {
      "cell_type": "code",
      "source": [
        "df = df.sample(frac=1, random_state=42)\n",
        "scores = (df.score*100).astype(int)\n",
        "folds = list(cv.split(idxs, scores, df.anchor))\n",
        "folds"
      ],
      "metadata": {
        "colab": {
          "base_uri": "https://localhost:8080/"
        },
        "id": "64xeHSxa-OLU",
        "outputId": "e13568ae-3343-4bc1-b36b-1df004dafec9"
      },
      "execution_count": 66,
      "outputs": [
        {
          "output_type": "execute_result",
          "data": {
            "text/plain": [
              "[(array([    0,     1,     2, ..., 36469, 36471, 36472]),\n",
              "  array([    8,    13,    14, ..., 36453, 36464, 36470])),\n",
              " (array([    0,     1,     5, ..., 36470, 36471, 36472]),\n",
              "  array([    2,     3,     4, ..., 36459, 36461, 36462])),\n",
              " (array([    1,     2,     3, ..., 36467, 36470, 36472]),\n",
              "  array([    0,     7,    11, ..., 36468, 36469, 36471])),\n",
              " (array([    0,     2,     3, ..., 36469, 36470, 36471]),\n",
              "  array([    1,     5,     9, ..., 36465, 36467, 36472]))]"
            ]
          },
          "metadata": {},
          "execution_count": 66
        }
      ]
    },
    {
      "cell_type": "code",
      "source": [
        "def get_fold(folds, fold_num):\n",
        "    trn,val = folds[fold_num]\n",
        "    return DatasetDict({\"train\":tok_ds.select(trn), \"test\": tok_ds.select(val)})"
      ],
      "metadata": {
        "id": "K7saeFC1G7Se"
      },
      "execution_count": 67,
      "outputs": []
    },
    {
      "cell_type": "code",
      "source": [
        "dds = get_fold(folds, 0)\n",
        "dds"
      ],
      "metadata": {
        "colab": {
          "base_uri": "https://localhost:8080/"
        },
        "id": "I2KlAENAG7s7",
        "outputId": "0ae06b00-d557-489b-a587-5f49227bc85f"
      },
      "execution_count": 68,
      "outputs": [
        {
          "output_type": "execute_result",
          "data": {
            "text/plain": [
              "DatasetDict({\n",
              "    train: Dataset({\n",
              "        features: ['label', 'input_ids', 'token_type_ids', 'attention_mask'],\n",
              "        num_rows: 27346\n",
              "    })\n",
              "    test: Dataset({\n",
              "        features: ['label', 'input_ids', 'token_type_ids', 'attention_mask'],\n",
              "        num_rows: 9127\n",
              "    })\n",
              "})"
            ]
          },
          "metadata": {},
          "execution_count": 68
        }
      ]
    },
    {
      "cell_type": "markdown",
      "source": [
        "![image.png](data:image/png;base64,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)"
      ],
      "metadata": {
        "id": "MXs6EymOHOaw"
      }
    },
    {
      "cell_type": "code",
      "source": [
        "metrics = [o['eval_pearson'] for o in trainer.state.log_history if 'eval_pearson' in o]\n",
        "metrics[-1]"
      ],
      "metadata": {
        "colab": {
          "base_uri": "https://localhost:8080/"
        },
        "id": "-dib4Ju2HPZk",
        "outputId": "24e5347e-fcf0-49f4-fb17-d41d18d76c03"
      },
      "execution_count": 69,
      "outputs": [
        {
          "output_type": "execute_result",
          "data": {
            "text/plain": [
              "0.8237549786571815"
            ]
          },
          "metadata": {},
          "execution_count": 69
        }
      ]
    }
  ]
}